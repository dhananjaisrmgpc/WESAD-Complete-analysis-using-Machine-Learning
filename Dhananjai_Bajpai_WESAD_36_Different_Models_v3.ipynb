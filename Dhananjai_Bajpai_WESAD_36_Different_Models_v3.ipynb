{
 "cells": [
  {
   "cell_type": "code",
   "execution_count": null,
   "metadata": {},
   "outputs": [],
   "source": [
    "\n",
    "a)\n",
    "Data Set DescriptionExplain in detail the dataset: attributes, input variables, \n",
    "    output variable (only one),data types, missing data, (DUE: APRIL 3-Textbox entry on Canvas )\n",
    "    \n",
    "b)\n",
    "Data Set VisualizationVisualizeyour data with appropriate plot.  \n",
    "    See Hands-on Machine Learning with ScikitLearn & TensorFlow (Pages 40-58)\n",
    "    (DUE: APRIL 10–Upload the code with comments ) \"+PCA\"\n",
    "    \n",
    "c)\n",
    "Data Set CleaningClean your data. \n",
    "    See Hands-on Machine Learning with ScikitLearn & TensorFlow (Pages 59-66)\n",
    "    Describe how you have handled the outliers if there exists any. \n",
    "\n",
    "d)\n",
    "Related WorkDescribe at least one paper that has used this dataset. \n",
    "    UCI website lists    related papers for each dataset.  \n",
    "    What problem did the paper solve? How did they use the data set? \n",
    "    What results they obtained? Etc\n",
    "    \n",
    "e)\n",
    "Feature ExtractionExtract (eliminate) features using different methods we learned in class\n",
    "\n",
    "f)\n",
    "Model developmentSelect and train at least FOURdifferent classification models (models should be part of \n",
    "    course syllabus, see the list below for possible models). \n",
    "\n",
    "g)\n",
    "Fine-tune your models & Feature Set:Evaluate your models using test set. \n",
    "        Fine-tune your model, and optimize feature set. \n",
    "    \n",
    "e)\n",
    "Performance: Measure the performanceof your classifiers using different metrics"
   ]
  },
  {
   "cell_type": "code",
   "execution_count": 1,
   "metadata": {},
   "outputs": [],
   "source": [
    "#%matplotlib inline\n",
    "import pickle\n",
    "import numpy as np\n",
    "import pandas as pd\n",
    "import matplotlib\n",
    "import matplotlib.pyplot as plt\n",
    "import pandas as pd\n",
    "import csv\n",
    "from sklearn.model_selection import train_test_split\n",
    "\n",
    "#from sklearn.datasets import fetch_mldata\n",
    "import seaborn as sns\n",
    "import sklearn as sklearn\n",
    "from sklearn.neighbors import KNeighborsClassifier\n",
    "import sklearn.linear_model as skl_lm\n",
    "from sklearn.discriminant_analysis import LinearDiscriminantAnalysis\n",
    "from sklearn.discriminant_analysis import QuadraticDiscriminantAnalysis\n",
    "from sklearn.metrics import accuracy_score\n",
    "from sklearn.metrics import confusion_matrix\n",
    "from sklearn.metrics import roc_curve\n",
    "from sklearn.metrics import classification_report\n",
    "\n",
    "from sklearn.model_selection import cross_val_score\n",
    "from sklearn.model_selection import cross_val_predict\n",
    "from sklearn.tree import DecisionTreeClassifier # Import Decision Tree Classifier\n",
    "\n",
    "import graphviz \n",
    "import statsmodels.api as sm\n",
    "from sklearn import tree\n",
    "import xgboost as xgb\n",
    "from sklearn.decomposition import PCA"
   ]
  },
  {
   "cell_type": "code",
   "execution_count": null,
   "metadata": {},
   "outputs": [],
   "source": []
  },
  {
   "cell_type": "code",
   "execution_count": 2,
   "metadata": {},
   "outputs": [
    {
     "data": {
      "text/plain": [
       "\"\\nwith open(s3_path, 'rb') as file:\\n    s3_data = pickle.load(file, encoding='latin1')\\n    \\nwith open(s4_path, 'rb') as file:\\n    s2_data = pickle.load(file, encoding='latin1')\\nwith open(s5_path, 'rb') as file:\\n    s2_data = pickle.load(file, encoding='latin1')\\nwith open(s6_path, 'rb') as file:\\n    s2_data = pickle.load(file, encoding='latin1')\\nwith open(s17_path, 'rb') as file:\\n    s2_data = pickle.load(file, encoding='latin1')\\n\""
      ]
     },
     "execution_count": 2,
     "metadata": {},
     "output_type": "execute_result"
    }
   ],
   "source": [
    "\n",
    "data_set = '/home/dhananjai/Downloads/Spring_2020/Machine_Learning/ML_Project/dataset/WESAD/'\n",
    "s2_path = data_set + 'S2/S2.pkl'\n",
    "#DO-NOT enable all at once otherwise Laptop goes to sleep due to very huge data size.\n",
    "#s3_path = data_set + 'S3/S3.pkl'\n",
    "#s4_path = data_set + 'S4/S4.pkl'\n",
    "#s5_path = data_set + 'S5/S5.pkl'\n",
    "#s6_path = data_set + 'S6/S6.pkl'\n",
    "#s7_path = data_set + 'S7/S7.pkl\n",
    "#s8_path = data_set + 'S8/S8.pkl'\n",
    "#s9_path = data_set + 'S9/S9.pkl'\n",
    "#s10_path = data_set + 'S10/S10.pkl'\n",
    "#s11_path = data_set + 'S11/S11.pkl'\n",
    "#s13_path = data_set + 'S13/S13.pkl'\n",
    "#s14_path = data_set + 'S14/S14.pkl'\n",
    "#s15_path = data_set + 'S15/S15.pkl'\n",
    "#s16_path = data_set + 'S16/S16.pkl'\n",
    "#s17_path = data_set + 'S17/S17.pkl'\n",
    "\n",
    "with open(s2_path, 'rb') as file:\n",
    "    s2_data = pickle.load(file, encoding='latin1')\n",
    "'''\n",
    "with open(s3_path, 'rb') as file:\n",
    "    s3_data = pickle.load(file, encoding='latin1')\n",
    "    \n",
    "with open(s4_path, 'rb') as file:\n",
    "    s2_data = pickle.load(file, encoding='latin1')\n",
    "with open(s5_path, 'rb') as file:\n",
    "    s2_data = pickle.load(file, encoding='latin1')\n",
    "with open(s6_path, 'rb') as file:\n",
    "    s2_data = pickle.load(file, encoding='latin1')\n",
    "with open(s17_path, 'rb') as file:\n",
    "    s2_data = pickle.load(file, encoding='latin1')\n",
    "'''"
   ]
  },
  {
   "cell_type": "code",
   "execution_count": 3,
   "metadata": {},
   "outputs": [
    {
     "data": {
      "text/plain": [
       "'\\nc_ax= np.append((s2_data[\\'signal\\'][\\'chest\\'][\\'ACC\\'][0:,0]),s3_data[\\'signal\\'][\\'chest\\'][\\'ACC\\'][0:,0])\\nc_ay=np.append((s2_data[\\'signal\\'][\\'chest\\'][\\'ACC\\'][0:,1]),s3_data[\\'signal\\'][\\'chest\\'][\\'ACC\\'][0:,1])\\nc_az=np.append((s2_data[\\'signal\\'][\\'chest\\'][\\'ACC\\'][0:,2]),s3_data[\\'signal\\'][\\'chest\\'][\\'ACC\\'][0:,2])\\nc_ecg=np.append((s2_data[\\'signal\\'][\\'chest\\'][\\'ECG\\'][:,0]),s3_data[\\'signal\\'][\\'chest\\'][\\'ECG\\'][:,0])\\nc_emg=np.append((s2_data[\\'signal\\'][\\'chest\\'][\\'EMG\\'][:,0]),s3_data[\\'signal\\'][\\'chest\\'][\\'EMG\\'][:,0])\\nc_eda=np.append((s2_data[\\'signal\\'][\\'chest\\'][\\'EDA\\'][:,0]),s3_data[\\'signal\\'][\\'chest\\'][\\'EDA\\'][:,0])\\nc_temp=np.append((s2_data[\\'signal\\'][\\'chest\\'][\\'Temp\\'][:,0]),s3_data[\\'signal\\'][\\'chest\\'][\\'Temp\\'][:,0])\\nc_resp=np.append((s2_data[\\'signal\\'][\\'chest\\'][\\'Resp\\'][:,0]),s3_data[\\'signal\\'][\\'chest\\'][\\'Resp\\'][:,0])\\nw_ax=np.append((s2_data[\\'signal\\'][\\'wrist\\'][\\'ACC\\'][0:,0]),s3_data[\\'signal\\'][\\'wrist\\'][\\'ACC\\'][0:,0])\\nw_ay=np.append((s2_data[\\'signal\\'][\\'wrist\\'][\\'ACC\\'][0:,1]),s3_data[\\'signal\\'][\\'wrist\\'][\\'ACC\\'][0:,1])\\nw_az=np.append((s2_data[\\'signal\\'][\\'wrist\\'][\\'ACC\\'][0:,2]),s3_data[\\'signal\\'][\\'wrist\\'][\\'ACC\\'][0:,2])\\nw_bvp=np.append((s2_data[\\'signal\\'][\\'wrist\\'][\\'BVP\\'][:,0]),s3_data[\\'signal\\'][\\'wrist\\'][\\'BVP\\'][:,0])\\nw_eda=np.append((s2_data[\\'signal\\'][\\'wrist\\'][\\'EDA\\'][:,0]),s3_data[\\'signal\\'][\\'wrist\\'][\\'EDA\\'][:,0])\\nw_temp=np.append((s2_data[\\'signal\\'][\\'wrist\\'][\\'TEMP\\'][:,0]),s3_data[\\'signal\\'][\\'wrist\\'][\\'TEMP\\'][:,0])\\nw_label=np.append(s2_data[\\'label\\'],s3_data[\\'label\\'])\\n\\nprint(\"Equated\")\\n'"
      ]
     },
     "execution_count": 3,
     "metadata": {},
     "output_type": "execute_result"
    }
   ],
   "source": [
    "#DO-NOT use this cell, Laptop goes to sleep due to very huge data size.\n",
    "'''\n",
    "c_ax= np.append((s2_data['signal']['chest']['ACC'][0:,0]),s3_data['signal']['chest']['ACC'][0:,0])\n",
    "c_ay=np.append((s2_data['signal']['chest']['ACC'][0:,1]),s3_data['signal']['chest']['ACC'][0:,1])\n",
    "c_az=np.append((s2_data['signal']['chest']['ACC'][0:,2]),s3_data['signal']['chest']['ACC'][0:,2])\n",
    "c_ecg=np.append((s2_data['signal']['chest']['ECG'][:,0]),s3_data['signal']['chest']['ECG'][:,0])\n",
    "c_emg=np.append((s2_data['signal']['chest']['EMG'][:,0]),s3_data['signal']['chest']['EMG'][:,0])\n",
    "c_eda=np.append((s2_data['signal']['chest']['EDA'][:,0]),s3_data['signal']['chest']['EDA'][:,0])\n",
    "c_temp=np.append((s2_data['signal']['chest']['Temp'][:,0]),s3_data['signal']['chest']['Temp'][:,0])\n",
    "c_resp=np.append((s2_data['signal']['chest']['Resp'][:,0]),s3_data['signal']['chest']['Resp'][:,0])\n",
    "w_ax=np.append((s2_data['signal']['wrist']['ACC'][0:,0]),s3_data['signal']['wrist']['ACC'][0:,0])\n",
    "w_ay=np.append((s2_data['signal']['wrist']['ACC'][0:,1]),s3_data['signal']['wrist']['ACC'][0:,1])\n",
    "w_az=np.append((s2_data['signal']['wrist']['ACC'][0:,2]),s3_data['signal']['wrist']['ACC'][0:,2])\n",
    "w_bvp=np.append((s2_data['signal']['wrist']['BVP'][:,0]),s3_data['signal']['wrist']['BVP'][:,0])\n",
    "w_eda=np.append((s2_data['signal']['wrist']['EDA'][:,0]),s3_data['signal']['wrist']['EDA'][:,0])\n",
    "w_temp=np.append((s2_data['signal']['wrist']['TEMP'][:,0]),s3_data['signal']['wrist']['TEMP'][:,0])\n",
    "w_label=np.append(s2_data['label'],s3_data['label'])\n",
    "\n",
    "print(\"Equated\")\n",
    "'''"
   ]
  },
  {
   "cell_type": "code",
   "execution_count": 3,
   "metadata": {},
   "outputs": [
    {
     "name": "stdout",
     "output_type": "stream",
     "text": [
      "Equated\n"
     ]
    }
   ],
   "source": [
    "c_ax=s2_data['signal']['chest']['ACC'][0:,0]#[baseline_to_plot]\n",
    "c_ay=s2_data['signal']['chest']['ACC'][0:,1]#[baseline_to_plot]#[0:100] # hundred values\n",
    "c_az=s2_data['signal']['chest']['ACC'][0:,2]#[baseline_to_plot]\n",
    "c_ecg=s2_data['signal']['chest']['ECG'][:,0]#[baseline_to_plot]\n",
    "c_emg=s2_data['signal']['chest']['EMG'][:,0]#[baseline_to_plot]\n",
    "c_eda=s2_data['signal']['chest']['EDA'][:,0]#[baseline_to_plot]\n",
    "c_temp=s2_data['signal']['chest']['Temp'][:,0]#[baseline_to_plot]\n",
    "c_resp=s2_data['signal']['chest']['Resp'][:,0]#[baseline_to_plot]\n",
    "w_ax=s2_data['signal']['wrist']['ACC'][0:,0]#[stress_to_plot]\n",
    "w_ay=s2_data['signal']['wrist']['ACC'][0:,1]#[stress_to_plot]\n",
    "w_az=s2_data['signal']['wrist']['ACC'][0:,2]#[stress_to_plot]\n",
    "w_bvp=s2_data['signal']['wrist']['BVP'][:,0]#[stress_to_plot]\n",
    "w_eda=s2_data['signal']['wrist']['EDA'][:,0]#[stress_to_plot]\n",
    "w_temp=s2_data['signal']['wrist']['TEMP'][:,0]#[stress_to_plot]\n",
    "w_label=s2_data['label']\n",
    "\n",
    "print(\"Equated\")"
   ]
  },
  {
   "cell_type": "code",
   "execution_count": null,
   "metadata": {},
   "outputs": [],
   "source": []
  },
  {
   "cell_type": "code",
   "execution_count": 4,
   "metadata": {},
   "outputs": [
    {
     "name": "stdout",
     "output_type": "stream",
     "text": [
      "data frame combined\n"
     ]
    }
   ],
   "source": [
    "numpy_data1=np.array([c_ax, c_ay, c_az,c_ecg,c_emg,c_eda,c_temp,c_resp,w_label])\n",
    "numpy_data1=numpy_data1.T\n",
    "\n",
    "#df = pd.DataFrame(data=numpy_data1, columns=[\"c_ax\", \"c_ay\", \"c_az\",\"c_ecg\",\"c_emg\",\"c_eda\",\"c_temp\",\"c_resp\",\"w_ax\",\"w_ay\",\"w_az\",\"w_bvp\",\"w_eda\",\"w_temp\"],orient='index') \n",
    "df = pd.DataFrame(data=numpy_data1, columns=[\"c_ax\", \"c_ay\", \"c_az\",\"c_ecg\",\"c_emg\",\"c_eda\",\"c_temp\",\"c_resp\",\"w_label\"]) \n",
    "\n",
    "print(\"data frame combined\")\n",
    "\n"
   ]
  },
  {
   "cell_type": "code",
   "execution_count": 5,
   "metadata": {},
   "outputs": [
    {
     "data": {
      "text/plain": [
       "(4255300, 9)"
      ]
     },
     "metadata": {},
     "output_type": "display_data"
    },
    {
     "data": {
      "text/plain": [
       "<bound method DataFrame.info of            c_ax    c_ay    c_az     c_ecg     c_emg     c_eda     c_temp  \\\n",
       "0        0.9554 -0.2220 -0.5580  0.021423 -0.004440  5.250549  30.120758   \n",
       "1        0.9258 -0.2216 -0.5538  0.020325  0.004349  5.267334  30.129517   \n",
       "2        0.9082 -0.2196 -0.5392  0.016525  0.005173  5.243301  30.138214   \n",
       "3        0.8974 -0.2102 -0.5122  0.016708  0.007187  5.249405  30.129517   \n",
       "4        0.8882 -0.2036 -0.4824  0.011673 -0.015152  5.286407  30.130951   \n",
       "...         ...     ...     ...       ...       ...       ...        ...   \n",
       "4255295  0.8750 -0.1234 -0.2974 -0.013138  0.020370  0.400162  31.457733   \n",
       "4255296  0.8750 -0.1262 -0.2988 -0.010345  0.019592  0.355911  31.476898   \n",
       "4255297  0.8718 -0.1238 -0.3042 -0.005447 -0.017166  0.360489  31.459229   \n",
       "4255298  0.8730 -0.1234 -0.3026  0.000137 -0.028976  0.365829  31.484283   \n",
       "4255299  0.8702 -0.1220 -0.3022  0.004074 -0.023575  0.365448  31.456268   \n",
       "\n",
       "           c_resp  w_label  \n",
       "0       -1.148987      0.0  \n",
       "1       -1.124573      0.0  \n",
       "2       -1.152039      0.0  \n",
       "3       -1.158142      0.0  \n",
       "4       -1.161194      0.0  \n",
       "...           ...      ...  \n",
       "4255295 -1.063538      0.0  \n",
       "4255296 -1.106262      0.0  \n",
       "4255297 -1.103210      0.0  \n",
       "4255298 -1.086426      0.0  \n",
       "4255299 -1.097107      0.0  \n",
       "\n",
       "[4255300 rows x 9 columns]>"
      ]
     },
     "metadata": {},
     "output_type": "display_data"
    },
    {
     "data": {
      "text/plain": [
       "<bound method NDFrame.describe of            c_ax    c_ay    c_az     c_ecg     c_emg     c_eda     c_temp  \\\n",
       "0        0.9554 -0.2220 -0.5580  0.021423 -0.004440  5.250549  30.120758   \n",
       "1        0.9258 -0.2216 -0.5538  0.020325  0.004349  5.267334  30.129517   \n",
       "2        0.9082 -0.2196 -0.5392  0.016525  0.005173  5.243301  30.138214   \n",
       "3        0.8974 -0.2102 -0.5122  0.016708  0.007187  5.249405  30.129517   \n",
       "4        0.8882 -0.2036 -0.4824  0.011673 -0.015152  5.286407  30.130951   \n",
       "...         ...     ...     ...       ...       ...       ...        ...   \n",
       "4255295  0.8750 -0.1234 -0.2974 -0.013138  0.020370  0.400162  31.457733   \n",
       "4255296  0.8750 -0.1262 -0.2988 -0.010345  0.019592  0.355911  31.476898   \n",
       "4255297  0.8718 -0.1238 -0.3042 -0.005447 -0.017166  0.360489  31.459229   \n",
       "4255298  0.8730 -0.1234 -0.3026  0.000137 -0.028976  0.365829  31.484283   \n",
       "4255299  0.8702 -0.1220 -0.3022  0.004074 -0.023575  0.365448  31.456268   \n",
       "\n",
       "           c_resp  w_label  \n",
       "0       -1.148987      0.0  \n",
       "1       -1.124573      0.0  \n",
       "2       -1.152039      0.0  \n",
       "3       -1.158142      0.0  \n",
       "4       -1.161194      0.0  \n",
       "...           ...      ...  \n",
       "4255295 -1.063538      0.0  \n",
       "4255296 -1.106262      0.0  \n",
       "4255297 -1.103210      0.0  \n",
       "4255298 -1.086426      0.0  \n",
       "4255299 -1.097107      0.0  \n",
       "\n",
       "[4255300 rows x 9 columns]>"
      ]
     },
     "metadata": {},
     "output_type": "display_data"
    }
   ],
   "source": [
    "display(df.shape)\n",
    "display(df.info)\n",
    "display(df.describe)"
   ]
  },
  {
   "cell_type": "code",
   "execution_count": null,
   "metadata": {},
   "outputs": [],
   "source": []
  },
  {
   "cell_type": "code",
   "execution_count": 6,
   "metadata": {},
   "outputs": [
    {
     "name": "stdout",
     "output_type": "stream",
     "text": [
      "IQR is\n",
      " c_ax       0.271200\n",
      "c_ay       0.054000\n",
      "c_az       0.507400\n",
      "c_ecg      0.112335\n",
      "c_emg      0.012314\n",
      "c_eda      0.746918\n",
      "c_temp     1.240173\n",
      "c_resp     3.100586\n",
      "w_label    2.000000\n",
      "dtype: float64\n"
     ]
    }
   ],
   "source": [
    "Q1 = df.quantile(0.25)\n",
    "Q3 = df.quantile(0.75)\n",
    "IQR = Q3 - Q1\n",
    "print(\"IQR is\\n\", IQR)\n",
    "#print((df < (Q1 - 1.5 * IQR)) |(df > (Q3 + 1.5 * IQR)) )"
   ]
  },
  {
   "cell_type": "code",
   "execution_count": null,
   "metadata": {},
   "outputs": [],
   "source": []
  },
  {
   "cell_type": "code",
   "execution_count": 7,
   "metadata": {},
   "outputs": [
    {
     "name": "stdout",
     "output_type": "stream",
     "text": [
      "(2100456, 9)\n"
     ]
    }
   ],
   "source": [
    "df_out = df[~((df < (Q1 - 1.5 * IQR)) |(df > (Q3 + 1.5 * IQR))).any(axis=1)]\n",
    "print(df_out.shape)\n"
   ]
  },
  {
   "cell_type": "code",
   "execution_count": null,
   "metadata": {},
   "outputs": [],
   "source": []
  },
  {
   "cell_type": "code",
   "execution_count": 8,
   "metadata": {},
   "outputs": [],
   "source": [
    "#mean normalization \n",
    "norm_df_out=(df_out-df_out.mean())/df_out.std()\n",
    "#min-max normalization:\n",
    "#norm_df_out=(df_out-df_out.min())/(df_out.max()-df_out.min())\n",
    "\n",
    "norm_y = df_out.w_label #keep original labels Dont normalize labels\n",
    "norm_x = norm_df_out.drop('w_label',axis=1)\n",
    "\n",
    "\n",
    "norm_x_train,norm_x_test,norm_y_train,norm_y_test=train_test_split(norm_x,norm_y,test_size=0.2)\n"
   ]
  },
  {
   "cell_type": "code",
   "execution_count": 10,
   "metadata": {},
   "outputs": [
    {
     "data": {
      "text/html": [
       "<div>\n",
       "<style scoped>\n",
       "    .dataframe tbody tr th:only-of-type {\n",
       "        vertical-align: middle;\n",
       "    }\n",
       "\n",
       "    .dataframe tbody tr th {\n",
       "        vertical-align: top;\n",
       "    }\n",
       "\n",
       "    .dataframe thead th {\n",
       "        text-align: right;\n",
       "    }\n",
       "</style>\n",
       "<table border=\"1\" class=\"dataframe\">\n",
       "  <thead>\n",
       "    <tr style=\"text-align: right;\">\n",
       "      <th></th>\n",
       "      <th>c_ax</th>\n",
       "      <th>c_ay</th>\n",
       "      <th>c_az</th>\n",
       "      <th>c_ecg</th>\n",
       "      <th>c_emg</th>\n",
       "      <th>c_eda</th>\n",
       "      <th>c_temp</th>\n",
       "      <th>c_resp</th>\n",
       "      <th>w_label</th>\n",
       "    </tr>\n",
       "  </thead>\n",
       "  <tbody>\n",
       "    <tr>\n",
       "      <td>393691</td>\n",
       "      <td>-1.678430</td>\n",
       "      <td>2.251221</td>\n",
       "      <td>-1.593856</td>\n",
       "      <td>-0.326259</td>\n",
       "      <td>-0.675595</td>\n",
       "      <td>3.563482</td>\n",
       "      <td>-4.750996</td>\n",
       "      <td>-0.416753</td>\n",
       "      <td>-0.108962</td>\n",
       "    </tr>\n",
       "    <tr>\n",
       "      <td>394476</td>\n",
       "      <td>-1.697992</td>\n",
       "      <td>2.116280</td>\n",
       "      <td>-1.564093</td>\n",
       "      <td>-1.913346</td>\n",
       "      <td>-1.408406</td>\n",
       "      <td>3.553901</td>\n",
       "      <td>-4.753546</td>\n",
       "      <td>0.864869</td>\n",
       "      <td>-0.108962</td>\n",
       "    </tr>\n",
       "    <tr>\n",
       "      <td>395154</td>\n",
       "      <td>-1.710440</td>\n",
       "      <td>2.244120</td>\n",
       "      <td>-1.574550</td>\n",
       "      <td>0.843406</td>\n",
       "      <td>1.302484</td>\n",
       "      <td>3.587000</td>\n",
       "      <td>-4.748553</td>\n",
       "      <td>-0.731728</td>\n",
       "      <td>-0.108962</td>\n",
       "    </tr>\n",
       "    <tr>\n",
       "      <td>396635</td>\n",
       "      <td>-1.746005</td>\n",
       "      <td>1.952928</td>\n",
       "      <td>-1.606727</td>\n",
       "      <td>-1.452419</td>\n",
       "      <td>0.221203</td>\n",
       "      <td>3.586129</td>\n",
       "      <td>-4.753546</td>\n",
       "      <td>1.121464</td>\n",
       "      <td>-0.108962</td>\n",
       "    </tr>\n",
       "    <tr>\n",
       "      <td>402178</td>\n",
       "      <td>-1.712218</td>\n",
       "      <td>2.158892</td>\n",
       "      <td>-1.596269</td>\n",
       "      <td>0.766310</td>\n",
       "      <td>-0.537232</td>\n",
       "      <td>3.553901</td>\n",
       "      <td>-4.571494</td>\n",
       "      <td>0.949722</td>\n",
       "      <td>-0.108962</td>\n",
       "    </tr>\n",
       "  </tbody>\n",
       "</table>\n",
       "</div>"
      ],
      "text/plain": [
       "            c_ax      c_ay      c_az     c_ecg     c_emg     c_eda    c_temp  \\\n",
       "393691 -1.678430  2.251221 -1.593856 -0.326259 -0.675595  3.563482 -4.750996   \n",
       "394476 -1.697992  2.116280 -1.564093 -1.913346 -1.408406  3.553901 -4.753546   \n",
       "395154 -1.710440  2.244120 -1.574550  0.843406  1.302484  3.587000 -4.748553   \n",
       "396635 -1.746005  1.952928 -1.606727 -1.452419  0.221203  3.586129 -4.753546   \n",
       "402178 -1.712218  2.158892 -1.596269  0.766310 -0.537232  3.553901 -4.571494   \n",
       "\n",
       "          c_resp   w_label  \n",
       "393691 -0.416753 -0.108962  \n",
       "394476  0.864869 -0.108962  \n",
       "395154 -0.731728 -0.108962  \n",
       "396635  1.121464 -0.108962  \n",
       "402178  0.949722 -0.108962  "
      ]
     },
     "execution_count": 10,
     "metadata": {},
     "output_type": "execute_result"
    }
   ],
   "source": [
    "norm_df_out.head()"
   ]
  },
  {
   "cell_type": "code",
   "execution_count": 11,
   "metadata": {},
   "outputs": [
    {
     "data": {
      "text/html": [
       "<div>\n",
       "<style scoped>\n",
       "    .dataframe tbody tr th:only-of-type {\n",
       "        vertical-align: middle;\n",
       "    }\n",
       "\n",
       "    .dataframe tbody tr th {\n",
       "        vertical-align: top;\n",
       "    }\n",
       "\n",
       "    .dataframe thead th {\n",
       "        text-align: right;\n",
       "    }\n",
       "</style>\n",
       "<table border=\"1\" class=\"dataframe\">\n",
       "  <thead>\n",
       "    <tr style=\"text-align: right;\">\n",
       "      <th></th>\n",
       "      <th>c_ax</th>\n",
       "      <th>c_ay</th>\n",
       "      <th>c_az</th>\n",
       "      <th>c_ecg</th>\n",
       "      <th>c_emg</th>\n",
       "      <th>c_eda</th>\n",
       "      <th>c_temp</th>\n",
       "      <th>c_resp</th>\n",
       "      <th>w_label</th>\n",
       "    </tr>\n",
       "  </thead>\n",
       "  <tbody>\n",
       "    <tr>\n",
       "      <td>count</td>\n",
       "      <td>2.100456e+06</td>\n",
       "      <td>2.100456e+06</td>\n",
       "      <td>2.100456e+06</td>\n",
       "      <td>2.100456e+06</td>\n",
       "      <td>2.100456e+06</td>\n",
       "      <td>2.100456e+06</td>\n",
       "      <td>2.100456e+06</td>\n",
       "      <td>2.100456e+06</td>\n",
       "      <td>2.100456e+06</td>\n",
       "    </tr>\n",
       "    <tr>\n",
       "      <td>mean</td>\n",
       "      <td>9.147097e-17</td>\n",
       "      <td>4.681798e-17</td>\n",
       "      <td>-1.000565e-16</td>\n",
       "      <td>1.761763e-17</td>\n",
       "      <td>-1.131209e-17</td>\n",
       "      <td>8.919773e-17</td>\n",
       "      <td>-2.726322e-15</td>\n",
       "      <td>-1.807770e-17</td>\n",
       "      <td>-5.564033e-16</td>\n",
       "    </tr>\n",
       "    <tr>\n",
       "      <td>std</td>\n",
       "      <td>1.000000e+00</td>\n",
       "      <td>1.000000e+00</td>\n",
       "      <td>1.000000e+00</td>\n",
       "      <td>1.000000e+00</td>\n",
       "      <td>1.000000e+00</td>\n",
       "      <td>1.000000e+00</td>\n",
       "      <td>1.000000e+00</td>\n",
       "      <td>1.000000e+00</td>\n",
       "      <td>1.000000e+00</td>\n",
       "    </tr>\n",
       "    <tr>\n",
       "      <td>min</td>\n",
       "      <td>-4.534372e+00</td>\n",
       "      <td>-3.814046e+00</td>\n",
       "      <td>-2.495604e+00</td>\n",
       "      <td>-2.629794e+00</td>\n",
       "      <td>-2.776663e+00</td>\n",
       "      <td>-1.856971e+00</td>\n",
       "      <td>-4.756042e+00</td>\n",
       "      <td>-2.715254e+00</td>\n",
       "      <td>-7.712019e-01</td>\n",
       "    </tr>\n",
       "    <tr>\n",
       "      <td>25%</td>\n",
       "      <td>-1.750292e-02</td>\n",
       "      <td>-6.535731e-01</td>\n",
       "      <td>-4.483708e-01</td>\n",
       "      <td>-5.757211e-01</td>\n",
       "      <td>-6.448473e-01</td>\n",
       "      <td>-7.211407e-01</td>\n",
       "      <td>-6.176719e-01</td>\n",
       "      <td>-7.154357e-01</td>\n",
       "      <td>-7.712019e-01</td>\n",
       "    </tr>\n",
       "    <tr>\n",
       "      <td>50%</td>\n",
       "      <td>4.164009e-01</td>\n",
       "      <td>-8.539912e-02</td>\n",
       "      <td>1.235676e-01</td>\n",
       "      <td>2.470093e-01</td>\n",
       "      <td>6.234153e-02</td>\n",
       "      <td>-1.995722e-02</td>\n",
       "      <td>-1.520821e-01</td>\n",
       "      <td>-1.092451e-01</td>\n",
       "      <td>-7.712019e-01</td>\n",
       "    </tr>\n",
       "    <tr>\n",
       "      <td>75%</td>\n",
       "      <td>6.226834e-01</td>\n",
       "      <td>5.537980e-01</td>\n",
       "      <td>5.812790e-01</td>\n",
       "      <td>6.049576e-01</td>\n",
       "      <td>6.619147e-01</td>\n",
       "      <td>3.711377e-01</td>\n",
       "      <td>7.266278e-01</td>\n",
       "      <td>7.331766e-01</td>\n",
       "      <td>5.532788e-01</td>\n",
       "    </tr>\n",
       "    <tr>\n",
       "      <td>max</td>\n",
       "      <td>4.150819e+00</td>\n",
       "      <td>3.856315e+00</td>\n",
       "      <td>3.420860e+00</td>\n",
       "      <td>2.775776e+00</td>\n",
       "      <td>2.732236e+00</td>\n",
       "      <td>3.596582e+00</td>\n",
       "      <td>3.874975e+00</td>\n",
       "      <td>2.802235e+00</td>\n",
       "      <td>1.877759e+00</td>\n",
       "    </tr>\n",
       "  </tbody>\n",
       "</table>\n",
       "</div>"
      ],
      "text/plain": [
       "               c_ax          c_ay          c_az         c_ecg         c_emg  \\\n",
       "count  2.100456e+06  2.100456e+06  2.100456e+06  2.100456e+06  2.100456e+06   \n",
       "mean   9.147097e-17  4.681798e-17 -1.000565e-16  1.761763e-17 -1.131209e-17   \n",
       "std    1.000000e+00  1.000000e+00  1.000000e+00  1.000000e+00  1.000000e+00   \n",
       "min   -4.534372e+00 -3.814046e+00 -2.495604e+00 -2.629794e+00 -2.776663e+00   \n",
       "25%   -1.750292e-02 -6.535731e-01 -4.483708e-01 -5.757211e-01 -6.448473e-01   \n",
       "50%    4.164009e-01 -8.539912e-02  1.235676e-01  2.470093e-01  6.234153e-02   \n",
       "75%    6.226834e-01  5.537980e-01  5.812790e-01  6.049576e-01  6.619147e-01   \n",
       "max    4.150819e+00  3.856315e+00  3.420860e+00  2.775776e+00  2.732236e+00   \n",
       "\n",
       "              c_eda        c_temp        c_resp       w_label  \n",
       "count  2.100456e+06  2.100456e+06  2.100456e+06  2.100456e+06  \n",
       "mean   8.919773e-17 -2.726322e-15 -1.807770e-17 -5.564033e-16  \n",
       "std    1.000000e+00  1.000000e+00  1.000000e+00  1.000000e+00  \n",
       "min   -1.856971e+00 -4.756042e+00 -2.715254e+00 -7.712019e-01  \n",
       "25%   -7.211407e-01 -6.176719e-01 -7.154357e-01 -7.712019e-01  \n",
       "50%   -1.995722e-02 -1.520821e-01 -1.092451e-01 -7.712019e-01  \n",
       "75%    3.711377e-01  7.266278e-01  7.331766e-01  5.532788e-01  \n",
       "max    3.596582e+00  3.874975e+00  2.802235e+00  1.877759e+00  "
      ]
     },
     "execution_count": 11,
     "metadata": {},
     "output_type": "execute_result"
    }
   ],
   "source": [
    "norm_df_out.describe()"
   ]
  },
  {
   "cell_type": "code",
   "execution_count": 12,
   "metadata": {},
   "outputs": [
    {
     "name": "stdout",
     "output_type": "stream",
     "text": [
      "<class 'pandas.core.frame.DataFrame'>\n",
      "Int64Index: 2100456 entries, 393691 to 4255299\n",
      "Data columns (total 9 columns):\n",
      "c_ax       float64\n",
      "c_ay       float64\n",
      "c_az       float64\n",
      "c_ecg      float64\n",
      "c_emg      float64\n",
      "c_eda      float64\n",
      "c_temp     float64\n",
      "c_resp     float64\n",
      "w_label    float64\n",
      "dtypes: float64(9)\n",
      "memory usage: 160.3 MB\n"
     ]
    }
   ],
   "source": [
    "norm_df_out.info()"
   ]
  },
  {
   "cell_type": "code",
   "execution_count": 14,
   "metadata": {},
   "outputs": [
    {
     "data": {
      "text/plain": [
       "(2100456, 9)"
      ]
     },
     "execution_count": 14,
     "metadata": {},
     "output_type": "execute_result"
    }
   ],
   "source": [
    "norm_df_out.shape"
   ]
  },
  {
   "cell_type": "code",
   "execution_count": 10,
   "metadata": {},
   "outputs": [
    {
     "data": {
      "image/png": "[encoded data removed]",
      "text/plain": [
       "<Figure size 864x720 with 2 Axes>"
      ]
     },
     "metadata": {},
     "output_type": "display_data"
    }
   ],
   "source": [
    "import seaborn as sns\n",
    "plt.figure(figsize=(12,10))\n",
    "cor = norm_x.corr()\n",
    "sns.heatmap(cor, annot=True, cmap=plt.cm.Reds)\n",
    "plt.show()"
   ]
  },
  {
   "cell_type": "code",
   "execution_count": null,
   "metadata": {},
   "outputs": [],
   "source": []
  },
  {
   "cell_type": "code",
   "execution_count": 12,
   "metadata": {},
   "outputs": [
    {
     "name": "stderr",
     "output_type": "stream",
     "text": [
      "/usr/local/lib/python3.6/dist-packages/numpy/core/fromnumeric.py:2495: FutureWarning: Method .ptp is deprecated and will be removed in a future version. Use numpy.ptp instead.\n",
      "  return ptp(axis=axis, out=out, **kwargs)\n"
     ]
    },
    {
     "data": {
      "text/plain": [
       "const     0.000000e+00\n",
       "c_ax      0.000000e+00\n",
       "c_ay      0.000000e+00\n",
       "c_az      0.000000e+00\n",
       "c_ecg     7.725890e-02\n",
       "c_emg     3.944850e-33\n",
       "c_eda     0.000000e+00\n",
       "c_temp    0.000000e+00\n",
       "c_resp    0.000000e+00\n",
       "dtype: float64"
      ]
     },
     "execution_count": 12,
     "metadata": {},
     "output_type": "execute_result"
    }
   ],
   "source": [
    "\n",
    "X_1 = sm.add_constant(norm_x)\n",
    "#Fitting sm.OLS model\n",
    "model = sm.OLS(norm_y,X_1).fit()\n",
    "model.pvalues"
   ]
  },
  {
   "cell_type": "code",
   "execution_count": 15,
   "metadata": {},
   "outputs": [
    {
     "data": {
      "text/plain": [
       "('c_ay', 'c_az', 'c_ecg', 'c_emg', 'c_eda', 'c_temp', 'c_resp')"
      ]
     },
     "execution_count": 15,
     "metadata": {},
     "output_type": "execute_result"
    }
   ],
   "source": [
    "#https://towardsdatascience.com/feature-selection-with-pandas-e3690ad8504b\n",
    "#https://towardsdatascience.com/feature-selection-using-wrapper-methods-in-python-f0d352b346f\n",
    "from mlxtend.feature_selection import SequentialFeatureSelector as SFS\n",
    "# Sequential Forward Selection(sfs)\n",
    "sfs = SFS(QuadraticDiscriminantAnalysis(),\n",
    "           k_features=7,\n",
    "           forward=True,\n",
    "           floating=False,\n",
    "           scoring = 'r2',\n",
    "           cv = 0)\n",
    "sfs.fit(norm_x, norm_y)\n",
    "sfs.k_feature_names_     # to get the final set of features"
   ]
  },
  {
   "cell_type": "code",
   "execution_count": 17,
   "metadata": {},
   "outputs": [
    {
     "data": {
      "text/plain": [
       "('c_ay', 'c_az', 'c_ecg', 'c_emg', 'c_eda', 'c_temp', 'c_resp')"
      ]
     },
     "execution_count": 17,
     "metadata": {},
     "output_type": "execute_result"
    }
   ],
   "source": [
    "sfs = SFS(QuadraticDiscriminantAnalysis(),\n",
    "           k_features=7,\n",
    "           forward=False,\n",
    "           floating=False,\n",
    "           scoring = 'r2',\n",
    "           cv = 0)\n",
    "sfs.fit(norm_x, norm_y)\n",
    "sfs.k_feature_names_     # to get the final set of features"
   ]
  },
  {
   "cell_type": "code",
   "execution_count": null,
   "metadata": {},
   "outputs": [],
   "source": []
  },
  {
   "cell_type": "code",
   "execution_count": 14,
   "metadata": {},
   "outputs": [
    {
     "data": {
      "text/html": [
       "<div>\n",
       "<style scoped>\n",
       "    .dataframe tbody tr th:only-of-type {\n",
       "        vertical-align: middle;\n",
       "    }\n",
       "\n",
       "    .dataframe tbody tr th {\n",
       "        vertical-align: top;\n",
       "    }\n",
       "\n",
       "    .dataframe thead th {\n",
       "        text-align: right;\n",
       "    }\n",
       "</style>\n",
       "<table border=\"1\" class=\"dataframe\">\n",
       "  <thead>\n",
       "    <tr style=\"text-align: right;\">\n",
       "      <th></th>\n",
       "      <th>c_ax</th>\n",
       "      <th>c_ay</th>\n",
       "      <th>c_az</th>\n",
       "      <th>c_ecg</th>\n",
       "      <th>c_emg</th>\n",
       "      <th>c_eda</th>\n",
       "      <th>c_temp</th>\n",
       "      <th>c_resp</th>\n",
       "    </tr>\n",
       "  </thead>\n",
       "  <tbody>\n",
       "    <tr>\n",
       "      <td>2415069</td>\n",
       "      <td>0.764946</td>\n",
       "      <td>2.727068</td>\n",
       "      <td>1.536118</td>\n",
       "      <td>2.743286</td>\n",
       "      <td>0.897644</td>\n",
       "      <td>0.805784</td>\n",
       "      <td>-1.376891</td>\n",
       "      <td>0.267503</td>\n",
       "    </tr>\n",
       "    <tr>\n",
       "      <td>2338746</td>\n",
       "      <td>0.379057</td>\n",
       "      <td>1.264016</td>\n",
       "      <td>0.166201</td>\n",
       "      <td>-0.429788</td>\n",
       "      <td>1.225616</td>\n",
       "      <td>0.348491</td>\n",
       "      <td>-0.090584</td>\n",
       "      <td>-1.882336</td>\n",
       "    </tr>\n",
       "    <tr>\n",
       "      <td>958141</td>\n",
       "      <td>-1.785128</td>\n",
       "      <td>1.214301</td>\n",
       "      <td>-1.637294</td>\n",
       "      <td>-2.462935</td>\n",
       "      <td>-0.480862</td>\n",
       "      <td>0.074115</td>\n",
       "      <td>3.443215</td>\n",
       "      <td>0.100512</td>\n",
       "    </tr>\n",
       "    <tr>\n",
       "      <td>1106172</td>\n",
       "      <td>-0.755496</td>\n",
       "      <td>0.170280</td>\n",
       "      <td>-1.025940</td>\n",
       "      <td>0.247009</td>\n",
       "      <td>-1.516022</td>\n",
       "      <td>0.456499</td>\n",
       "      <td>-0.655962</td>\n",
       "      <td>0.074038</td>\n",
       "    </tr>\n",
       "    <tr>\n",
       "      <td>1463535</td>\n",
       "      <td>0.320373</td>\n",
       "      <td>0.837886</td>\n",
       "      <td>0.139656</td>\n",
       "      <td>-1.638002</td>\n",
       "      <td>-1.044563</td>\n",
       "      <td>0.054081</td>\n",
       "      <td>-1.450550</td>\n",
       "      <td>0.604200</td>\n",
       "    </tr>\n",
       "    <tr>\n",
       "      <td>...</td>\n",
       "      <td>...</td>\n",
       "      <td>...</td>\n",
       "      <td>...</td>\n",
       "      <td>...</td>\n",
       "      <td>...</td>\n",
       "      <td>...</td>\n",
       "      <td>...</td>\n",
       "      <td>...</td>\n",
       "    </tr>\n",
       "    <tr>\n",
       "      <td>2429645</td>\n",
       "      <td>0.679589</td>\n",
       "      <td>-1.022887</td>\n",
       "      <td>0.460617</td>\n",
       "      <td>1.023482</td>\n",
       "      <td>-1.972108</td>\n",
       "      <td>0.763104</td>\n",
       "      <td>-1.035943</td>\n",
       "      <td>2.220482</td>\n",
       "    </tr>\n",
       "    <tr>\n",
       "      <td>3347430</td>\n",
       "      <td>0.663584</td>\n",
       "      <td>-0.909252</td>\n",
       "      <td>0.872477</td>\n",
       "      <td>-1.608264</td>\n",
       "      <td>0.087964</td>\n",
       "      <td>-0.628811</td>\n",
       "      <td>0.466615</td>\n",
       "      <td>-1.151241</td>\n",
       "    </tr>\n",
       "    <tr>\n",
       "      <td>1222469</td>\n",
       "      <td>-0.010390</td>\n",
       "      <td>0.773966</td>\n",
       "      <td>-0.519159</td>\n",
       "      <td>0.721153</td>\n",
       "      <td>1.855936</td>\n",
       "      <td>0.080212</td>\n",
       "      <td>0.392000</td>\n",
       "      <td>0.790198</td>\n",
       "    </tr>\n",
       "    <tr>\n",
       "      <td>3298215</td>\n",
       "      <td>0.622683</td>\n",
       "      <td>2.059462</td>\n",
       "      <td>1.836165</td>\n",
       "      <td>-1.864335</td>\n",
       "      <td>-0.439865</td>\n",
       "      <td>-0.812599</td>\n",
       "      <td>-0.059835</td>\n",
       "      <td>1.023035</td>\n",
       "    </tr>\n",
       "    <tr>\n",
       "      <td>2271795</td>\n",
       "      <td>-0.878197</td>\n",
       "      <td>-0.539938</td>\n",
       "      <td>-1.107990</td>\n",
       "      <td>0.484357</td>\n",
       "      <td>0.820776</td>\n",
       "      <td>0.720423</td>\n",
       "      <td>-0.786128</td>\n",
       "      <td>0.200299</td>\n",
       "    </tr>\n",
       "  </tbody>\n",
       "</table>\n",
       "<p>1680364 rows × 8 columns</p>\n",
       "</div>"
      ],
      "text/plain": [
       "             c_ax      c_ay      c_az     c_ecg     c_emg     c_eda    c_temp  \\\n",
       "2415069  0.764946  2.727068  1.536118  2.743286  0.897644  0.805784 -1.376891   \n",
       "2338746  0.379057  1.264016  0.166201 -0.429788  1.225616  0.348491 -0.090584   \n",
       "958141  -1.785128  1.214301 -1.637294 -2.462935 -0.480862  0.074115  3.443215   \n",
       "1106172 -0.755496  0.170280 -1.025940  0.247009 -1.516022  0.456499 -0.655962   \n",
       "1463535  0.320373  0.837886  0.139656 -1.638002 -1.044563  0.054081 -1.450550   \n",
       "...           ...       ...       ...       ...       ...       ...       ...   \n",
       "2429645  0.679589 -1.022887  0.460617  1.023482 -1.972108  0.763104 -1.035943   \n",
       "3347430  0.663584 -0.909252  0.872477 -1.608264  0.087964 -0.628811  0.466615   \n",
       "1222469 -0.010390  0.773966 -0.519159  0.721153  1.855936  0.080212  0.392000   \n",
       "3298215  0.622683  2.059462  1.836165 -1.864335 -0.439865 -0.812599 -0.059835   \n",
       "2271795 -0.878197 -0.539938 -1.107990  0.484357  0.820776  0.720423 -0.786128   \n",
       "\n",
       "           c_resp  \n",
       "2415069  0.267503  \n",
       "2338746 -1.882336  \n",
       "958141   0.100512  \n",
       "1106172  0.074038  \n",
       "1463535  0.604200  \n",
       "...           ...  \n",
       "2429645  2.220482  \n",
       "3347430 -1.151241  \n",
       "1222469  0.790198  \n",
       "3298215  1.023035  \n",
       "2271795  0.200299  \n",
       "\n",
       "[1680364 rows x 8 columns]"
      ]
     },
     "execution_count": 14,
     "metadata": {},
     "output_type": "execute_result"
    }
   ],
   "source": [
    "norm_x_train"
   ]
  },
  {
   "cell_type": "code",
   "execution_count": 15,
   "metadata": {},
   "outputs": [
    {
     "data": {
      "text/plain": [
       "2415069    0.0\n",
       "2338746    0.0\n",
       "958141     1.0\n",
       "1106172    0.0\n",
       "1463535    0.0\n",
       "          ... \n",
       "2429645    0.0\n",
       "3347430    3.0\n",
       "1222469    0.0\n",
       "3298215    0.0\n",
       "2271795    0.0\n",
       "Name: w_label, Length: 1680364, dtype: float64"
      ]
     },
     "execution_count": 15,
     "metadata": {},
     "output_type": "execute_result"
    }
   ],
   "source": [
    "norm_y_train"
   ]
  },
  {
   "cell_type": "code",
   "execution_count": 16,
   "metadata": {},
   "outputs": [
    {
     "data": {
      "text/html": [
       "<div>\n",
       "<style scoped>\n",
       "    .dataframe tbody tr th:only-of-type {\n",
       "        vertical-align: middle;\n",
       "    }\n",
       "\n",
       "    .dataframe tbody tr th {\n",
       "        vertical-align: top;\n",
       "    }\n",
       "\n",
       "    .dataframe thead th {\n",
       "        text-align: right;\n",
       "    }\n",
       "</style>\n",
       "<table border=\"1\" class=\"dataframe\">\n",
       "  <thead>\n",
       "    <tr style=\"text-align: right;\">\n",
       "      <th></th>\n",
       "      <th>c_ax</th>\n",
       "      <th>c_ay</th>\n",
       "      <th>c_az</th>\n",
       "      <th>c_ecg</th>\n",
       "      <th>c_emg</th>\n",
       "      <th>c_eda</th>\n",
       "      <th>c_temp</th>\n",
       "      <th>c_resp</th>\n",
       "    </tr>\n",
       "  </thead>\n",
       "  <tbody>\n",
       "    <tr>\n",
       "      <td>957523</td>\n",
       "      <td>-1.831363</td>\n",
       "      <td>1.384754</td>\n",
       "      <td>-1.619597</td>\n",
       "      <td>-1.611018</td>\n",
       "      <td>0.175082</td>\n",
       "      <td>0.081083</td>\n",
       "      <td>3.364350</td>\n",
       "      <td>1.025071</td>\n",
       "    </tr>\n",
       "    <tr>\n",
       "      <td>3188406</td>\n",
       "      <td>0.583561</td>\n",
       "      <td>-0.497324</td>\n",
       "      <td>0.432462</td>\n",
       "      <td>-0.189137</td>\n",
       "      <td>-1.562143</td>\n",
       "      <td>-0.566096</td>\n",
       "      <td>-0.064986</td>\n",
       "      <td>-0.544372</td>\n",
       "    </tr>\n",
       "    <tr>\n",
       "      <td>2784618</td>\n",
       "      <td>0.622683</td>\n",
       "      <td>-0.497324</td>\n",
       "      <td>0.587714</td>\n",
       "      <td>0.699126</td>\n",
       "      <td>1.620207</td>\n",
       "      <td>-0.379695</td>\n",
       "      <td>1.165398</td>\n",
       "      <td>-1.471647</td>\n",
       "    </tr>\n",
       "    <tr>\n",
       "      <td>2940919</td>\n",
       "      <td>-2.090994</td>\n",
       "      <td>0.191588</td>\n",
       "      <td>-1.751521</td>\n",
       "      <td>0.524006</td>\n",
       "      <td>0.585046</td>\n",
       "      <td>-0.470283</td>\n",
       "      <td>-0.100834</td>\n",
       "      <td>-0.137756</td>\n",
       "    </tr>\n",
       "    <tr>\n",
       "      <td>3128603</td>\n",
       "      <td>-2.411087</td>\n",
       "      <td>-0.731697</td>\n",
       "      <td>-1.896316</td>\n",
       "      <td>0.233242</td>\n",
       "      <td>0.123836</td>\n",
       "      <td>-0.521674</td>\n",
       "      <td>-0.223830</td>\n",
       "      <td>0.555324</td>\n",
       "    </tr>\n",
       "    <tr>\n",
       "      <td>...</td>\n",
       "      <td>...</td>\n",
       "      <td>...</td>\n",
       "      <td>...</td>\n",
       "      <td>...</td>\n",
       "      <td>...</td>\n",
       "      <td>...</td>\n",
       "      <td>...</td>\n",
       "      <td>...</td>\n",
       "    </tr>\n",
       "    <tr>\n",
       "      <td>1532083</td>\n",
       "      <td>0.380835</td>\n",
       "      <td>0.383345</td>\n",
       "      <td>-0.030880</td>\n",
       "      <td>-0.249162</td>\n",
       "      <td>0.021345</td>\n",
       "      <td>0.045370</td>\n",
       "      <td>-0.021386</td>\n",
       "      <td>0.942934</td>\n",
       "    </tr>\n",
       "    <tr>\n",
       "      <td>3217633</td>\n",
       "      <td>0.629797</td>\n",
       "      <td>2.918827</td>\n",
       "      <td>0.463835</td>\n",
       "      <td>0.380827</td>\n",
       "      <td>-0.813958</td>\n",
       "      <td>-0.753369</td>\n",
       "      <td>0.024818</td>\n",
       "      <td>2.132235</td>\n",
       "    </tr>\n",
       "    <tr>\n",
       "      <td>2881265</td>\n",
       "      <td>-1.950509</td>\n",
       "      <td>0.759762</td>\n",
       "      <td>-1.719345</td>\n",
       "      <td>0.589538</td>\n",
       "      <td>0.144334</td>\n",
       "      <td>-0.411923</td>\n",
       "      <td>-0.090584</td>\n",
       "      <td>0.632711</td>\n",
       "    </tr>\n",
       "    <tr>\n",
       "      <td>1724842</td>\n",
       "      <td>0.393283</td>\n",
       "      <td>-0.852436</td>\n",
       "      <td>0.084956</td>\n",
       "      <td>0.407811</td>\n",
       "      <td>-0.731965</td>\n",
       "      <td>0.471307</td>\n",
       "      <td>-0.103436</td>\n",
       "      <td>-0.524007</td>\n",
       "    </tr>\n",
       "    <tr>\n",
       "      <td>4149307</td>\n",
       "      <td>0.608457</td>\n",
       "      <td>0.624821</td>\n",
       "      <td>1.800770</td>\n",
       "      <td>0.180927</td>\n",
       "      <td>0.544050</td>\n",
       "      <td>-1.383999</td>\n",
       "      <td>1.015530</td>\n",
       "      <td>0.038060</td>\n",
       "    </tr>\n",
       "  </tbody>\n",
       "</table>\n",
       "<p>420092 rows × 8 columns</p>\n",
       "</div>"
      ],
      "text/plain": [
       "             c_ax      c_ay      c_az     c_ecg     c_emg     c_eda    c_temp  \\\n",
       "957523  -1.831363  1.384754 -1.619597 -1.611018  0.175082  0.081083  3.364350   \n",
       "3188406  0.583561 -0.497324  0.432462 -0.189137 -1.562143 -0.566096 -0.064986   \n",
       "2784618  0.622683 -0.497324  0.587714  0.699126  1.620207 -0.379695  1.165398   \n",
       "2940919 -2.090994  0.191588 -1.751521  0.524006  0.585046 -0.470283 -0.100834   \n",
       "3128603 -2.411087 -0.731697 -1.896316  0.233242  0.123836 -0.521674 -0.223830   \n",
       "...           ...       ...       ...       ...       ...       ...       ...   \n",
       "1532083  0.380835  0.383345 -0.030880 -0.249162  0.021345  0.045370 -0.021386   \n",
       "3217633  0.629797  2.918827  0.463835  0.380827 -0.813958 -0.753369  0.024818   \n",
       "2881265 -1.950509  0.759762 -1.719345  0.589538  0.144334 -0.411923 -0.090584   \n",
       "1724842  0.393283 -0.852436  0.084956  0.407811 -0.731965  0.471307 -0.103436   \n",
       "4149307  0.608457  0.624821  1.800770  0.180927  0.544050 -1.383999  1.015530   \n",
       "\n",
       "           c_resp  \n",
       "957523   1.025071  \n",
       "3188406 -0.544372  \n",
       "2784618 -1.471647  \n",
       "2940919 -0.137756  \n",
       "3128603  0.555324  \n",
       "...           ...  \n",
       "1532083  0.942934  \n",
       "3217633  2.132235  \n",
       "2881265  0.632711  \n",
       "1724842 -0.524007  \n",
       "4149307  0.038060  \n",
       "\n",
       "[420092 rows x 8 columns]"
      ]
     },
     "execution_count": 16,
     "metadata": {},
     "output_type": "execute_result"
    }
   ],
   "source": [
    "norm_x_test"
   ]
  },
  {
   "cell_type": "code",
   "execution_count": 17,
   "metadata": {},
   "outputs": [
    {
     "data": {
      "text/plain": [
       "957523     1.0\n",
       "3188406    0.0\n",
       "2784618    0.0\n",
       "2940919    4.0\n",
       "3128603    4.0\n",
       "          ... \n",
       "1532083    0.0\n",
       "3217633    0.0\n",
       "2881265    4.0\n",
       "1724842    2.0\n",
       "4149307    0.0\n",
       "Name: w_label, Length: 420092, dtype: float64"
      ]
     },
     "execution_count": 17,
     "metadata": {},
     "output_type": "execute_result"
    }
   ],
   "source": [
    "norm_y_test"
   ]
  },
  {
   "cell_type": "code",
   "execution_count": 18,
   "metadata": {},
   "outputs": [
    {
     "data": {
      "text/plain": [
       "393691     1.0\n",
       "394476     1.0\n",
       "395154     1.0\n",
       "396635     1.0\n",
       "402178     1.0\n",
       "          ... \n",
       "4255293    0.0\n",
       "4255295    0.0\n",
       "4255296    0.0\n",
       "4255297    0.0\n",
       "4255299    0.0\n",
       "Name: w_label, Length: 2100456, dtype: float64"
      ]
     },
     "execution_count": 18,
     "metadata": {},
     "output_type": "execute_result"
    }
   ],
   "source": [
    "\n",
    "y=df_out.w_label\n",
    "x=df_out.drop('w_label',axis=1)\n",
    "#print(x)\n",
    "#print(\"\\n-----\\n\")\n",
    "#print(y)\n",
    "x_train,x_test,y_train,y_test=train_test_split(x,y,test_size=0.2)\n",
    "\n",
    "y"
   ]
  },
  {
   "cell_type": "code",
   "execution_count": 10,
   "metadata": {},
   "outputs": [
    {
     "data": {
      "text/html": [
       "<div>\n",
       "<style scoped>\n",
       "    .dataframe tbody tr th:only-of-type {\n",
       "        vertical-align: middle;\n",
       "    }\n",
       "\n",
       "    .dataframe tbody tr th {\n",
       "        vertical-align: top;\n",
       "    }\n",
       "\n",
       "    .dataframe thead th {\n",
       "        text-align: right;\n",
       "    }\n",
       "</style>\n",
       "<table border=\"1\" class=\"dataframe\">\n",
       "  <thead>\n",
       "    <tr style=\"text-align: right;\">\n",
       "      <th></th>\n",
       "      <th>c_ax</th>\n",
       "      <th>c_ay</th>\n",
       "      <th>c_az</th>\n",
       "      <th>c_ecg</th>\n",
       "      <th>c_emg</th>\n",
       "      <th>c_eda</th>\n",
       "      <th>c_temp</th>\n",
       "      <th>c_resp</th>\n",
       "    </tr>\n",
       "  </thead>\n",
       "  <tbody>\n",
       "    <tr>\n",
       "      <td>4242031</td>\n",
       "      <td>0.8654</td>\n",
       "      <td>-0.1908</td>\n",
       "      <td>-0.2634</td>\n",
       "      <td>0.035843</td>\n",
       "      <td>0.006088</td>\n",
       "      <td>0.358200</td>\n",
       "      <td>31.206116</td>\n",
       "      <td>1.664734</td>\n",
       "    </tr>\n",
       "    <tr>\n",
       "      <td>3809994</td>\n",
       "      <td>0.9168</td>\n",
       "      <td>-0.1278</td>\n",
       "      <td>0.0214</td>\n",
       "      <td>0.012039</td>\n",
       "      <td>0.002747</td>\n",
       "      <td>0.663757</td>\n",
       "      <td>31.837372</td>\n",
       "      <td>2.896118</td>\n",
       "    </tr>\n",
       "    <tr>\n",
       "      <td>2082697</td>\n",
       "      <td>0.8666</td>\n",
       "      <td>-0.1118</td>\n",
       "      <td>-0.3196</td>\n",
       "      <td>0.022293</td>\n",
       "      <td>-0.015152</td>\n",
       "      <td>2.613831</td>\n",
       "      <td>30.497650</td>\n",
       "      <td>-0.341797</td>\n",
       "    </tr>\n",
       "    <tr>\n",
       "      <td>1835480</td>\n",
       "      <td>0.8708</td>\n",
       "      <td>-0.1310</td>\n",
       "      <td>-0.3026</td>\n",
       "      <td>0.011490</td>\n",
       "      <td>-0.001511</td>\n",
       "      <td>1.553726</td>\n",
       "      <td>31.053406</td>\n",
       "      <td>2.452087</td>\n",
       "    </tr>\n",
       "    <tr>\n",
       "      <td>3251196</td>\n",
       "      <td>0.8888</td>\n",
       "      <td>-0.0980</td>\n",
       "      <td>0.2232</td>\n",
       "      <td>-0.026230</td>\n",
       "      <td>-0.012497</td>\n",
       "      <td>0.775528</td>\n",
       "      <td>31.363464</td>\n",
       "      <td>0.909424</td>\n",
       "    </tr>\n",
       "    <tr>\n",
       "      <td>...</td>\n",
       "      <td>...</td>\n",
       "      <td>...</td>\n",
       "      <td>...</td>\n",
       "      <td>...</td>\n",
       "      <td>...</td>\n",
       "      <td>...</td>\n",
       "      <td>...</td>\n",
       "      <td>...</td>\n",
       "    </tr>\n",
       "    <tr>\n",
       "      <td>984046</td>\n",
       "      <td>0.6334</td>\n",
       "      <td>-0.1026</td>\n",
       "      <td>-0.6982</td>\n",
       "      <td>-0.201553</td>\n",
       "      <td>0.016113</td>\n",
       "      <td>1.141739</td>\n",
       "      <td>33.462799</td>\n",
       "      <td>0.427246</td>\n",
       "    </tr>\n",
       "    <tr>\n",
       "      <td>4165454</td>\n",
       "      <td>0.8986</td>\n",
       "      <td>-0.1006</td>\n",
       "      <td>0.1546</td>\n",
       "      <td>0.009842</td>\n",
       "      <td>0.001465</td>\n",
       "      <td>0.485611</td>\n",
       "      <td>32.180023</td>\n",
       "      <td>-0.379944</td>\n",
       "    </tr>\n",
       "    <tr>\n",
       "      <td>3124295</td>\n",
       "      <td>0.5698</td>\n",
       "      <td>-0.1350</td>\n",
       "      <td>-0.7614</td>\n",
       "      <td>0.012680</td>\n",
       "      <td>0.002518</td>\n",
       "      <td>0.770569</td>\n",
       "      <td>31.322296</td>\n",
       "      <td>1.338196</td>\n",
       "    </tr>\n",
       "    <tr>\n",
       "      <td>1720039</td>\n",
       "      <td>0.8722</td>\n",
       "      <td>-0.1298</td>\n",
       "      <td>-0.2738</td>\n",
       "      <td>-0.182785</td>\n",
       "      <td>0.005951</td>\n",
       "      <td>1.292038</td>\n",
       "      <td>31.388489</td>\n",
       "      <td>1.350403</td>\n",
       "    </tr>\n",
       "    <tr>\n",
       "      <td>2338611</td>\n",
       "      <td>0.8842</td>\n",
       "      <td>-0.0856</td>\n",
       "      <td>-0.2950</td>\n",
       "      <td>0.014282</td>\n",
       "      <td>0.002792</td>\n",
       "      <td>1.236343</td>\n",
       "      <td>31.282562</td>\n",
       "      <td>-3.831482</td>\n",
       "    </tr>\n",
       "  </tbody>\n",
       "</table>\n",
       "<p>1680364 rows × 8 columns</p>\n",
       "</div>"
      ],
      "text/plain": [
       "           c_ax    c_ay    c_az     c_ecg     c_emg     c_eda     c_temp  \\\n",
       "4242031  0.8654 -0.1908 -0.2634  0.035843  0.006088  0.358200  31.206116   \n",
       "3809994  0.9168 -0.1278  0.0214  0.012039  0.002747  0.663757  31.837372   \n",
       "2082697  0.8666 -0.1118 -0.3196  0.022293 -0.015152  2.613831  30.497650   \n",
       "1835480  0.8708 -0.1310 -0.3026  0.011490 -0.001511  1.553726  31.053406   \n",
       "3251196  0.8888 -0.0980  0.2232 -0.026230 -0.012497  0.775528  31.363464   \n",
       "...         ...     ...     ...       ...       ...       ...        ...   \n",
       "984046   0.6334 -0.1026 -0.6982 -0.201553  0.016113  1.141739  33.462799   \n",
       "4165454  0.8986 -0.1006  0.1546  0.009842  0.001465  0.485611  32.180023   \n",
       "3124295  0.5698 -0.1350 -0.7614  0.012680  0.002518  0.770569  31.322296   \n",
       "1720039  0.8722 -0.1298 -0.2738 -0.182785  0.005951  1.292038  31.388489   \n",
       "2338611  0.8842 -0.0856 -0.2950  0.014282  0.002792  1.236343  31.282562   \n",
       "\n",
       "           c_resp  \n",
       "4242031  1.664734  \n",
       "3809994  2.896118  \n",
       "2082697 -0.341797  \n",
       "1835480  2.452087  \n",
       "3251196  0.909424  \n",
       "...           ...  \n",
       "984046   0.427246  \n",
       "4165454 -0.379944  \n",
       "3124295  1.338196  \n",
       "1720039  1.350403  \n",
       "2338611 -3.831482  \n",
       "\n",
       "[1680364 rows x 8 columns]"
      ]
     },
     "execution_count": 10,
     "metadata": {},
     "output_type": "execute_result"
    }
   ],
   "source": [
    "(x_train)\n"
   ]
  },
  {
   "cell_type": "code",
   "execution_count": 20,
   "metadata": {},
   "outputs": [
    {
     "data": {
      "text/plain": [
       "1002882    1.0\n",
       "3787708    0.0\n",
       "1285454    0.0\n",
       "1371927    0.0\n",
       "3051678    4.0\n",
       "          ... \n",
       "1466295    0.0\n",
       "1285014    0.0\n",
       "2828559    0.0\n",
       "3240093    0.0\n",
       "1665551    2.0\n",
       "Name: w_label, Length: 1680364, dtype: float64"
      ]
     },
     "execution_count": 20,
     "metadata": {},
     "output_type": "execute_result"
    }
   ],
   "source": [
    "\n",
    "(y_train)\n"
   ]
  },
  {
   "cell_type": "code",
   "execution_count": 21,
   "metadata": {},
   "outputs": [
    {
     "data": {
      "text/html": [
       "<div>\n",
       "<style scoped>\n",
       "    .dataframe tbody tr th:only-of-type {\n",
       "        vertical-align: middle;\n",
       "    }\n",
       "\n",
       "    .dataframe tbody tr th {\n",
       "        vertical-align: top;\n",
       "    }\n",
       "\n",
       "    .dataframe thead th {\n",
       "        text-align: right;\n",
       "    }\n",
       "</style>\n",
       "<table border=\"1\" class=\"dataframe\">\n",
       "  <thead>\n",
       "    <tr style=\"text-align: right;\">\n",
       "      <th></th>\n",
       "      <th>c_ax</th>\n",
       "      <th>c_ay</th>\n",
       "      <th>c_az</th>\n",
       "      <th>c_ecg</th>\n",
       "      <th>c_emg</th>\n",
       "      <th>c_eda</th>\n",
       "      <th>c_temp</th>\n",
       "      <th>c_resp</th>\n",
       "    </tr>\n",
       "  </thead>\n",
       "  <tbody>\n",
       "    <tr>\n",
       "      <td>1049004</td>\n",
       "      <td>0.8222</td>\n",
       "      <td>-0.1146</td>\n",
       "      <td>-0.4160</td>\n",
       "      <td>0.033737</td>\n",
       "      <td>0.004257</td>\n",
       "      <td>1.229858</td>\n",
       "      <td>31.198761</td>\n",
       "      <td>0.547791</td>\n",
       "    </tr>\n",
       "    <tr>\n",
       "      <td>1254525</td>\n",
       "      <td>0.8042</td>\n",
       "      <td>-0.1086</td>\n",
       "      <td>-0.4766</td>\n",
       "      <td>-0.067154</td>\n",
       "      <td>-0.005814</td>\n",
       "      <td>1.098251</td>\n",
       "      <td>30.843842</td>\n",
       "      <td>0.354004</td>\n",
       "    </tr>\n",
       "    <tr>\n",
       "      <td>3336273</td>\n",
       "      <td>0.9066</td>\n",
       "      <td>-0.1586</td>\n",
       "      <td>-0.0834</td>\n",
       "      <td>-0.028336</td>\n",
       "      <td>-0.003204</td>\n",
       "      <td>0.756836</td>\n",
       "      <td>31.651031</td>\n",
       "      <td>0.918579</td>\n",
       "    </tr>\n",
       "    <tr>\n",
       "      <td>2409359</td>\n",
       "      <td>0.8964</td>\n",
       "      <td>-0.1630</td>\n",
       "      <td>-0.1682</td>\n",
       "      <td>0.120804</td>\n",
       "      <td>-0.022568</td>\n",
       "      <td>1.477051</td>\n",
       "      <td>30.539948</td>\n",
       "      <td>0.885010</td>\n",
       "    </tr>\n",
       "    <tr>\n",
       "      <td>3302447</td>\n",
       "      <td>0.8962</td>\n",
       "      <td>-0.0778</td>\n",
       "      <td>0.1590</td>\n",
       "      <td>-0.013000</td>\n",
       "      <td>-0.005356</td>\n",
       "      <td>0.756836</td>\n",
       "      <td>31.381134</td>\n",
       "      <td>3.369141</td>\n",
       "    </tr>\n",
       "    <tr>\n",
       "      <td>...</td>\n",
       "      <td>...</td>\n",
       "      <td>...</td>\n",
       "      <td>...</td>\n",
       "      <td>...</td>\n",
       "      <td>...</td>\n",
       "      <td>...</td>\n",
       "      <td>...</td>\n",
       "      <td>...</td>\n",
       "    </tr>\n",
       "    <tr>\n",
       "      <td>1598865</td>\n",
       "      <td>0.8922</td>\n",
       "      <td>-0.1038</td>\n",
       "      <td>-0.2950</td>\n",
       "      <td>0.141037</td>\n",
       "      <td>0.000412</td>\n",
       "      <td>1.223755</td>\n",
       "      <td>31.263428</td>\n",
       "      <td>1.145935</td>\n",
       "    </tr>\n",
       "    <tr>\n",
       "      <td>1550534</td>\n",
       "      <td>0.8806</td>\n",
       "      <td>-0.1744</td>\n",
       "      <td>-0.2680</td>\n",
       "      <td>0.068848</td>\n",
       "      <td>0.008972</td>\n",
       "      <td>1.131439</td>\n",
       "      <td>31.301666</td>\n",
       "      <td>3.042603</td>\n",
       "    </tr>\n",
       "    <tr>\n",
       "      <td>3065560</td>\n",
       "      <td>0.5666</td>\n",
       "      <td>-0.1382</td>\n",
       "      <td>-0.7558</td>\n",
       "      <td>-0.178482</td>\n",
       "      <td>0.002518</td>\n",
       "      <td>0.822067</td>\n",
       "      <td>31.378204</td>\n",
       "      <td>-1.179504</td>\n",
       "    </tr>\n",
       "    <tr>\n",
       "      <td>3553961</td>\n",
       "      <td>0.8982</td>\n",
       "      <td>-0.1478</td>\n",
       "      <td>-0.1782</td>\n",
       "      <td>-0.004074</td>\n",
       "      <td>0.001556</td>\n",
       "      <td>0.614929</td>\n",
       "      <td>32.658630</td>\n",
       "      <td>-2.116394</td>\n",
       "    </tr>\n",
       "    <tr>\n",
       "      <td>3457753</td>\n",
       "      <td>0.9098</td>\n",
       "      <td>-0.1434</td>\n",
       "      <td>-0.0566</td>\n",
       "      <td>0.001785</td>\n",
       "      <td>-0.006180</td>\n",
       "      <td>0.771713</td>\n",
       "      <td>32.003357</td>\n",
       "      <td>2.549744</td>\n",
       "    </tr>\n",
       "  </tbody>\n",
       "</table>\n",
       "<p>420092 rows × 8 columns</p>\n",
       "</div>"
      ],
      "text/plain": [
       "           c_ax    c_ay    c_az     c_ecg     c_emg     c_eda     c_temp  \\\n",
       "1049004  0.8222 -0.1146 -0.4160  0.033737  0.004257  1.229858  31.198761   \n",
       "1254525  0.8042 -0.1086 -0.4766 -0.067154 -0.005814  1.098251  30.843842   \n",
       "3336273  0.9066 -0.1586 -0.0834 -0.028336 -0.003204  0.756836  31.651031   \n",
       "2409359  0.8964 -0.1630 -0.1682  0.120804 -0.022568  1.477051  30.539948   \n",
       "3302447  0.8962 -0.0778  0.1590 -0.013000 -0.005356  0.756836  31.381134   \n",
       "...         ...     ...     ...       ...       ...       ...        ...   \n",
       "1598865  0.8922 -0.1038 -0.2950  0.141037  0.000412  1.223755  31.263428   \n",
       "1550534  0.8806 -0.1744 -0.2680  0.068848  0.008972  1.131439  31.301666   \n",
       "3065560  0.5666 -0.1382 -0.7558 -0.178482  0.002518  0.822067  31.378204   \n",
       "3553961  0.8982 -0.1478 -0.1782 -0.004074  0.001556  0.614929  32.658630   \n",
       "3457753  0.9098 -0.1434 -0.0566  0.001785 -0.006180  0.771713  32.003357   \n",
       "\n",
       "           c_resp  \n",
       "1049004  0.547791  \n",
       "1254525  0.354004  \n",
       "3336273  0.918579  \n",
       "2409359  0.885010  \n",
       "3302447  3.369141  \n",
       "...           ...  \n",
       "1598865  1.145935  \n",
       "1550534  3.042603  \n",
       "3065560 -1.179504  \n",
       "3553961 -2.116394  \n",
       "3457753  2.549744  \n",
       "\n",
       "[420092 rows x 8 columns]"
      ]
     },
     "execution_count": 21,
     "metadata": {},
     "output_type": "execute_result"
    }
   ],
   "source": [
    "(x_test)\n"
   ]
  },
  {
   "cell_type": "code",
   "execution_count": 22,
   "metadata": {},
   "outputs": [
    {
     "data": {
      "text/plain": [
       "1049004    0.0\n",
       "1254525    0.0\n",
       "3336273    3.0\n",
       "2409359    0.0\n",
       "3302447    0.0\n",
       "          ... \n",
       "1598865    2.0\n",
       "1550534    0.0\n",
       "3065560    4.0\n",
       "3553961    3.0\n",
       "3457753    3.0\n",
       "Name: w_label, Length: 420092, dtype: float64"
      ]
     },
     "execution_count": 22,
     "metadata": {},
     "output_type": "execute_result"
    }
   ],
   "source": [
    "(y_test)\n"
   ]
  },
  {
   "cell_type": "markdown",
   "metadata": {},
   "source": [
    "# Logistic Regression Base Model"
   ]
  },
  {
   "cell_type": "code",
   "execution_count": 12,
   "metadata": {},
   "outputs": [
    {
     "name": "stderr",
     "output_type": "stream",
     "text": [
      "/usr/local/lib/python3.6/dist-packages/sklearn/linear_model/logistic.py:469: FutureWarning: Default multi_class will be changed to 'auto' in 0.22. Specify the multi_class option to silence this warning.\n",
      "  \"this warning.\", FutureWarning)\n"
     ]
    },
    {
     "name": "stdout",
     "output_type": "stream",
     "text": [
      "              precision    recall  f1-score   support\n",
      "\n",
      "         0.0     0.7848    0.9079    0.8419    245784\n",
      "         1.0     0.9858    0.7138    0.8281     10896\n",
      "         2.0     0.7086    0.3386    0.4582     63325\n",
      "         3.0     0.7934    0.6592    0.7201     48085\n",
      "         4.0     0.9020    1.0000    0.9484     52002\n",
      "\n",
      "    accuracy                         0.8000    420092\n",
      "   macro avg     0.8349    0.7239    0.7593    420092\n",
      "weighted avg     0.7940    0.8000    0.7829    420092\n",
      "\n"
     ]
    },
    {
     "data": {
      "text/plain": [
       "\"\\n(C=1.0, class_weight=None, dual=False, fit_intercept=True, intercept_scaling=1, l1_ratio=None, max_iter=3,\\n                   multi_class='warn', n_jobs=None, penalty='l2',\\n                   random_state=None, solver='newton-cg', tol=0.0001, verbose=0,\\n                   warm_start=False) or use slover=saga\\n\""
      ]
     },
     "execution_count": 12,
     "metadata": {},
     "output_type": "execute_result"
    }
   ],
   "source": [
    "clf = skl_lm.LogisticRegression(solver='newton-cg',penalty='none')\n",
    "clf.fit(x_train,y_train)\n",
    "y_out = clf.predict(x_test)\n",
    "print(classification_report(y_test, y_out, digits=4))\n",
    "#takes 20 minutes.\n",
    "'''\n",
    "(C=1.0, class_weight=None, dual=False, fit_intercept=True, intercept_scaling=1, l1_ratio=None, max_iter=3,\n",
    "                   multi_class='warn', n_jobs=None, penalty='l2',\n",
    "                   random_state=None, solver='newton-cg', tol=0.0001, verbose=0,\n",
    "                   warm_start=False) or use slover=saga\n",
    "'''                 "
   ]
  },
  {
   "cell_type": "markdown",
   "metadata": {},
   "source": [
    "# Logistic Regression + L2"
   ]
  },
  {
   "cell_type": "code",
   "execution_count": 13,
   "metadata": {},
   "outputs": [
    {
     "name": "stdout",
     "output_type": "stream",
     "text": [
      "              precision    recall  f1-score   support\n",
      "\n",
      "         0.0     0.8213    0.8937    0.8560    245784\n",
      "         1.0     0.9840    0.8910    0.9352     10896\n",
      "         2.0     0.7034    0.4012    0.5109     63325\n",
      "         3.0     0.7903    0.8149    0.8024     48085\n",
      "         4.0     0.9105    0.9999    0.9531     52002\n",
      "\n",
      "    accuracy                         0.8235    420092\n",
      "   macro avg     0.8419    0.8001    0.8115    420092\n",
      "weighted avg     0.8153    0.8235    0.8119    420092\n",
      "\n"
     ]
    }
   ],
   "source": [
    "clf = skl_lm.LogisticRegression(solver='newton-cg',penalty='l2',multi_class='auto')\n",
    "clf.fit(x_train,y_train)\n",
    "y_out = clf.predict(x_test)\n",
    "print(classification_report(y_test, y_out, digits=4))\n",
    "\n"
   ]
  },
  {
   "cell_type": "code",
   "execution_count": null,
   "metadata": {},
   "outputs": [],
   "source": [
    "clf = skl_lm.LogisticRegression(solver='newton-cg',penalty='l2',multi_class='auto')\n",
    "y_out = cross_val_predict(clf, norm_x, norm_y, cv=5)\n",
    "print(classification_report(norm_y_test, y_out, digits=4))\n",
    "\n"
   ]
  },
  {
   "cell_type": "markdown",
   "metadata": {},
   "source": [
    "# LDA Basic Implementation"
   ]
  },
  {
   "cell_type": "code",
   "execution_count": 11,
   "metadata": {},
   "outputs": [
    {
     "name": "stdout",
     "output_type": "stream",
     "text": [
      "              precision    recall  f1-score   support\n",
      "\n",
      "         0.0     0.8128    0.8671    0.8391    246062\n",
      "         1.0     0.9715    0.6421    0.7732     10720\n",
      "         2.0     0.6253    0.3731    0.4673     63330\n",
      "         3.0     0.7528    0.8108    0.7808     47806\n",
      "         4.0     0.8521    1.0000    0.9202     52174\n",
      "\n",
      "    accuracy                         0.7970    420092\n",
      "   macro avg     0.8029    0.7386    0.7561    420092\n",
      "weighted avg     0.7867    0.7970    0.7848    420092\n",
      "\n"
     ]
    }
   ],
   "source": [
    "LDA= LinearDiscriminantAnalysis(solver = 'svd')\n",
    "y_out = LDA.fit(x_train, y_train).predict(x_test)\n",
    "#confusion_matrix(y_test, y_out)\n",
    "print(classification_report(y_test, y_out, digits=4))#target_names=['Not Six', 'Six']"
   ]
  },
  {
   "cell_type": "markdown",
   "metadata": {},
   "source": [
    "# LDA + Normalization + n_components = 5 + Cross Validation"
   ]
  },
  {
   "cell_type": "code",
   "execution_count": 25,
   "metadata": {},
   "outputs": [
    {
     "name": "stdout",
     "output_type": "stream",
     "text": [
      "              precision    recall  f1-score   support\n",
      "\n",
      "         0.0     0.8128    0.8674    0.8392    245716\n",
      "         1.0     0.9738    0.6511    0.7804     10738\n",
      "         2.0     0.6287    0.3745    0.4694     63486\n",
      "         3.0     0.7521    0.8109    0.7804     47778\n",
      "         4.0     0.8538    1.0000    0.9212     52374\n",
      "\n",
      "    accuracy                         0.7975    420092\n",
      "   macro avg     0.8042    0.7408    0.7581    420092\n",
      "weighted avg     0.7873    0.7975    0.7853    420092\n",
      "\n"
     ]
    }
   ],
   "source": [
    "LDA= LinearDiscriminantAnalysis(solver = 'svd')\n",
    "#norm_y_out = LDA.fit(norm_x_train, norm_y_train).predict(norm_x_test)\n",
    "norm_y_out = cross_val_predict(LDA, norm_x, norm_y, cv=5)\n",
    "print(classification_report(norm_y_test, norm_y_out, digits=4))"
   ]
  },
  {
   "cell_type": "markdown",
   "metadata": {},
   "source": [
    "# QDA Basic Implementation"
   ]
  },
  {
   "cell_type": "code",
   "execution_count": 26,
   "metadata": {},
   "outputs": [
    {
     "name": "stdout",
     "output_type": "stream",
     "text": [
      "              precision    recall  f1-score   support\n",
      "\n",
      "         0.0     0.9745    0.8951    0.9331    245889\n",
      "         1.0     0.8710    0.9536    0.9104     10734\n",
      "         2.0     0.7967    0.9281    0.8574     63716\n",
      "         3.0     0.8919    0.9864    0.9368     47585\n",
      "         4.0     0.9366    0.9991    0.9669     52168\n",
      "\n",
      "    accuracy                         0.9248    420092\n",
      "   macro avg     0.8941    0.9524    0.9209    420092\n",
      "weighted avg     0.9308    0.9248    0.9256    420092\n",
      "\n"
     ]
    }
   ],
   "source": [
    "qda_clf = QuadraticDiscriminantAnalysis()\n",
    "qda_clf.fit(x_train,y_train)\n",
    "y_out = qda_clf.fit(x_train, y_train).predict(x_test)\n",
    "print(classification_report(y_test, y_out, digits=4))#target_names=['Not Six', 'Six']\n",
    "#IF QDA is best, then data must be Gaussian"
   ]
  },
  {
   "cell_type": "code",
   "execution_count": null,
   "metadata": {},
   "outputs": [],
   "source": []
  },
  {
   "cell_type": "code",
   "execution_count": 15,
   "metadata": {},
   "outputs": [
    {
     "name": "stdout",
     "output_type": "stream",
     "text": [
      "              precision    recall  f1-score   support\n",
      "\n",
      "         0.0     0.8729    0.9031    0.8877   1230433\n",
      "         1.0     0.8648    0.9317    0.8970     53659\n",
      "         2.0     0.7485    0.7179    0.7329    316935\n",
      "         3.0     0.9045    0.7139    0.7980    239191\n",
      "         4.0     0.9389    0.9985    0.9678    260238\n",
      "\n",
      "    accuracy                         0.8662   2100456\n",
      "   macro avg     0.8659    0.8530    0.8567   2100456\n",
      "weighted avg     0.8657    0.8662    0.8643   2100456\n",
      "\n"
     ]
    }
   ],
   "source": [
    "qda_clf = QuadraticDiscriminantAnalysis()\n",
    "norm_y_out = cross_val_predict(qda_clf, norm_x, norm_y, cv=5)\n",
    "lm=(classification_report(norm_y, norm_y_out, digits=4))\n",
    "print(lm)"
   ]
  },
  {
   "cell_type": "markdown",
   "metadata": {},
   "source": [
    "# QDA + Normalization + Cross Validation = 10"
   ]
  },
  {
   "cell_type": "markdown",
   "metadata": {},
   "source": [
    "# BEST MODEL *****++++****"
   ]
  },
  {
   "cell_type": "code",
   "execution_count": 15,
   "metadata": {},
   "outputs": [
    {
     "name": "stdout",
     "output_type": "stream",
     "text": [
      "              precision    recall  f1-score   support\n",
      "\n",
      "         0.0     0.9473    0.8943    0.9200   1230433\n",
      "         1.0     0.8798    0.9427    0.9101     53659\n",
      "         2.0     0.7799    0.8881    0.8305    316935\n",
      "         3.0     0.8922    0.9069    0.8995    239191\n",
      "         4.0     0.9366    0.9985    0.9666    260238\n",
      "\n",
      "    accuracy                         0.9089   2100456\n",
      "   macro avg     0.8872    0.9261    0.9053   2100456\n",
      "weighted avg     0.9127    0.9089    0.9097   2100456\n",
      "\n"
     ]
    },
    {
     "data": {
      "text/plain": [
       "'\\nhttps://scikit-learn.org/stable/modules/generated/sklearn.model_selection.cross_val_predict.html#sklearn.model_selection.cross_val_predict\\nhttps://scikit-learn.org/stable/modules/generated/sklearn.model_selection.cross_validate.html#sklearn.model_selection.cross_validate\\n'"
      ]
     },
     "execution_count": 15,
     "metadata": {},
     "output_type": "execute_result"
    }
   ],
   "source": [
    "qda_clf = QuadraticDiscriminantAnalysis(priors=None, reg_param=0)\n",
    "norm_y_out = cross_val_predict(qda_clf, norm_x, norm_y, cv=10)\n",
    "lm=(classification_report(norm_y, norm_y_out, digits=4))\n",
    "print(lm)\n",
    "'''\n",
    "https://scikit-learn.org/stable/modules/generated/sklearn.model_selection.cross_val_predict.html#sklearn.model_selection.cross_val_predict\n",
    "https://scikit-learn.org/stable/modules/generated/sklearn.model_selection.cross_validate.html#sklearn.model_selection.cross_validate\n",
    "'''    "
   ]
  },
  {
   "cell_type": "code",
   "execution_count": 18,
   "metadata": {},
   "outputs": [
    {
     "name": "stdout",
     "output_type": "stream",
     "text": [
      "              precision    recall  f1-score   support\n",
      "\n",
      "         0.0     0.8380    0.8037    0.8205   1230433\n",
      "         1.0     0.9813    0.7941    0.8778     53659\n",
      "         2.0     0.5829    0.4385    0.5005    316935\n",
      "         3.0     0.6677    0.9552    0.7860    239191\n",
      "         4.0     0.8780    1.0000    0.9350    260238\n",
      "\n",
      "    accuracy                         0.7899   2100456\n",
      "   macro avg     0.7896    0.7983    0.7840   2100456\n",
      "weighted avg     0.7887    0.7899    0.7839   2100456\n",
      "\n"
     ]
    }
   ],
   "source": [
    "qda_clf = QuadraticDiscriminantAnalysis(priors=None, reg_param=0.5)\n",
    "norm_y_out = cross_val_predict(qda_clf, norm_x, norm_y, cv=10)\n",
    "lm=(classification_report(norm_y, norm_y_out, digits=4))\n",
    "print(lm)"
   ]
  },
  {
   "cell_type": "code",
   "execution_count": 17,
   "metadata": {},
   "outputs": [
    {
     "name": "stdout",
     "output_type": "stream",
     "text": [
      "              precision    recall  f1-score   support\n",
      "\n",
      "         0.0     0.7625    0.8220    0.7911   1230433\n",
      "         1.0     0.9929    0.6342    0.7740     53659\n",
      "         2.0     0.4651    0.3059    0.3690    316935\n",
      "         3.0     0.6491    0.6136    0.6309    239191\n",
      "         4.0     0.8525    1.0000    0.9204    260238\n",
      "\n",
      "    accuracy                         0.7376   2100456\n",
      "   macro avg     0.7444    0.6751    0.6971   2100456\n",
      "weighted avg     0.7218    0.7376    0.7248   2100456\n",
      "\n"
     ]
    }
   ],
   "source": [
    "qda_clf = QuadraticDiscriminantAnalysis(priors=None, reg_param=0.9)\n",
    "norm_y_out = cross_val_predict(qda_clf, norm_x, norm_y, cv=10)\n",
    "lm=(classification_report(norm_y, norm_y_out, digits=4))\n",
    "print(lm)"
   ]
  },
  {
   "cell_type": "code",
   "execution_count": 20,
   "metadata": {},
   "outputs": [
    {
     "name": "stdout",
     "output_type": "stream",
     "text": [
      "              precision    recall  f1-score   support\n",
      "\n",
      "         0.0     0.7977    0.8178    0.8076   1230433\n",
      "         1.0     0.9887    0.7486    0.8521     53659\n",
      "         2.0     0.5200    0.3503    0.4186    316935\n",
      "         3.0     0.6728    0.8035    0.7324    239191\n",
      "         4.0     0.8698    1.0000    0.9304    260238\n",
      "\n",
      "    accuracy                         0.7664   2100456\n",
      "   macro avg     0.7698    0.7440    0.7482   2100456\n",
      "weighted avg     0.7554    0.7664    0.7567   2100456\n",
      "\n"
     ]
    }
   ],
   "source": [
    "qda_clf = QuadraticDiscriminantAnalysis(priors=None, reg_param=0.7)\n",
    "norm_y_out = cross_val_predict(qda_clf, norm_x, norm_y, cv=10)\n",
    "lm=(classification_report(norm_y, norm_y_out, digits=4))\n",
    "print(lm)"
   ]
  },
  {
   "cell_type": "markdown",
   "metadata": {},
   "source": [
    "# QDA + Normalization + Cross Validation = 20"
   ]
  },
  {
   "cell_type": "code",
   "execution_count": 16,
   "metadata": {},
   "outputs": [
    {
     "name": "stdout",
     "output_type": "stream",
     "text": [
      "              precision    recall  f1-score   support\n",
      "\n",
      "         0.0     0.9647    0.8873    0.9244   1230433\n",
      "         1.0     0.8790    0.9432    0.9100     53659\n",
      "         2.0     0.7730    0.9054    0.8340    316935\n",
      "         3.0     0.8859    0.9719    0.9269    239191\n",
      "         4.0     0.9369    0.9990    0.9670    260238\n",
      "\n",
      "    accuracy                         0.9149   2100456\n",
      "   macro avg     0.8879    0.9414    0.9124   2100456\n",
      "weighted avg     0.9211    0.9149    0.9159   2100456\n",
      "\n"
     ]
    }
   ],
   "source": [
    "qda_clf = QuadraticDiscriminantAnalysis()\n",
    "norm_y_out = cross_val_predict(qda_clf, norm_x, norm_y, cv=20)\n",
    "lm=(classification_report(norm_y, norm_y_out, digits=4))\n",
    "print(lm)"
   ]
  },
  {
   "cell_type": "code",
   "execution_count": null,
   "metadata": {},
   "outputs": [],
   "source": [
    "'''\n",
    "lm=(classification_report(y, y_out, digits=4))\n",
    "print(lm)\n",
    "scores = cross_val_score(qda_clf, x, y, cv=10, scoring='accuracy').mean()\n",
    "print(scores)\n",
    "\n",
    "#scoring='mean_squared_error'\n",
    "'''"
   ]
  },
  {
   "cell_type": "code",
   "execution_count": null,
   "metadata": {},
   "outputs": [],
   "source": [
    "'''\n",
    "from sklearn.model_selection import LeaveOneOut\n",
    "loo = LeaveOneOut()\n",
    "\n",
    "y_out = cross_val_predict(qda_clf, x, y, cv=loo)\n",
    "lm=(classification_report(y, y_out, digits=4))\n",
    "lm=(classification_report(y, y_out, digits=4))\n",
    "print(lm)\n",
    "'''"
   ]
  },
  {
   "cell_type": "markdown",
   "metadata": {},
   "source": [
    "# KNN + Cross Validation + K=3 + Normalization [ CV = 10, K = 3 ]"
   ]
  },
  {
   "cell_type": "code",
   "execution_count": 31,
   "metadata": {},
   "outputs": [
    {
     "name": "stdout",
     "output_type": "stream",
     "text": [
      "              precision    recall  f1-score   support\n",
      "\n",
      "         0.0     0.9245    0.8220    0.8702   1230433\n",
      "         1.0     0.9086    0.8866    0.8974     53659\n",
      "         2.0     0.7062    0.9154    0.7973    316935\n",
      "         3.0     0.7487    0.8514    0.7968    239191\n",
      "         4.0     0.9013    0.9397    0.9201    260238\n",
      "\n",
      "    accuracy                         0.8557   2100456\n",
      "   macro avg     0.8379    0.8830    0.8564   2100456\n",
      "weighted avg     0.8683    0.8557    0.8577   2100456\n",
      "\n"
     ]
    }
   ],
   "source": [
    "#Do base mdel with test and train data, show improvement in next section with cross validation\n",
    "knn = KNeighborsClassifier(n_neighbors=3)\n",
    "norm_y_out = cross_val_predict(knn, norm_x, norm_y, cv=10)\n",
    "lm=(classification_report(norm_y, norm_y_out, digits=4))\n",
    "print(lm)\n",
    "#https://www.ritchieng.com/machine-learning-cross-validation/"
   ]
  },
  {
   "cell_type": "markdown",
   "metadata": {},
   "source": [
    "# KNN + Cross Validation + K=5 + Normalization [ CV = 20, K = 5 ]"
   ]
  },
  {
   "cell_type": "code",
   "execution_count": 32,
   "metadata": {},
   "outputs": [
    {
     "name": "stdout",
     "output_type": "stream",
     "text": [
      "              precision    recall  f1-score   support\n",
      "\n",
      "         0.0     0.9545    0.8799    0.9157   1230433\n",
      "         1.0     0.9155    0.9165    0.9160     53659\n",
      "         2.0     0.8234    0.9416    0.8785    316935\n",
      "         3.0     0.8043    0.9205    0.8585    239191\n",
      "         4.0     0.9060    0.9620    0.9332    260238\n",
      "\n",
      "    accuracy                         0.9049   2100456\n",
      "   macro avg     0.8807    0.9241    0.9004   2100456\n",
      "weighted avg     0.9106    0.9049    0.9057   2100456\n",
      "\n"
     ]
    }
   ],
   "source": [
    "knn = KNeighborsClassifier(n_neighbors=5)\n",
    "norm_y_out = cross_val_predict(knn, norm_x, norm_y, cv=20)\n",
    "lm=(classification_report(norm_y, norm_y_out, digits=4))\n",
    "print(lm)"
   ]
  },
  {
   "cell_type": "markdown",
   "metadata": {},
   "source": [
    "# KNN + Cross Validation + K=10 + Normalization [ CV = 10, K = 10 ]"
   ]
  },
  {
   "cell_type": "code",
   "execution_count": 21,
   "metadata": {},
   "outputs": [
    {
     "name": "stdout",
     "output_type": "stream",
     "text": [
      "              precision    recall  f1-score   support\n",
      "\n",
      "         0.0     0.9249    0.8253    0.8723   1230433\n",
      "         1.0     0.9246    0.8831    0.9034     53659\n",
      "         2.0     0.7107    0.9127    0.7992    316935\n",
      "         3.0     0.7492    0.8527    0.7976    239191\n",
      "         4.0     0.9024    0.9430    0.9222    260238\n",
      "\n",
      "    accuracy                         0.8577   2100456\n",
      "   macro avg     0.8423    0.8834    0.8589   2100456\n",
      "weighted avg     0.8698    0.8577    0.8597   2100456\n",
      "\n"
     ]
    }
   ],
   "source": [
    "knn = KNeighborsClassifier(n_neighbors=10)\n",
    "norm_y_out = cross_val_predict(knn, norm_x, norm_y, cv=10)\n",
    "lm=(classification_report(norm_y, norm_y_out, digits=4))\n",
    "print(lm)"
   ]
  },
  {
   "cell_type": "markdown",
   "metadata": {},
   "source": [
    "# KNN + Cross Validation [ CV = 10, K = 20 ]"
   ]
  },
  {
   "cell_type": "code",
   "execution_count": 15,
   "metadata": {},
   "outputs": [
    {
     "name": "stdout",
     "output_type": "stream",
     "text": [
      "              precision    recall  f1-score   support\n",
      "\n",
      "         0.0     0.9295    0.8213    0.8720   1230433\n",
      "         1.0     0.9454    0.8815    0.9123     53659\n",
      "         2.0     0.7058    0.9185    0.7982    316935\n",
      "         3.0     0.7441    0.8621    0.7988    239191\n",
      "         4.0     0.9030    0.9498    0.9258    260238\n",
      "\n",
      "    accuracy                         0.8580   2100456\n",
      "   macro avg     0.8456    0.8866    0.8614   2100456\n",
      "weighted avg     0.8718    0.8580    0.8602   2100456\n",
      "\n"
     ]
    }
   ],
   "source": [
    "knn = KNeighborsClassifier(n_neighbors=20)\n",
    "norm_y_out = cross_val_predict(knn, norm_x, norm_y, cv=10)\n",
    "lm=(classification_report(norm_y, norm_y_out, digits=4))\n",
    "print(lm)"
   ]
  },
  {
   "cell_type": "markdown",
   "metadata": {},
   "source": [
    "# KNN + Cross Validation [ CV = 10, K = 30 ]"
   ]
  },
  {
   "cell_type": "code",
   "execution_count": null,
   "metadata": {},
   "outputs": [
    {
     "name": "stdout",
     "output_type": "stream",
     "text": [
      "              precision    recall  f1-score   support\n",
      "\n",
      "         0.0     0.9321    0.8199    0.8724   1230433\n",
      "         1.0     0.9605    0.8802    0.9186     53659\n",
      "         2.0     0.7034    0.9201    0.7973    316935\n",
      "         3.0     0.7430    0.8689    0.8010    239191\n",
      "         4.0     0.9037    0.9537    0.9280    260238\n",
      "\n",
      "    accuracy                         0.8587   2100456\n",
      "   macro avg     0.8485    0.8885    0.8635   2100456\n",
      "weighted avg     0.8732    0.8587    0.8610   2100456\n",
      "\n"
     ]
    }
   ],
   "source": [
    "knn = KNeighborsClassifier(n_neighbors=30)\n",
    "norm_y_out = cross_val_predict(knn, norm_x, norm_y, cv=10)\n",
    "lm=(classification_report(norm_y, norm_y_out, digits=4))\n",
    "print(lm)"
   ]
  },
  {
   "cell_type": "markdown",
   "metadata": {},
   "source": [
    "# KNN + Cross Validation [ CV = 10, K = 40 ]"
   ]
  },
  {
   "cell_type": "code",
   "execution_count": 11,
   "metadata": {},
   "outputs": [
    {
     "name": "stdout",
     "output_type": "stream",
     "text": [
      "              precision    recall  f1-score   support\n",
      "\n",
      "         0.0     0.9338    0.8191    0.8727   1230433\n",
      "         1.0     0.9673    0.8792    0.9211     53659\n",
      "         2.0     0.7017    0.9208    0.7964    316935\n",
      "         3.0     0.7433    0.8737    0.8033    239191\n",
      "         4.0     0.9042    0.9564    0.9296    260238\n",
      "\n",
      "    accuracy                         0.8592   2100456\n",
      "   macro avg     0.8501    0.8899    0.8646   2100456\n",
      "weighted avg     0.8743    0.8592    0.8616   2100456\n",
      "\n"
     ]
    }
   ],
   "source": [
    "knn = KNeighborsClassifier(n_neighbors=40)\n",
    "norm_y_out = cross_val_predict(knn, norm_x, norm_y, cv=10)\n",
    "lm=(classification_report(norm_y, norm_y_out, digits=4))\n",
    "print(lm)"
   ]
  },
  {
   "cell_type": "markdown",
   "metadata": {},
   "source": [
    "# KNN + Cross Validation [ CV = 10, K = 60 ]"
   ]
  },
  {
   "cell_type": "code",
   "execution_count": 10,
   "metadata": {},
   "outputs": [
    {
     "name": "stdout",
     "output_type": "stream",
     "text": [
      "              precision    recall  f1-score   support\n",
      "\n",
      "         0.0     0.9367    0.8185    0.8736   1230433\n",
      "         1.0     0.9745    0.8774    0.9234     53659\n",
      "         2.0     0.6999    0.9215    0.7956    316935\n",
      "         3.0     0.7447    0.8825    0.8078    239191\n",
      "         4.0     0.9046    0.9606    0.9318    260238\n",
      "\n",
      "    accuracy                         0.8604   2100456\n",
      "   macro avg     0.8521    0.8921    0.8664   2100456\n",
      "weighted avg     0.8761    0.8604    0.8628   2100456\n",
      "\n"
     ]
    }
   ],
   "source": [
    "knn = KNeighborsClassifier(n_neighbors=60)\n",
    "norm_y_out = cross_val_predict(knn, norm_x, norm_y, cv=10)\n",
    "lm=(classification_report(norm_y, norm_y_out, digits=4))\n",
    "print(lm)"
   ]
  },
  {
   "cell_type": "markdown",
   "metadata": {},
   "source": [
    "# KNN + Cross Validation [ CV = 10, K = 100 ]"
   ]
  },
  {
   "cell_type": "code",
   "execution_count": 9,
   "metadata": {},
   "outputs": [
    {
     "name": "stdout",
     "output_type": "stream",
     "text": [
      "              precision    recall  f1-score   support\n",
      "\n",
      "         0.0     0.9407    0.8172    0.8746   1230433\n",
      "         1.0     0.9775    0.8741    0.9229     53659\n",
      "         2.0     0.6977    0.9214    0.7941    316935\n",
      "         3.0     0.7461    0.8951    0.8139    239191\n",
      "         4.0     0.9049    0.9666    0.9347    260238\n",
      "\n",
      "    accuracy                         0.8618   2100456\n",
      "   macro avg     0.8534    0.8949    0.8680   2100456\n",
      "weighted avg     0.8784    0.8618    0.8642   2100456\n",
      "\n"
     ]
    }
   ],
   "source": [
    "knn = KNeighborsClassifier(n_neighbors=100)\n",
    "norm_y_out = cross_val_predict(knn, norm_x, norm_y, cv=10)\n",
    "lm=(classification_report(norm_y, norm_y_out, digits=4))\n",
    "print(lm)"
   ]
  },
  {
   "cell_type": "markdown",
   "metadata": {},
   "source": [
    "# Simple Decision Tree + Depth = 5"
   ]
  },
  {
   "cell_type": "code",
   "execution_count": 19,
   "metadata": {},
   "outputs": [
    {
     "name": "stdout",
     "output_type": "stream",
     "text": [
      "              precision    recall  f1-score   support\n",
      "\n",
      "         0.0     0.9638    0.9288    0.9460    245784\n",
      "         1.0     0.9992    0.9574    0.9779     10896\n",
      "         2.0     0.8718    0.9943    0.9290     63325\n",
      "         3.0     0.8461    0.8750    0.8603     48085\n",
      "         4.0     0.9871    0.9655    0.9762     52002\n",
      "\n",
      "    accuracy                         0.9378    420092\n",
      "   macro avg     0.9336    0.9442    0.9379    420092\n",
      "weighted avg     0.9403    0.9378    0.9382    420092\n",
      "\n"
     ]
    }
   ],
   "source": [
    "\n",
    "clf = DecisionTreeClassifier(criterion=\"entropy\", max_depth=5)\n",
    "\n",
    "clf_i = clf.fit(x_train,y_train)\n",
    "\n",
    "y_out_i = clf_i.predict(x_test)\n",
    "\n",
    "lm_i=(classification_report(y_test, y_out_i, digits=4))\n",
    "print(lm_i)\n",
    "\n",
    " "
   ]
  },
  {
   "cell_type": "markdown",
   "metadata": {},
   "source": [
    "# Displaying and Drwaing the Tree"
   ]
  },
  {
   "cell_type": "code",
   "execution_count": null,
   "metadata": {},
   "outputs": [],
   "source": [
    "tree.plot_tree(clf_i) "
   ]
  },
  {
   "cell_type": "code",
   "execution_count": 24,
   "metadata": {
    "scrolled": true
   },
   "outputs": [
    {
     "data": {
      "image/svg+xml": [
       "<?xml version=\"1.0\" encoding=\"UTF-8\" standalone=\"no\"?>\n",
       "<!DOCTYPE svg PUBLIC \"-//W3C//DTD SVG 1.1//EN\"\n",
       " \"http://www.w3.org/Graphics/SVG/1.1/DTD/svg11.dtd\">\n",
       "<!-- Generated by graphviz version 2.40.1 (20161225.0304)\n",
       " -->\n",
       "<!-- Title: Tree Pages: 1 -->\n",
       "<svg width=\"5585pt\" height=\"671pt\"\n",
       " viewBox=\"0.00 0.00 5584.50 671.00\" xmlns=\"http://www.w3.org/2000/svg\" xmlns:xlink=\"http://www.w3.org/1999/xlink\">\n",
       "<g id=\"graph0\" class=\"graph\" transform=\"scale(1 1) rotate(0) translate(4 667)\">\n",
       "<title>Tree</title>\n",
       "<polygon fill=\"#ffffff\" stroke=\"transparent\" points=\"-4,4 -4,-667 5580.5,-667 5580.5,4 -4,4\"/>\n",
       "<!-- 0 -->\n",
       "<g id=\"node1\" class=\"node\">\n",
       "<title>0</title>\n",
       "<path fill=\"#f2be9a\" stroke=\"#000000\" d=\"M2528.5,-663C2528.5,-663 2232.5,-663 2232.5,-663 2226.5,-663 2220.5,-657 2220.5,-651 2220.5,-651 2220.5,-592 2220.5,-592 2220.5,-586 2226.5,-580 2232.5,-580 2232.5,-580 2528.5,-580 2528.5,-580 2534.5,-580 2540.5,-586 2540.5,-592 2540.5,-592 2540.5,-651 2540.5,-651 2540.5,-657 2534.5,-663 2528.5,-663\"/>\n",
       "<text text-anchor=\"start\" x=\"2339\" y=\"-647.8\" font-family=\"Helvetica,sans-Serif\" font-size=\"14.00\" fill=\"#000000\">c_az ≤ &#45;0.637</text>\n",
       "<text text-anchor=\"start\" x=\"2333\" y=\"-632.8\" font-family=\"Helvetica,sans-Serif\" font-size=\"14.00\" fill=\"#000000\">entropy = 1.728</text>\n",
       "<text text-anchor=\"start\" x=\"2320.5\" y=\"-617.8\" font-family=\"Helvetica,sans-Serif\" font-size=\"14.00\" fill=\"#000000\">samples = 1680364</text>\n",
       "<text text-anchor=\"start\" x=\"2228.5\" y=\"-602.8\" font-family=\"Helvetica,sans-Serif\" font-size=\"14.00\" fill=\"#000000\">value = [984649, 42763, 253610, 191106, 208236]</text>\n",
       "<text text-anchor=\"start\" x=\"2353\" y=\"-587.8\" font-family=\"Helvetica,sans-Serif\" font-size=\"14.00\" fill=\"#000000\">class = 0</text>\n",
       "</g>\n",
       "<!-- 1 -->\n",
       "<g id=\"node2\" class=\"node\">\n",
       "<title>1</title>\n",
       "<path fill=\"#ec6fd1\" stroke=\"#000000\" d=\"M1889,-544C1889,-544 1676,-544 1676,-544 1670,-544 1664,-538 1664,-532 1664,-532 1664,-473 1664,-473 1664,-467 1670,-461 1676,-461 1676,-461 1889,-461 1889,-461 1895,-461 1901,-467 1901,-473 1901,-473 1901,-532 1901,-532 1901,-538 1895,-544 1889,-544\"/>\n",
       "<text text-anchor=\"start\" x=\"1739\" y=\"-528.8\" font-family=\"Helvetica,sans-Serif\" font-size=\"14.00\" fill=\"#000000\">c_eda ≤ 1.041</text>\n",
       "<text text-anchor=\"start\" x=\"1735\" y=\"-513.8\" font-family=\"Helvetica,sans-Serif\" font-size=\"14.00\" fill=\"#000000\">entropy = 0.999</text>\n",
       "<text text-anchor=\"start\" x=\"1726.5\" y=\"-498.8\" font-family=\"Helvetica,sans-Serif\" font-size=\"14.00\" fill=\"#000000\">samples = 271038</text>\n",
       "<text text-anchor=\"start\" x=\"1672\" y=\"-483.8\" font-family=\"Helvetica,sans-Serif\" font-size=\"14.00\" fill=\"#000000\">value = [22370, 40432, 0, 0, 208236]</text>\n",
       "<text text-anchor=\"start\" x=\"1755\" y=\"-468.8\" font-family=\"Helvetica,sans-Serif\" font-size=\"14.00\" fill=\"#000000\">class = 4</text>\n",
       "</g>\n",
       "<!-- 0&#45;&gt;1 -->\n",
       "<g id=\"edge1\" class=\"edge\">\n",
       "<title>0&#45;&gt;1</title>\n",
       "<path fill=\"none\" stroke=\"#000000\" d=\"M2220.247,-589.6102C2123.5419,-570.3662 2001.9564,-546.1711 1911.4799,-528.1666\"/>\n",
       "<polygon fill=\"#000000\" stroke=\"#000000\" points=\"1911.9296,-524.6875 1901.4388,-526.1684 1910.5634,-531.5529 1911.9296,-524.6875\"/>\n",
       "<text text-anchor=\"middle\" x=\"1915.3264\" y=\"-543.2563\" font-family=\"Helvetica,sans-Serif\" font-size=\"14.00\" fill=\"#000000\">True</text>\n",
       "</g>\n",
       "<!-- 26 -->\n",
       "<g id=\"node27\" class=\"node\">\n",
       "<title>26</title>\n",
       "<path fill=\"#efb286\" stroke=\"#000000\" d=\"M3171,-544C3171,-544 2920,-544 2920,-544 2914,-544 2908,-538 2908,-532 2908,-532 2908,-473 2908,-473 2908,-467 2914,-461 2920,-461 2920,-461 3171,-461 3171,-461 3177,-461 3183,-467 3183,-473 3183,-473 3183,-532 3183,-532 3183,-538 3177,-544 3171,-544\"/>\n",
       "<text text-anchor=\"start\" x=\"3002\" y=\"-528.8\" font-family=\"Helvetica,sans-Serif\" font-size=\"14.00\" fill=\"#000000\">c_eda ≤ 1.159</text>\n",
       "<text text-anchor=\"start\" x=\"2998\" y=\"-513.8\" font-family=\"Helvetica,sans-Serif\" font-size=\"14.00\" fill=\"#000000\">entropy = 1.227</text>\n",
       "<text text-anchor=\"start\" x=\"2985.5\" y=\"-498.8\" font-family=\"Helvetica,sans-Serif\" font-size=\"14.00\" fill=\"#000000\">samples = 1409326</text>\n",
       "<text text-anchor=\"start\" x=\"2916\" y=\"-483.8\" font-family=\"Helvetica,sans-Serif\" font-size=\"14.00\" fill=\"#000000\">value = [962279, 2331, 253610, 191106, 0]</text>\n",
       "<text text-anchor=\"start\" x=\"3018\" y=\"-468.8\" font-family=\"Helvetica,sans-Serif\" font-size=\"14.00\" fill=\"#000000\">class = 0</text>\n",
       "</g>\n",
       "<!-- 0&#45;&gt;26 -->\n",
       "<g id=\"edge26\" class=\"edge\">\n",
       "<title>0&#45;&gt;26</title>\n",
       "<path fill=\"none\" stroke=\"#000000\" d=\"M2540.6303,-592.8451C2649.2523,-573.4075 2791.7973,-547.8994 2897.7135,-528.946\"/>\n",
       "<polygon fill=\"#000000\" stroke=\"#000000\" points=\"2898.6196,-532.3395 2907.8467,-527.1327 2897.3865,-525.449 2898.6196,-532.3395\"/>\n",
       "<text text-anchor=\"middle\" x=\"2893.5594\" y=\"-543.9479\" font-family=\"Helvetica,sans-Serif\" font-size=\"14.00\" fill=\"#000000\">False</text>\n",
       "</g>\n",
       "<!-- 2 -->\n",
       "<g id=\"node3\" class=\"node\">\n",
       "<title>2</title>\n",
       "<path fill=\"#e84cc6\" stroke=\"#000000\" d=\"M1272,-425C1272,-425 1081,-425 1081,-425 1075,-425 1069,-419 1069,-413 1069,-413 1069,-354 1069,-354 1069,-348 1075,-342 1081,-342 1081,-342 1272,-342 1272,-342 1278,-342 1284,-348 1284,-354 1284,-354 1284,-413 1284,-413 1284,-419 1278,-425 1272,-425\"/>\n",
       "<text text-anchor=\"start\" x=\"1125\" y=\"-409.8\" font-family=\"Helvetica,sans-Serif\" font-size=\"14.00\" fill=\"#000000\">c_temp ≤ 31.506</text>\n",
       "<text text-anchor=\"start\" x=\"1129\" y=\"-394.8\" font-family=\"Helvetica,sans-Serif\" font-size=\"14.00\" fill=\"#000000\">entropy = 0.435</text>\n",
       "<text text-anchor=\"start\" x=\"1120.5\" y=\"-379.8\" font-family=\"Helvetica,sans-Serif\" font-size=\"14.00\" fill=\"#000000\">samples = 228668</text>\n",
       "<text text-anchor=\"start\" x=\"1077\" y=\"-364.8\" font-family=\"Helvetica,sans-Serif\" font-size=\"14.00\" fill=\"#000000\">value = [20423, 10, 0, 0, 208235]</text>\n",
       "<text text-anchor=\"start\" x=\"1149\" y=\"-349.8\" font-family=\"Helvetica,sans-Serif\" font-size=\"14.00\" fill=\"#000000\">class = 4</text>\n",
       "</g>\n",
       "<!-- 1&#45;&gt;2 -->\n",
       "<g id=\"edge2\" class=\"edge\">\n",
       "<title>1&#45;&gt;2</title>\n",
       "<path fill=\"none\" stroke=\"#000000\" d=\"M1663.8579,-479.2023C1556.9331,-458.2055 1400.596,-427.5056 1294.019,-406.5772\"/>\n",
       "<polygon fill=\"#000000\" stroke=\"#000000\" points=\"1294.673,-403.1388 1284.186,-404.6463 1293.3241,-410.0076 1294.673,-403.1388\"/>\n",
       "</g>\n",
       "<!-- 17 -->\n",
       "<g id=\"node18\" class=\"node\">\n",
       "<title>17</title>\n",
       "<path fill=\"#81e643\" stroke=\"#000000\" d=\"M1866.5,-425C1866.5,-425 1698.5,-425 1698.5,-425 1692.5,-425 1686.5,-419 1686.5,-413 1686.5,-413 1686.5,-354 1686.5,-354 1686.5,-348 1692.5,-342 1698.5,-342 1698.5,-342 1866.5,-342 1866.5,-342 1872.5,-342 1878.5,-348 1878.5,-354 1878.5,-354 1878.5,-413 1878.5,-413 1878.5,-419 1872.5,-425 1866.5,-425\"/>\n",
       "<text text-anchor=\"start\" x=\"1741\" y=\"-409.8\" font-family=\"Helvetica,sans-Serif\" font-size=\"14.00\" fill=\"#000000\">c_ay ≤ &#45;0.162</text>\n",
       "<text text-anchor=\"start\" x=\"1735\" y=\"-394.8\" font-family=\"Helvetica,sans-Serif\" font-size=\"14.00\" fill=\"#000000\">entropy = 0.269</text>\n",
       "<text text-anchor=\"start\" x=\"1730\" y=\"-379.8\" font-family=\"Helvetica,sans-Serif\" font-size=\"14.00\" fill=\"#000000\">samples = 42370</text>\n",
       "<text text-anchor=\"start\" x=\"1694.5\" y=\"-364.8\" font-family=\"Helvetica,sans-Serif\" font-size=\"14.00\" fill=\"#000000\">value = [1947, 40422, 0, 0, 1]</text>\n",
       "<text text-anchor=\"start\" x=\"1755\" y=\"-349.8\" font-family=\"Helvetica,sans-Serif\" font-size=\"14.00\" fill=\"#000000\">class = 1</text>\n",
       "</g>\n",
       "<!-- 1&#45;&gt;17 -->\n",
       "<g id=\"edge17\" class=\"edge\">\n",
       "<title>1&#45;&gt;17</title>\n",
       "<path fill=\"none\" stroke=\"#000000\" d=\"M1782.5,-460.8796C1782.5,-452.6838 1782.5,-443.9891 1782.5,-435.5013\"/>\n",
       "<polygon fill=\"#000000\" stroke=\"#000000\" points=\"1786.0001,-435.298 1782.5,-425.2981 1779.0001,-435.2981 1786.0001,-435.298\"/>\n",
       "</g>\n",
       "<!-- 3 -->\n",
       "<g id=\"node4\" class=\"node\">\n",
       "<title>3</title>\n",
       "<path fill=\"#e644c4\" stroke=\"#000000\" d=\"M701,-306C701,-306 510,-306 510,-306 504,-306 498,-300 498,-294 498,-294 498,-235 498,-235 498,-229 504,-223 510,-223 510,-223 701,-223 701,-223 707,-223 713,-229 713,-235 713,-235 713,-294 713,-294 713,-300 707,-306 701,-306\"/>\n",
       "<text text-anchor=\"start\" x=\"554\" y=\"-290.8\" font-family=\"Helvetica,sans-Serif\" font-size=\"14.00\" fill=\"#000000\">c_temp ≤ 31.307</text>\n",
       "<text text-anchor=\"start\" x=\"558\" y=\"-275.8\" font-family=\"Helvetica,sans-Serif\" font-size=\"14.00\" fill=\"#000000\">entropy = 0.302</text>\n",
       "<text text-anchor=\"start\" x=\"549.5\" y=\"-260.8\" font-family=\"Helvetica,sans-Serif\" font-size=\"14.00\" fill=\"#000000\">samples = 219510</text>\n",
       "<text text-anchor=\"start\" x=\"506\" y=\"-245.8\" font-family=\"Helvetica,sans-Serif\" font-size=\"14.00\" fill=\"#000000\">value = [11733, 10, 0, 0, 207767]</text>\n",
       "<text text-anchor=\"start\" x=\"578\" y=\"-230.8\" font-family=\"Helvetica,sans-Serif\" font-size=\"14.00\" fill=\"#000000\">class = 4</text>\n",
       "</g>\n",
       "<!-- 2&#45;&gt;3 -->\n",
       "<g id=\"edge3\" class=\"edge\">\n",
       "<title>2&#45;&gt;3</title>\n",
       "<path fill=\"none\" stroke=\"#000000\" d=\"M1068.7638,-361.0471C970.2405,-340.5142 824.8085,-310.2053 723.2549,-289.0409\"/>\n",
       "<polygon fill=\"#000000\" stroke=\"#000000\" points=\"723.7629,-285.5716 713.2591,-286.9577 722.3347,-292.4244 723.7629,-285.5716\"/>\n",
       "</g>\n",
       "<!-- 10 -->\n",
       "<g id=\"node11\" class=\"node\">\n",
       "<title>10</title>\n",
       "<path fill=\"#e68844\" stroke=\"#000000\" d=\"M1253,-306C1253,-306 1100,-306 1100,-306 1094,-306 1088,-300 1088,-294 1088,-294 1088,-235 1088,-235 1088,-229 1094,-223 1100,-223 1100,-223 1253,-223 1253,-223 1259,-223 1265,-229 1265,-235 1265,-235 1265,-294 1265,-294 1265,-300 1259,-306 1253,-306\"/>\n",
       "<text text-anchor=\"start\" x=\"1133\" y=\"-290.8\" font-family=\"Helvetica,sans-Serif\" font-size=\"14.00\" fill=\"#000000\">c_eda ≤ 0.931</text>\n",
       "<text text-anchor=\"start\" x=\"1129\" y=\"-275.8\" font-family=\"Helvetica,sans-Serif\" font-size=\"14.00\" fill=\"#000000\">entropy = 0.291</text>\n",
       "<text text-anchor=\"start\" x=\"1128\" y=\"-260.8\" font-family=\"Helvetica,sans-Serif\" font-size=\"14.00\" fill=\"#000000\">samples = 9158</text>\n",
       "<text text-anchor=\"start\" x=\"1096\" y=\"-245.8\" font-family=\"Helvetica,sans-Serif\" font-size=\"14.00\" fill=\"#000000\">value = [8690, 0, 0, 0, 468]</text>\n",
       "<text text-anchor=\"start\" x=\"1149\" y=\"-230.8\" font-family=\"Helvetica,sans-Serif\" font-size=\"14.00\" fill=\"#000000\">class = 0</text>\n",
       "</g>\n",
       "<!-- 2&#45;&gt;10 -->\n",
       "<g id=\"edge10\" class=\"edge\">\n",
       "<title>2&#45;&gt;10</title>\n",
       "<path fill=\"none\" stroke=\"#000000\" d=\"M1176.5,-341.8796C1176.5,-333.6838 1176.5,-324.9891 1176.5,-316.5013\"/>\n",
       "<polygon fill=\"#000000\" stroke=\"#000000\" points=\"1180.0001,-316.298 1176.5,-306.2981 1173.0001,-316.2981 1180.0001,-316.298\"/>\n",
       "</g>\n",
       "<!-- 4 -->\n",
       "<g id=\"node5\" class=\"node\">\n",
       "<title>4</title>\n",
       "<path fill=\"#f8ccef\" stroke=\"#000000\" d=\"M383.5,-187C383.5,-187 207.5,-187 207.5,-187 201.5,-187 195.5,-181 195.5,-175 195.5,-175 195.5,-116 195.5,-116 195.5,-110 201.5,-104 207.5,-104 207.5,-104 383.5,-104 383.5,-104 389.5,-104 395.5,-110 395.5,-116 395.5,-116 395.5,-175 395.5,-175 395.5,-181 389.5,-187 383.5,-187\"/>\n",
       "<text text-anchor=\"start\" x=\"256\" y=\"-171.8\" font-family=\"Helvetica,sans-Serif\" font-size=\"14.00\" fill=\"#000000\">c_ax ≤ 0.571</text>\n",
       "<text text-anchor=\"start\" x=\"248\" y=\"-156.8\" font-family=\"Helvetica,sans-Serif\" font-size=\"14.00\" fill=\"#000000\">entropy = 0.989</text>\n",
       "<text text-anchor=\"start\" x=\"243\" y=\"-141.8\" font-family=\"Helvetica,sans-Serif\" font-size=\"14.00\" fill=\"#000000\">samples = 23050</text>\n",
       "<text text-anchor=\"start\" x=\"203.5\" y=\"-126.8\" font-family=\"Helvetica,sans-Serif\" font-size=\"14.00\" fill=\"#000000\">value = [9827, 10, 0, 0, 13213]</text>\n",
       "<text text-anchor=\"start\" x=\"268\" y=\"-111.8\" font-family=\"Helvetica,sans-Serif\" font-size=\"14.00\" fill=\"#000000\">class = 4</text>\n",
       "</g>\n",
       "<!-- 3&#45;&gt;4 -->\n",
       "<g id=\"edge4\" class=\"edge\">\n",
       "<title>3&#45;&gt;4</title>\n",
       "<path fill=\"none\" stroke=\"#000000\" d=\"M497.947,-223.2135C467.9657,-211.7046 435.3633,-199.1895 405.2569,-187.6325\"/>\n",
       "<polygon fill=\"#000000\" stroke=\"#000000\" points=\"406.1664,-184.2327 395.5763,-183.9164 403.6577,-190.7677 406.1664,-184.2327\"/>\n",
       "</g>\n",
       "<!-- 7 -->\n",
       "<g id=\"node8\" class=\"node\">\n",
       "<title>7</title>\n",
       "<path fill=\"#e53bc1\" stroke=\"#000000\" d=\"M693.5,-187C693.5,-187 517.5,-187 517.5,-187 511.5,-187 505.5,-181 505.5,-175 505.5,-175 505.5,-116 505.5,-116 505.5,-110 511.5,-104 517.5,-104 517.5,-104 693.5,-104 693.5,-104 699.5,-104 705.5,-110 705.5,-116 705.5,-116 705.5,-175 705.5,-175 705.5,-181 699.5,-187 693.5,-187\"/>\n",
       "<text text-anchor=\"start\" x=\"564\" y=\"-171.8\" font-family=\"Helvetica,sans-Serif\" font-size=\"14.00\" fill=\"#000000\">c_ay ≤ &#45;0.138</text>\n",
       "<text text-anchor=\"start\" x=\"558\" y=\"-156.8\" font-family=\"Helvetica,sans-Serif\" font-size=\"14.00\" fill=\"#000000\">entropy = 0.079</text>\n",
       "<text text-anchor=\"start\" x=\"549.5\" y=\"-141.8\" font-family=\"Helvetica,sans-Serif\" font-size=\"14.00\" fill=\"#000000\">samples = 196460</text>\n",
       "<text text-anchor=\"start\" x=\"513.5\" y=\"-126.8\" font-family=\"Helvetica,sans-Serif\" font-size=\"14.00\" fill=\"#000000\">value = [1906, 0, 0, 0, 194554]</text>\n",
       "<text text-anchor=\"start\" x=\"578\" y=\"-111.8\" font-family=\"Helvetica,sans-Serif\" font-size=\"14.00\" fill=\"#000000\">class = 4</text>\n",
       "</g>\n",
       "<!-- 3&#45;&gt;7 -->\n",
       "<g id=\"edge7\" class=\"edge\">\n",
       "<title>3&#45;&gt;7</title>\n",
       "<path fill=\"none\" stroke=\"#000000\" d=\"M605.5,-222.8796C605.5,-214.6838 605.5,-205.9891 605.5,-197.5013\"/>\n",
       "<polygon fill=\"#000000\" stroke=\"#000000\" points=\"609.0001,-197.298 605.5,-187.2981 602.0001,-197.2981 609.0001,-197.298\"/>\n",
       "</g>\n",
       "<!-- 5 -->\n",
       "<g id=\"node6\" class=\"node\">\n",
       "<title>5</title>\n",
       "<path fill=\"#f9e2d2\" stroke=\"#000000\" d=\"M173,-68C173,-68 12,-68 12,-68 6,-68 0,-62 0,-56 0,-56 0,-12 0,-12 0,-6 6,0 12,0 12,0 173,0 173,0 179,0 185,-6 185,-12 185,-12 185,-56 185,-56 185,-62 179,-68 173,-68\"/>\n",
       "<text text-anchor=\"start\" x=\"45\" y=\"-52.8\" font-family=\"Helvetica,sans-Serif\" font-size=\"14.00\" fill=\"#000000\">entropy = 0.988</text>\n",
       "<text text-anchor=\"start\" x=\"40\" y=\"-37.8\" font-family=\"Helvetica,sans-Serif\" font-size=\"14.00\" fill=\"#000000\">samples = 16331</text>\n",
       "<text text-anchor=\"start\" x=\"8\" y=\"-22.8\" font-family=\"Helvetica,sans-Serif\" font-size=\"14.00\" fill=\"#000000\">value = [9225, 0, 0, 0, 7106]</text>\n",
       "<text text-anchor=\"start\" x=\"65\" y=\"-7.8\" font-family=\"Helvetica,sans-Serif\" font-size=\"14.00\" fill=\"#000000\">class = 0</text>\n",
       "</g>\n",
       "<!-- 4&#45;&gt;5 -->\n",
       "<g id=\"edge5\" class=\"edge\">\n",
       "<title>4&#45;&gt;5</title>\n",
       "<path fill=\"none\" stroke=\"#000000\" d=\"M219.9103,-103.9815C201.4074,-93.8186 181.6733,-82.9794 163.3991,-72.9421\"/>\n",
       "<polygon fill=\"#000000\" stroke=\"#000000\" points=\"165.0071,-69.8322 154.5572,-68.0856 161.6371,-75.9676 165.0071,-69.8322\"/>\n",
       "</g>\n",
       "<!-- 6 -->\n",
       "<g id=\"node7\" class=\"node\">\n",
       "<title>6</title>\n",
       "<path fill=\"#e84dc6\" stroke=\"#000000\" d=\"M376,-68C376,-68 215,-68 215,-68 209,-68 203,-62 203,-56 203,-56 203,-12 203,-12 203,-6 209,0 215,0 215,0 376,0 376,0 382,0 388,-6 388,-12 388,-12 388,-56 388,-56 388,-62 382,-68 376,-68\"/>\n",
       "<text text-anchor=\"start\" x=\"248\" y=\"-52.8\" font-family=\"Helvetica,sans-Serif\" font-size=\"14.00\" fill=\"#000000\">entropy = 0.451</text>\n",
       "<text text-anchor=\"start\" x=\"247\" y=\"-37.8\" font-family=\"Helvetica,sans-Serif\" font-size=\"14.00\" fill=\"#000000\">samples = 6719</text>\n",
       "<text text-anchor=\"start\" x=\"211\" y=\"-22.8\" font-family=\"Helvetica,sans-Serif\" font-size=\"14.00\" fill=\"#000000\">value = [602, 10, 0, 0, 6107]</text>\n",
       "<text text-anchor=\"start\" x=\"268\" y=\"-7.8\" font-family=\"Helvetica,sans-Serif\" font-size=\"14.00\" fill=\"#000000\">class = 4</text>\n",
       "</g>\n",
       "<!-- 4&#45;&gt;6 -->\n",
       "<g id=\"edge6\" class=\"edge\">\n",
       "<title>4&#45;&gt;6</title>\n",
       "<path fill=\"none\" stroke=\"#000000\" d=\"M295.5,-103.9815C295.5,-95.618 295.5,-86.7965 295.5,-78.3409\"/>\n",
       "<polygon fill=\"#000000\" stroke=\"#000000\" points=\"299.0001,-78.2636 295.5,-68.2637 292.0001,-78.2637 299.0001,-78.2636\"/>\n",
       "</g>\n",
       "<!-- 8 -->\n",
       "<g id=\"node9\" class=\"node\">\n",
       "<title>8</title>\n",
       "<path fill=\"#e954c9\" stroke=\"#000000\" d=\"M571,-68C571,-68 418,-68 418,-68 412,-68 406,-62 406,-56 406,-56 406,-12 406,-12 406,-6 412,0 418,0 418,0 571,0 571,0 577,0 583,-6 583,-12 583,-12 583,-56 583,-56 583,-62 577,-68 571,-68\"/>\n",
       "<text text-anchor=\"start\" x=\"447\" y=\"-52.8\" font-family=\"Helvetica,sans-Serif\" font-size=\"14.00\" fill=\"#000000\">entropy = 0.532</text>\n",
       "<text text-anchor=\"start\" x=\"446\" y=\"-37.8\" font-family=\"Helvetica,sans-Serif\" font-size=\"14.00\" fill=\"#000000\">samples = 8219</text>\n",
       "<text text-anchor=\"start\" x=\"414\" y=\"-22.8\" font-family=\"Helvetica,sans-Serif\" font-size=\"14.00\" fill=\"#000000\">value = [993, 0, 0, 0, 7226]</text>\n",
       "<text text-anchor=\"start\" x=\"467\" y=\"-7.8\" font-family=\"Helvetica,sans-Serif\" font-size=\"14.00\" fill=\"#000000\">class = 4</text>\n",
       "</g>\n",
       "<!-- 7&#45;&gt;8 -->\n",
       "<g id=\"edge8\" class=\"edge\">\n",
       "<title>7&#45;&gt;8</title>\n",
       "<path fill=\"none\" stroke=\"#000000\" d=\"M564.1677,-103.9815C554.9267,-94.6989 545.1242,-84.8522 535.8813,-75.5677\"/>\n",
       "<polygon fill=\"#000000\" stroke=\"#000000\" points=\"538.1457,-72.8813 528.61,-68.2637 533.1848,-77.82 538.1457,-72.8813\"/>\n",
       "</g>\n",
       "<!-- 9 -->\n",
       "<g id=\"node10\" class=\"node\">\n",
       "<title>9</title>\n",
       "<path fill=\"#e53ac0\" stroke=\"#000000\" d=\"M781.5,-68C781.5,-68 613.5,-68 613.5,-68 607.5,-68 601.5,-62 601.5,-56 601.5,-56 601.5,-12 601.5,-12 601.5,-6 607.5,0 613.5,0 613.5,0 781.5,0 781.5,0 787.5,0 793.5,-6 793.5,-12 793.5,-12 793.5,-56 793.5,-56 793.5,-62 787.5,-68 781.5,-68\"/>\n",
       "<text text-anchor=\"start\" x=\"650\" y=\"-52.8\" font-family=\"Helvetica,sans-Serif\" font-size=\"14.00\" fill=\"#000000\">entropy = 0.044</text>\n",
       "<text text-anchor=\"start\" x=\"641.5\" y=\"-37.8\" font-family=\"Helvetica,sans-Serif\" font-size=\"14.00\" fill=\"#000000\">samples = 188241</text>\n",
       "<text text-anchor=\"start\" x=\"609.5\" y=\"-22.8\" font-family=\"Helvetica,sans-Serif\" font-size=\"14.00\" fill=\"#000000\">value = [913, 0, 0, 0, 187328]</text>\n",
       "<text text-anchor=\"start\" x=\"670\" y=\"-7.8\" font-family=\"Helvetica,sans-Serif\" font-size=\"14.00\" fill=\"#000000\">class = 4</text>\n",
       "</g>\n",
       "<!-- 7&#45;&gt;9 -->\n",
       "<g id=\"edge9\" class=\"edge\">\n",
       "<title>7&#45;&gt;9</title>\n",
       "<path fill=\"none\" stroke=\"#000000\" d=\"M639.7574,-103.9815C647.2649,-94.8828 655.2196,-85.242 662.7464,-76.1199\"/>\n",
       "<polygon fill=\"#000000\" stroke=\"#000000\" points=\"665.5639,-78.2045 669.2286,-68.2637 660.1646,-73.7495 665.5639,-78.2045\"/>\n",
       "</g>\n",
       "<!-- 11 -->\n",
       "<g id=\"node12\" class=\"node\">\n",
       "<title>11</title>\n",
       "<path fill=\"#f1bc96\" stroke=\"#000000\" d=\"M1153.5,-187C1153.5,-187 1007.5,-187 1007.5,-187 1001.5,-187 995.5,-181 995.5,-175 995.5,-175 995.5,-116 995.5,-116 995.5,-110 1001.5,-104 1007.5,-104 1007.5,-104 1153.5,-104 1153.5,-104 1159.5,-104 1165.5,-110 1165.5,-116 1165.5,-116 1165.5,-175 1165.5,-175 1165.5,-181 1159.5,-187 1153.5,-187\"/>\n",
       "<text text-anchor=\"start\" x=\"1029\" y=\"-171.8\" font-family=\"Helvetica,sans-Serif\" font-size=\"14.00\" fill=\"#000000\">c_temp ≤ 31.944</text>\n",
       "<text text-anchor=\"start\" x=\"1033\" y=\"-156.8\" font-family=\"Helvetica,sans-Serif\" font-size=\"14.00\" fill=\"#000000\">entropy = 0.904</text>\n",
       "<text text-anchor=\"start\" x=\"1032\" y=\"-141.8\" font-family=\"Helvetica,sans-Serif\" font-size=\"14.00\" fill=\"#000000\">samples = 1094</text>\n",
       "<text text-anchor=\"start\" x=\"1003.5\" y=\"-126.8\" font-family=\"Helvetica,sans-Serif\" font-size=\"14.00\" fill=\"#000000\">value = [744, 0, 0, 0, 350]</text>\n",
       "<text text-anchor=\"start\" x=\"1053\" y=\"-111.8\" font-family=\"Helvetica,sans-Serif\" font-size=\"14.00\" fill=\"#000000\">class = 0</text>\n",
       "</g>\n",
       "<!-- 10&#45;&gt;11 -->\n",
       "<g id=\"edge11\" class=\"edge\">\n",
       "<title>10&#45;&gt;11</title>\n",
       "<path fill=\"none\" stroke=\"#000000\" d=\"M1142.9239,-222.8796C1135.7309,-213.9633 1128.0616,-204.4565 1120.649,-195.268\"/>\n",
       "<polygon fill=\"#000000\" stroke=\"#000000\" points=\"1123.2224,-192.8836 1114.2195,-187.2981 1117.7742,-197.2788 1123.2224,-192.8836\"/>\n",
       "</g>\n",
       "<!-- 14 -->\n",
       "<g id=\"node15\" class=\"node\">\n",
       "<title>14</title>\n",
       "<path fill=\"#e5833c\" stroke=\"#000000\" d=\"M1349,-187C1349,-187 1196,-187 1196,-187 1190,-187 1184,-181 1184,-175 1184,-175 1184,-116 1184,-116 1184,-110 1190,-104 1196,-104 1196,-104 1349,-104 1349,-104 1355,-104 1361,-110 1361,-116 1361,-116 1361,-175 1361,-175 1361,-181 1355,-187 1349,-187\"/>\n",
       "<text text-anchor=\"start\" x=\"1221\" y=\"-171.8\" font-family=\"Helvetica,sans-Serif\" font-size=\"14.00\" fill=\"#000000\">c_temp ≤ 31.525</text>\n",
       "<text text-anchor=\"start\" x=\"1228.5\" y=\"-156.8\" font-family=\"Helvetica,sans-Serif\" font-size=\"14.00\" fill=\"#000000\">entropy = 0.11</text>\n",
       "<text text-anchor=\"start\" x=\"1224\" y=\"-141.8\" font-family=\"Helvetica,sans-Serif\" font-size=\"14.00\" fill=\"#000000\">samples = 8064</text>\n",
       "<text text-anchor=\"start\" x=\"1192\" y=\"-126.8\" font-family=\"Helvetica,sans-Serif\" font-size=\"14.00\" fill=\"#000000\">value = [7946, 0, 0, 0, 118]</text>\n",
       "<text text-anchor=\"start\" x=\"1245\" y=\"-111.8\" font-family=\"Helvetica,sans-Serif\" font-size=\"14.00\" fill=\"#000000\">class = 0</text>\n",
       "</g>\n",
       "<!-- 10&#45;&gt;14 -->\n",
       "<g id=\"edge14\" class=\"edge\">\n",
       "<title>10&#45;&gt;14</title>\n",
       "<path fill=\"none\" stroke=\"#000000\" d=\"M1210.0761,-222.8796C1217.2691,-213.9633 1224.9384,-204.4565 1232.351,-195.268\"/>\n",
       "<polygon fill=\"#000000\" stroke=\"#000000\" points=\"1235.2258,-197.2788 1238.7805,-187.2981 1229.7776,-192.8836 1235.2258,-197.2788\"/>\n",
       "</g>\n",
       "<!-- 12 -->\n",
       "<g id=\"node13\" class=\"node\">\n",
       "<title>12</title>\n",
       "<path fill=\"#f3a5e2\" stroke=\"#000000\" d=\"M969.5,-68C969.5,-68 823.5,-68 823.5,-68 817.5,-68 811.5,-62 811.5,-56 811.5,-56 811.5,-12 811.5,-12 811.5,-6 817.5,0 823.5,0 823.5,0 969.5,0 969.5,0 975.5,0 981.5,-6 981.5,-12 981.5,-12 981.5,-56 981.5,-56 981.5,-62 975.5,-68 969.5,-68\"/>\n",
       "<text text-anchor=\"start\" x=\"849\" y=\"-52.8\" font-family=\"Helvetica,sans-Serif\" font-size=\"14.00\" fill=\"#000000\">entropy = 0.937</text>\n",
       "<text text-anchor=\"start\" x=\"851.5\" y=\"-37.8\" font-family=\"Helvetica,sans-Serif\" font-size=\"14.00\" fill=\"#000000\">samples = 345</text>\n",
       "<text text-anchor=\"start\" x=\"819.5\" y=\"-22.8\" font-family=\"Helvetica,sans-Serif\" font-size=\"14.00\" fill=\"#000000\">value = [122, 0, 0, 0, 223]</text>\n",
       "<text text-anchor=\"start\" x=\"869\" y=\"-7.8\" font-family=\"Helvetica,sans-Serif\" font-size=\"14.00\" fill=\"#000000\">class = 4</text>\n",
       "</g>\n",
       "<!-- 11&#45;&gt;12 -->\n",
       "<g id=\"edge12\" class=\"edge\">\n",
       "<title>11&#45;&gt;12</title>\n",
       "<path fill=\"none\" stroke=\"#000000\" d=\"M1011.9852,-103.9815C995.519,-94.0034 977.9771,-83.3733 961.668,-73.4904\"/>\n",
       "<polygon fill=\"#000000\" stroke=\"#000000\" points=\"963.1151,-70.2749 952.7489,-68.0856 959.4873,-76.2615 963.1151,-70.2749\"/>\n",
       "</g>\n",
       "<!-- 13 -->\n",
       "<g id=\"node14\" class=\"node\">\n",
       "<title>13</title>\n",
       "<path fill=\"#ea9b61\" stroke=\"#000000\" d=\"M1157.5,-68C1157.5,-68 1011.5,-68 1011.5,-68 1005.5,-68 999.5,-62 999.5,-56 999.5,-56 999.5,-12 999.5,-12 999.5,-6 1005.5,0 1011.5,0 1011.5,0 1157.5,0 1157.5,0 1163.5,0 1169.5,-6 1169.5,-12 1169.5,-12 1169.5,-56 1169.5,-56 1169.5,-62 1163.5,-68 1157.5,-68\"/>\n",
       "<text text-anchor=\"start\" x=\"1037\" y=\"-52.8\" font-family=\"Helvetica,sans-Serif\" font-size=\"14.00\" fill=\"#000000\">entropy = 0.657</text>\n",
       "<text text-anchor=\"start\" x=\"1039.5\" y=\"-37.8\" font-family=\"Helvetica,sans-Serif\" font-size=\"14.00\" fill=\"#000000\">samples = 749</text>\n",
       "<text text-anchor=\"start\" x=\"1007.5\" y=\"-22.8\" font-family=\"Helvetica,sans-Serif\" font-size=\"14.00\" fill=\"#000000\">value = [622, 0, 0, 0, 127]</text>\n",
       "<text text-anchor=\"start\" x=\"1057\" y=\"-7.8\" font-family=\"Helvetica,sans-Serif\" font-size=\"14.00\" fill=\"#000000\">class = 0</text>\n",
       "</g>\n",
       "<!-- 11&#45;&gt;13 -->\n",
       "<g id=\"edge13\" class=\"edge\">\n",
       "<title>11&#45;&gt;13</title>\n",
       "<path fill=\"none\" stroke=\"#000000\" d=\"M1081.9895,-103.9815C1082.2895,-95.618 1082.606,-86.7965 1082.9093,-78.3409\"/>\n",
       "<polygon fill=\"#000000\" stroke=\"#000000\" points=\"1086.41,-78.3828 1083.2708,-68.2637 1079.4145,-78.1317 1086.41,-78.3828\"/>\n",
       "</g>\n",
       "<!-- 15 -->\n",
       "<g id=\"node16\" class=\"node\">\n",
       "<title>15</title>\n",
       "<path fill=\"#e89051\" stroke=\"#000000\" d=\"M1337.5,-68C1337.5,-68 1199.5,-68 1199.5,-68 1193.5,-68 1187.5,-62 1187.5,-56 1187.5,-56 1187.5,-12 1187.5,-12 1187.5,-6 1193.5,0 1199.5,0 1199.5,0 1337.5,0 1337.5,0 1343.5,0 1349.5,-6 1349.5,-12 1349.5,-12 1349.5,-56 1349.5,-56 1349.5,-62 1343.5,-68 1337.5,-68\"/>\n",
       "<text text-anchor=\"start\" x=\"1221\" y=\"-52.8\" font-family=\"Helvetica,sans-Serif\" font-size=\"14.00\" fill=\"#000000\">entropy = 0.495</text>\n",
       "<text text-anchor=\"start\" x=\"1223.5\" y=\"-37.8\" font-family=\"Helvetica,sans-Serif\" font-size=\"14.00\" fill=\"#000000\">samples = 730</text>\n",
       "<text text-anchor=\"start\" x=\"1195.5\" y=\"-22.8\" font-family=\"Helvetica,sans-Serif\" font-size=\"14.00\" fill=\"#000000\">value = [651, 0, 0, 0, 79]</text>\n",
       "<text text-anchor=\"start\" x=\"1241\" y=\"-7.8\" font-family=\"Helvetica,sans-Serif\" font-size=\"14.00\" fill=\"#000000\">class = 0</text>\n",
       "</g>\n",
       "<!-- 14&#45;&gt;15 -->\n",
       "<g id=\"edge15\" class=\"edge\">\n",
       "<title>14&#45;&gt;15</title>\n",
       "<path fill=\"none\" stroke=\"#000000\" d=\"M1271.0105,-103.9815C1270.7105,-95.618 1270.394,-86.7965 1270.0907,-78.3409\"/>\n",
       "<polygon fill=\"#000000\" stroke=\"#000000\" points=\"1273.5855,-78.1317 1269.7292,-68.2637 1266.59,-78.3828 1273.5855,-78.1317\"/>\n",
       "</g>\n",
       "<!-- 16 -->\n",
       "<g id=\"node17\" class=\"node\">\n",
       "<title>16</title>\n",
       "<path fill=\"#e5823a\" stroke=\"#000000\" d=\"M1525.5,-68C1525.5,-68 1379.5,-68 1379.5,-68 1373.5,-68 1367.5,-62 1367.5,-56 1367.5,-56 1367.5,-12 1367.5,-12 1367.5,-6 1373.5,0 1379.5,0 1379.5,0 1525.5,0 1525.5,0 1531.5,0 1537.5,-6 1537.5,-12 1537.5,-12 1537.5,-56 1537.5,-56 1537.5,-62 1531.5,-68 1525.5,-68\"/>\n",
       "<text text-anchor=\"start\" x=\"1405\" y=\"-52.8\" font-family=\"Helvetica,sans-Serif\" font-size=\"14.00\" fill=\"#000000\">entropy = 0.048</text>\n",
       "<text text-anchor=\"start\" x=\"1404\" y=\"-37.8\" font-family=\"Helvetica,sans-Serif\" font-size=\"14.00\" fill=\"#000000\">samples = 7334</text>\n",
       "<text text-anchor=\"start\" x=\"1375.5\" y=\"-22.8\" font-family=\"Helvetica,sans-Serif\" font-size=\"14.00\" fill=\"#000000\">value = [7295, 0, 0, 0, 39]</text>\n",
       "<text text-anchor=\"start\" x=\"1425\" y=\"-7.8\" font-family=\"Helvetica,sans-Serif\" font-size=\"14.00\" fill=\"#000000\">class = 0</text>\n",
       "</g>\n",
       "<!-- 14&#45;&gt;16 -->\n",
       "<g id=\"edge16\" class=\"edge\">\n",
       "<title>14&#45;&gt;16</title>\n",
       "<path fill=\"none\" stroke=\"#000000\" d=\"M1339.5254,-103.9815C1355.6336,-94.0034 1372.7941,-83.3733 1388.7487,-73.4904\"/>\n",
       "<polygon fill=\"#000000\" stroke=\"#000000\" points=\"1390.8158,-76.3271 1397.4739,-68.0856 1387.1296,-70.3763 1390.8158,-76.3271\"/>\n",
       "</g>\n",
       "<!-- 18 -->\n",
       "<g id=\"node19\" class=\"node\">\n",
       "<title>18</title>\n",
       "<path fill=\"#e58139\" stroke=\"#000000\" d=\"M1757.5,-298.5C1757.5,-298.5 1619.5,-298.5 1619.5,-298.5 1613.5,-298.5 1607.5,-292.5 1607.5,-286.5 1607.5,-286.5 1607.5,-242.5 1607.5,-242.5 1607.5,-236.5 1613.5,-230.5 1619.5,-230.5 1619.5,-230.5 1757.5,-230.5 1757.5,-230.5 1763.5,-230.5 1769.5,-236.5 1769.5,-242.5 1769.5,-242.5 1769.5,-286.5 1769.5,-286.5 1769.5,-292.5 1763.5,-298.5 1757.5,-298.5\"/>\n",
       "<text text-anchor=\"start\" x=\"1648.5\" y=\"-283.3\" font-family=\"Helvetica,sans-Serif\" font-size=\"14.00\" fill=\"#000000\">entropy = 0.0</text>\n",
       "<text text-anchor=\"start\" x=\"1640\" y=\"-268.3\" font-family=\"Helvetica,sans-Serif\" font-size=\"14.00\" fill=\"#000000\">samples = 1878</text>\n",
       "<text text-anchor=\"start\" x=\"1615.5\" y=\"-253.3\" font-family=\"Helvetica,sans-Serif\" font-size=\"14.00\" fill=\"#000000\">value = [1878, 0, 0, 0, 0]</text>\n",
       "<text text-anchor=\"start\" x=\"1661\" y=\"-238.3\" font-family=\"Helvetica,sans-Serif\" font-size=\"14.00\" fill=\"#000000\">class = 0</text>\n",
       "</g>\n",
       "<!-- 17&#45;&gt;18 -->\n",
       "<g id=\"edge18\" class=\"edge\">\n",
       "<title>17&#45;&gt;18</title>\n",
       "<path fill=\"none\" stroke=\"#000000\" d=\"M1749.6234,-341.8796C1740.6768,-330.5536 1730.9776,-318.2748 1721.9971,-306.9058\"/>\n",
       "<polygon fill=\"#000000\" stroke=\"#000000\" points=\"1724.551,-304.4926 1715.6059,-298.8149 1719.058,-308.8316 1724.551,-304.4926\"/>\n",
       "</g>\n",
       "<!-- 19 -->\n",
       "<g id=\"node20\" class=\"node\">\n",
       "<title>19</title>\n",
       "<path fill=\"#7be539\" stroke=\"#000000\" d=\"M1953,-306C1953,-306 1800,-306 1800,-306 1794,-306 1788,-300 1788,-294 1788,-294 1788,-235 1788,-235 1788,-229 1794,-223 1800,-223 1800,-223 1953,-223 1953,-223 1959,-223 1965,-229 1965,-235 1965,-235 1965,-294 1965,-294 1965,-300 1959,-306 1953,-306\"/>\n",
       "<text text-anchor=\"start\" x=\"1833\" y=\"-290.8\" font-family=\"Helvetica,sans-Serif\" font-size=\"14.00\" fill=\"#000000\">c_eda ≤ 1.061</text>\n",
       "<text text-anchor=\"start\" x=\"1829\" y=\"-275.8\" font-family=\"Helvetica,sans-Serif\" font-size=\"14.00\" fill=\"#000000\">entropy = 0.019</text>\n",
       "<text text-anchor=\"start\" x=\"1824\" y=\"-260.8\" font-family=\"Helvetica,sans-Serif\" font-size=\"14.00\" fill=\"#000000\">samples = 40492</text>\n",
       "<text text-anchor=\"start\" x=\"1796\" y=\"-245.8\" font-family=\"Helvetica,sans-Serif\" font-size=\"14.00\" fill=\"#000000\">value = [69, 40422, 0, 0, 1]</text>\n",
       "<text text-anchor=\"start\" x=\"1849\" y=\"-230.8\" font-family=\"Helvetica,sans-Serif\" font-size=\"14.00\" fill=\"#000000\">class = 1</text>\n",
       "</g>\n",
       "<!-- 17&#45;&gt;19 -->\n",
       "<g id=\"edge19\" class=\"edge\">\n",
       "<title>17&#45;&gt;19</title>\n",
       "<path fill=\"none\" stroke=\"#000000\" d=\"M1815.3766,-341.8796C1822.4197,-332.9633 1829.9293,-323.4565 1837.1874,-314.268\"/>\n",
       "<polygon fill=\"#000000\" stroke=\"#000000\" points=\"1840.0309,-316.3147 1843.483,-306.2981 1834.5379,-311.9757 1840.0309,-316.3147\"/>\n",
       "</g>\n",
       "<!-- 20 -->\n",
       "<g id=\"node21\" class=\"node\">\n",
       "<title>20</title>\n",
       "<path fill=\"#eeab7b\" stroke=\"#000000\" d=\"M1850,-187C1850,-187 1719,-187 1719,-187 1713,-187 1707,-181 1707,-175 1707,-175 1707,-116 1707,-116 1707,-110 1713,-104 1719,-104 1719,-104 1850,-104 1850,-104 1856,-104 1862,-110 1862,-116 1862,-116 1862,-175 1862,-175 1862,-181 1856,-187 1850,-187\"/>\n",
       "<text text-anchor=\"start\" x=\"1733\" y=\"-171.8\" font-family=\"Helvetica,sans-Serif\" font-size=\"14.00\" fill=\"#000000\">c_temp ≤ 31.492</text>\n",
       "<text text-anchor=\"start\" x=\"1737\" y=\"-156.8\" font-family=\"Helvetica,sans-Serif\" font-size=\"14.00\" fill=\"#000000\">entropy = 0.933</text>\n",
       "<text text-anchor=\"start\" x=\"1743.5\" y=\"-141.8\" font-family=\"Helvetica,sans-Serif\" font-size=\"14.00\" fill=\"#000000\">samples = 43</text>\n",
       "<text text-anchor=\"start\" x=\"1715\" y=\"-126.8\" font-family=\"Helvetica,sans-Serif\" font-size=\"14.00\" fill=\"#000000\">value = [32, 10, 0, 0, 1]</text>\n",
       "<text text-anchor=\"start\" x=\"1757\" y=\"-111.8\" font-family=\"Helvetica,sans-Serif\" font-size=\"14.00\" fill=\"#000000\">class = 0</text>\n",
       "</g>\n",
       "<!-- 19&#45;&gt;20 -->\n",
       "<g id=\"edge20\" class=\"edge\">\n",
       "<title>19&#45;&gt;20</title>\n",
       "<path fill=\"none\" stroke=\"#000000\" d=\"M1844.3229,-222.8796C1837.4296,-213.9633 1830.0798,-204.4565 1822.9761,-195.268\"/>\n",
       "<polygon fill=\"#000000\" stroke=\"#000000\" points=\"1825.6999,-193.0687 1816.8145,-187.2981 1820.1619,-197.3502 1825.6999,-193.0687\"/>\n",
       "</g>\n",
       "<!-- 23 -->\n",
       "<g id=\"node24\" class=\"node\">\n",
       "<title>23</title>\n",
       "<path fill=\"#7be539\" stroke=\"#000000\" d=\"M2045,-187C2045,-187 1892,-187 1892,-187 1886,-187 1880,-181 1880,-175 1880,-175 1880,-116 1880,-116 1880,-110 1886,-104 1892,-104 1892,-104 2045,-104 2045,-104 2051,-104 2057,-110 2057,-116 2057,-116 2057,-175 2057,-175 2057,-181 2051,-187 2045,-187\"/>\n",
       "<text text-anchor=\"start\" x=\"1925\" y=\"-171.8\" font-family=\"Helvetica,sans-Serif\" font-size=\"14.00\" fill=\"#000000\">c_eda ≤ 1.275</text>\n",
       "<text text-anchor=\"start\" x=\"1921\" y=\"-156.8\" font-family=\"Helvetica,sans-Serif\" font-size=\"14.00\" fill=\"#000000\">entropy = 0.011</text>\n",
       "<text text-anchor=\"start\" x=\"1916\" y=\"-141.8\" font-family=\"Helvetica,sans-Serif\" font-size=\"14.00\" fill=\"#000000\">samples = 40449</text>\n",
       "<text text-anchor=\"start\" x=\"1888\" y=\"-126.8\" font-family=\"Helvetica,sans-Serif\" font-size=\"14.00\" fill=\"#000000\">value = [37, 40412, 0, 0, 0]</text>\n",
       "<text text-anchor=\"start\" x=\"1941\" y=\"-111.8\" font-family=\"Helvetica,sans-Serif\" font-size=\"14.00\" fill=\"#000000\">class = 1</text>\n",
       "</g>\n",
       "<!-- 19&#45;&gt;23 -->\n",
       "<g id=\"edge23\" class=\"edge\">\n",
       "<title>19&#45;&gt;23</title>\n",
       "<path fill=\"none\" stroke=\"#000000\" d=\"M1908.6771,-222.8796C1915.5704,-213.9633 1922.9202,-204.4565 1930.0239,-195.268\"/>\n",
       "<polygon fill=\"#000000\" stroke=\"#000000\" points=\"1932.8381,-197.3502 1936.1855,-187.2981 1927.3001,-193.0687 1932.8381,-197.3502\"/>\n",
       "</g>\n",
       "<!-- 21 -->\n",
       "<g id=\"node22\" class=\"node\">\n",
       "<title>21</title>\n",
       "<path fill=\"#8ae84f\" stroke=\"#000000\" d=\"M1683.5,-68C1683.5,-68 1567.5,-68 1567.5,-68 1561.5,-68 1555.5,-62 1555.5,-56 1555.5,-56 1555.5,-12 1555.5,-12 1555.5,-6 1561.5,0 1567.5,0 1567.5,0 1683.5,0 1683.5,0 1689.5,0 1695.5,-6 1695.5,-12 1695.5,-12 1695.5,-56 1695.5,-56 1695.5,-62 1689.5,-68 1683.5,-68\"/>\n",
       "<text text-anchor=\"start\" x=\"1578\" y=\"-52.8\" font-family=\"Helvetica,sans-Serif\" font-size=\"14.00\" fill=\"#000000\">entropy = 0.469</text>\n",
       "<text text-anchor=\"start\" x=\"1584.5\" y=\"-37.8\" font-family=\"Helvetica,sans-Serif\" font-size=\"14.00\" fill=\"#000000\">samples = 10</text>\n",
       "<text text-anchor=\"start\" x=\"1563.5\" y=\"-22.8\" font-family=\"Helvetica,sans-Serif\" font-size=\"14.00\" fill=\"#000000\">value = [0, 9, 0, 0, 1]</text>\n",
       "<text text-anchor=\"start\" x=\"1598\" y=\"-7.8\" font-family=\"Helvetica,sans-Serif\" font-size=\"14.00\" fill=\"#000000\">class = 1</text>\n",
       "</g>\n",
       "<!-- 20&#45;&gt;21 -->\n",
       "<g id=\"edge21\" class=\"edge\">\n",
       "<title>20&#45;&gt;21</title>\n",
       "<path fill=\"none\" stroke=\"#000000\" d=\"M1725.2943,-103.9815C1711.3288,-94.1881 1696.4679,-83.7668 1682.5977,-74.0402\"/>\n",
       "<polygon fill=\"#000000\" stroke=\"#000000\" points=\"1684.3035,-70.9616 1674.1064,-68.0856 1680.2844,-76.6928 1684.3035,-70.9616\"/>\n",
       "</g>\n",
       "<!-- 22 -->\n",
       "<g id=\"node23\" class=\"node\">\n",
       "<title>22</title>\n",
       "<path fill=\"#e6853f\" stroke=\"#000000\" d=\"M1849,-68C1849,-68 1726,-68 1726,-68 1720,-68 1714,-62 1714,-56 1714,-56 1714,-12 1714,-12 1714,-6 1720,0 1726,0 1726,0 1849,0 1849,0 1855,0 1861,-6 1861,-12 1861,-12 1861,-56 1861,-56 1861,-62 1855,-68 1849,-68\"/>\n",
       "<text text-anchor=\"start\" x=\"1740\" y=\"-52.8\" font-family=\"Helvetica,sans-Serif\" font-size=\"14.00\" fill=\"#000000\">entropy = 0.196</text>\n",
       "<text text-anchor=\"start\" x=\"1746.5\" y=\"-37.8\" font-family=\"Helvetica,sans-Serif\" font-size=\"14.00\" fill=\"#000000\">samples = 33</text>\n",
       "<text text-anchor=\"start\" x=\"1722\" y=\"-22.8\" font-family=\"Helvetica,sans-Serif\" font-size=\"14.00\" fill=\"#000000\">value = [32, 1, 0, 0, 0]</text>\n",
       "<text text-anchor=\"start\" x=\"1760\" y=\"-7.8\" font-family=\"Helvetica,sans-Serif\" font-size=\"14.00\" fill=\"#000000\">class = 0</text>\n",
       "</g>\n",
       "<!-- 20&#45;&gt;22 -->\n",
       "<g id=\"edge22\" class=\"edge\">\n",
       "<title>20&#45;&gt;22</title>\n",
       "<path fill=\"none\" stroke=\"#000000\" d=\"M1785.6171,-103.9815C1785.8421,-95.618 1786.0795,-86.7965 1786.307,-78.3409\"/>\n",
       "<polygon fill=\"#000000\" stroke=\"#000000\" points=\"1789.8078,-78.3542 1786.5781,-68.2637 1782.8103,-78.1659 1789.8078,-78.3542\"/>\n",
       "</g>\n",
       "<!-- 24 -->\n",
       "<g id=\"node25\" class=\"node\">\n",
       "<title>24</title>\n",
       "<path fill=\"#7be539\" stroke=\"#000000\" d=\"M2037.5,-68C2037.5,-68 1891.5,-68 1891.5,-68 1885.5,-68 1879.5,-62 1879.5,-56 1879.5,-56 1879.5,-12 1879.5,-12 1879.5,-6 1885.5,0 1891.5,0 1891.5,0 2037.5,0 2037.5,0 2043.5,0 2049.5,-6 2049.5,-12 2049.5,-12 2049.5,-56 2049.5,-56 2049.5,-62 2043.5,-68 2037.5,-68\"/>\n",
       "<text text-anchor=\"start\" x=\"1924.5\" y=\"-52.8\" font-family=\"Helvetica,sans-Serif\" font-size=\"14.00\" fill=\"#000000\">entropy = 0.0</text>\n",
       "<text text-anchor=\"start\" x=\"1912\" y=\"-37.8\" font-family=\"Helvetica,sans-Serif\" font-size=\"14.00\" fill=\"#000000\">samples = 40271</text>\n",
       "<text text-anchor=\"start\" x=\"1887.5\" y=\"-22.8\" font-family=\"Helvetica,sans-Serif\" font-size=\"14.00\" fill=\"#000000\">value = [0, 40271, 0, 0, 0]</text>\n",
       "<text text-anchor=\"start\" x=\"1937\" y=\"-7.8\" font-family=\"Helvetica,sans-Serif\" font-size=\"14.00\" fill=\"#000000\">class = 1</text>\n",
       "</g>\n",
       "<!-- 23&#45;&gt;24 -->\n",
       "<g id=\"edge24\" class=\"edge\">\n",
       "<title>23&#45;&gt;24</title>\n",
       "<path fill=\"none\" stroke=\"#000000\" d=\"M1967.0105,-103.9815C1966.7105,-95.618 1966.394,-86.7965 1966.0907,-78.3409\"/>\n",
       "<polygon fill=\"#000000\" stroke=\"#000000\" points=\"1969.5855,-78.1317 1965.7292,-68.2637 1962.59,-78.3828 1969.5855,-78.1317\"/>\n",
       "</g>\n",
       "<!-- 25 -->\n",
       "<g id=\"node26\" class=\"node\">\n",
       "<title>25</title>\n",
       "<path fill=\"#9eec6d\" stroke=\"#000000\" d=\"M2217.5,-68C2217.5,-68 2079.5,-68 2079.5,-68 2073.5,-68 2067.5,-62 2067.5,-56 2067.5,-56 2067.5,-12 2067.5,-12 2067.5,-6 2073.5,0 2079.5,0 2079.5,0 2217.5,0 2217.5,0 2223.5,0 2229.5,-6 2229.5,-12 2229.5,-12 2229.5,-56 2229.5,-56 2229.5,-62 2223.5,-68 2217.5,-68\"/>\n",
       "<text text-anchor=\"start\" x=\"2101\" y=\"-52.8\" font-family=\"Helvetica,sans-Serif\" font-size=\"14.00\" fill=\"#000000\">entropy = 0.737</text>\n",
       "<text text-anchor=\"start\" x=\"2103.5\" y=\"-37.8\" font-family=\"Helvetica,sans-Serif\" font-size=\"14.00\" fill=\"#000000\">samples = 178</text>\n",
       "<text text-anchor=\"start\" x=\"2075.5\" y=\"-22.8\" font-family=\"Helvetica,sans-Serif\" font-size=\"14.00\" fill=\"#000000\">value = [37, 141, 0, 0, 0]</text>\n",
       "<text text-anchor=\"start\" x=\"2121\" y=\"-7.8\" font-family=\"Helvetica,sans-Serif\" font-size=\"14.00\" fill=\"#000000\">class = 1</text>\n",
       "</g>\n",
       "<!-- 23&#45;&gt;25 -->\n",
       "<g id=\"edge25\" class=\"edge\">\n",
       "<title>23&#45;&gt;25</title>\n",
       "<path fill=\"none\" stroke=\"#000000\" d=\"M2035.5254,-103.9815C2051.6336,-94.0034 2068.7941,-83.3733 2084.7487,-73.4904\"/>\n",
       "<polygon fill=\"#000000\" stroke=\"#000000\" points=\"2086.8158,-76.3271 2093.4739,-68.0856 2083.1296,-70.3763 2086.8158,-76.3271\"/>\n",
       "</g>\n",
       "<!-- 27 -->\n",
       "<g id=\"node28\" class=\"node\">\n",
       "<title>27</title>\n",
       "<path fill=\"#eda877\" stroke=\"#000000\" d=\"M3156,-425C3156,-425 2935,-425 2935,-425 2929,-425 2923,-419 2923,-413 2923,-413 2923,-354 2923,-354 2923,-348 2929,-342 2935,-342 2935,-342 3156,-342 3156,-342 3162,-342 3168,-348 3168,-354 3168,-354 3168,-413 3168,-413 3168,-419 3162,-425 3156,-425\"/>\n",
       "<text text-anchor=\"start\" x=\"3004\" y=\"-409.8\" font-family=\"Helvetica,sans-Serif\" font-size=\"14.00\" fill=\"#000000\">c_ay ≤ &#45;0.136</text>\n",
       "<text text-anchor=\"start\" x=\"2998\" y=\"-394.8\" font-family=\"Helvetica,sans-Serif\" font-size=\"14.00\" fill=\"#000000\">entropy = 0.814</text>\n",
       "<text text-anchor=\"start\" x=\"2989.5\" y=\"-379.8\" font-family=\"Helvetica,sans-Serif\" font-size=\"14.00\" fill=\"#000000\">samples = 813673</text>\n",
       "<text text-anchor=\"start\" x=\"2931\" y=\"-364.8\" font-family=\"Helvetica,sans-Serif\" font-size=\"14.00\" fill=\"#000000\">value = [620243, 2248, 76, 191106, 0]</text>\n",
       "<text text-anchor=\"start\" x=\"3018\" y=\"-349.8\" font-family=\"Helvetica,sans-Serif\" font-size=\"14.00\" fill=\"#000000\">class = 0</text>\n",
       "</g>\n",
       "<!-- 26&#45;&gt;27 -->\n",
       "<g id=\"edge27\" class=\"edge\">\n",
       "<title>26&#45;&gt;27</title>\n",
       "<path fill=\"none\" stroke=\"#000000\" d=\"M3045.5,-460.8796C3045.5,-452.6838 3045.5,-443.9891 3045.5,-435.5013\"/>\n",
       "<polygon fill=\"#000000\" stroke=\"#000000\" points=\"3049.0001,-435.298 3045.5,-425.2981 3042.0001,-435.2981 3049.0001,-435.298\"/>\n",
       "</g>\n",
       "<!-- 42 -->\n",
       "<g id=\"node43\" class=\"node\">\n",
       "<title>42</title>\n",
       "<path fill=\"#f8decc\" stroke=\"#000000\" d=\"M4465.5,-425C4465.5,-425 4267.5,-425 4267.5,-425 4261.5,-425 4255.5,-419 4255.5,-413 4255.5,-413 4255.5,-354 4255.5,-354 4255.5,-348 4261.5,-342 4267.5,-342 4267.5,-342 4465.5,-342 4465.5,-342 4471.5,-342 4477.5,-348 4477.5,-354 4477.5,-354 4477.5,-413 4477.5,-413 4477.5,-419 4471.5,-425 4465.5,-425\"/>\n",
       "<text text-anchor=\"start\" x=\"4325\" y=\"-409.8\" font-family=\"Helvetica,sans-Serif\" font-size=\"14.00\" fill=\"#000000\">c_az ≤ &#45;0.322</text>\n",
       "<text text-anchor=\"start\" x=\"4319\" y=\"-394.8\" font-family=\"Helvetica,sans-Serif\" font-size=\"14.00\" fill=\"#000000\">entropy = 0.986</text>\n",
       "<text text-anchor=\"start\" x=\"4310.5\" y=\"-379.8\" font-family=\"Helvetica,sans-Serif\" font-size=\"14.00\" fill=\"#000000\">samples = 595653</text>\n",
       "<text text-anchor=\"start\" x=\"4263.5\" y=\"-364.8\" font-family=\"Helvetica,sans-Serif\" font-size=\"14.00\" fill=\"#000000\">value = [342036, 83, 253534, 0, 0]</text>\n",
       "<text text-anchor=\"start\" x=\"4339\" y=\"-349.8\" font-family=\"Helvetica,sans-Serif\" font-size=\"14.00\" fill=\"#000000\">class = 0</text>\n",
       "</g>\n",
       "<!-- 26&#45;&gt;42 -->\n",
       "<g id=\"edge42\" class=\"edge\">\n",
       "<title>26&#45;&gt;42</title>\n",
       "<path fill=\"none\" stroke=\"#000000\" d=\"M3183.1318,-490.1017C3442.3803,-466.7477 3999.112,-416.5955 4245.2344,-394.424\"/>\n",
       "<polygon fill=\"#000000\" stroke=\"#000000\" points=\"4245.6429,-397.9015 4255.2885,-393.5183 4245.0148,-390.9297 4245.6429,-397.9015\"/>\n",
       "</g>\n",
       "<!-- 28 -->\n",
       "<g id=\"node29\" class=\"node\">\n",
       "<title>28</title>\n",
       "<path fill=\"#f2f1fd\" stroke=\"#000000\" d=\"M2985,-306C2985,-306 2772,-306 2772,-306 2766,-306 2760,-300 2760,-294 2760,-294 2760,-235 2760,-235 2760,-229 2766,-223 2772,-223 2772,-223 2985,-223 2985,-223 2991,-223 2997,-229 2997,-235 2997,-235 2997,-294 2997,-294 2997,-300 2991,-306 2985,-306\"/>\n",
       "<text text-anchor=\"start\" x=\"2837\" y=\"-290.8\" font-family=\"Helvetica,sans-Serif\" font-size=\"14.00\" fill=\"#000000\">c_az ≤ &#45;0.192</text>\n",
       "<text text-anchor=\"start\" x=\"2831\" y=\"-275.8\" font-family=\"Helvetica,sans-Serif\" font-size=\"14.00\" fill=\"#000000\">entropy = 1.025</text>\n",
       "<text text-anchor=\"start\" x=\"2822.5\" y=\"-260.8\" font-family=\"Helvetica,sans-Serif\" font-size=\"14.00\" fill=\"#000000\">samples = 360486</text>\n",
       "<text text-anchor=\"start\" x=\"2768\" y=\"-245.8\" font-family=\"Helvetica,sans-Serif\" font-size=\"14.00\" fill=\"#000000\">value = [173241, 1053, 5, 186187, 0]</text>\n",
       "<text text-anchor=\"start\" x=\"2851\" y=\"-230.8\" font-family=\"Helvetica,sans-Serif\" font-size=\"14.00\" fill=\"#000000\">class = 3</text>\n",
       "</g>\n",
       "<!-- 27&#45;&gt;28 -->\n",
       "<g id=\"edge28\" class=\"edge\">\n",
       "<title>27&#45;&gt;28</title>\n",
       "<path fill=\"none\" stroke=\"#000000\" d=\"M2987.0915,-341.8796C2973.6161,-332.2774 2959.1797,-321.9903 2945.375,-312.1534\"/>\n",
       "<polygon fill=\"#000000\" stroke=\"#000000\" points=\"2947.0506,-309.0497 2936.8755,-306.0969 2942.9883,-314.7505 2947.0506,-309.0497\"/>\n",
       "</g>\n",
       "<!-- 35 -->\n",
       "<g id=\"node36\" class=\"node\">\n",
       "<title>35</title>\n",
       "<path fill=\"#e5833c\" stroke=\"#000000\" d=\"M3408.5,-306C3408.5,-306 3202.5,-306 3202.5,-306 3196.5,-306 3190.5,-300 3190.5,-294 3190.5,-294 3190.5,-235 3190.5,-235 3190.5,-229 3196.5,-223 3202.5,-223 3202.5,-223 3408.5,-223 3408.5,-223 3414.5,-223 3420.5,-229 3420.5,-235 3420.5,-235 3420.5,-294 3420.5,-294 3420.5,-300 3414.5,-306 3408.5,-306\"/>\n",
       "<text text-anchor=\"start\" x=\"3254\" y=\"-290.8\" font-family=\"Helvetica,sans-Serif\" font-size=\"14.00\" fill=\"#000000\">c_temp ≤ 32.028</text>\n",
       "<text text-anchor=\"start\" x=\"3258\" y=\"-275.8\" font-family=\"Helvetica,sans-Serif\" font-size=\"14.00\" fill=\"#000000\">entropy = 0.115</text>\n",
       "<text text-anchor=\"start\" x=\"3249.5\" y=\"-260.8\" font-family=\"Helvetica,sans-Serif\" font-size=\"14.00\" fill=\"#000000\">samples = 453187</text>\n",
       "<text text-anchor=\"start\" x=\"3198.5\" y=\"-245.8\" font-family=\"Helvetica,sans-Serif\" font-size=\"14.00\" fill=\"#000000\">value = [447002, 1195, 71, 4919, 0]</text>\n",
       "<text text-anchor=\"start\" x=\"3278\" y=\"-230.8\" font-family=\"Helvetica,sans-Serif\" font-size=\"14.00\" fill=\"#000000\">class = 0</text>\n",
       "</g>\n",
       "<!-- 27&#45;&gt;35 -->\n",
       "<g id=\"edge35\" class=\"edge\">\n",
       "<title>27&#45;&gt;35</title>\n",
       "<path fill=\"none\" stroke=\"#000000\" d=\"M3136.4354,-341.8796C3158.7015,-331.6886 3182.6531,-320.7261 3205.3254,-310.3492\"/>\n",
       "<polygon fill=\"#000000\" stroke=\"#000000\" points=\"3206.9797,-313.4412 3214.616,-306.0969 3204.0665,-307.0762 3206.9797,-313.4412\"/>\n",
       "</g>\n",
       "<!-- 29 -->\n",
       "<g id=\"node30\" class=\"node\">\n",
       "<title>29</title>\n",
       "<path fill=\"#e5833c\" stroke=\"#000000\" d=\"M2654,-187C2654,-187 2463,-187 2463,-187 2457,-187 2451,-181 2451,-175 2451,-175 2451,-116 2451,-116 2451,-110 2457,-104 2463,-104 2463,-104 2654,-104 2654,-104 2660,-104 2666,-110 2666,-116 2666,-116 2666,-175 2666,-175 2666,-181 2660,-187 2654,-187\"/>\n",
       "<text text-anchor=\"start\" x=\"2511\" y=\"-171.8\" font-family=\"Helvetica,sans-Serif\" font-size=\"14.00\" fill=\"#000000\">c_temp ≤ 32.51</text>\n",
       "<text text-anchor=\"start\" x=\"2511\" y=\"-156.8\" font-family=\"Helvetica,sans-Serif\" font-size=\"14.00\" fill=\"#000000\">entropy = 0.126</text>\n",
       "<text text-anchor=\"start\" x=\"2502.5\" y=\"-141.8\" font-family=\"Helvetica,sans-Serif\" font-size=\"14.00\" fill=\"#000000\">samples = 114072</text>\n",
       "<text text-anchor=\"start\" x=\"2459\" y=\"-126.8\" font-family=\"Helvetica,sans-Serif\" font-size=\"14.00\" fill=\"#000000\">value = [112361, 544, 5, 1162, 0]</text>\n",
       "<text text-anchor=\"start\" x=\"2531\" y=\"-111.8\" font-family=\"Helvetica,sans-Serif\" font-size=\"14.00\" fill=\"#000000\">class = 0</text>\n",
       "</g>\n",
       "<!-- 28&#45;&gt;29 -->\n",
       "<g id=\"edge29\" class=\"edge\">\n",
       "<title>28&#45;&gt;29</title>\n",
       "<path fill=\"none\" stroke=\"#000000\" d=\"M2766.5795,-222.8796C2737.1433,-211.933 2705.3135,-200.0963 2675.6126,-189.0513\"/>\n",
       "<polygon fill=\"#000000\" stroke=\"#000000\" points=\"2676.6429,-185.7002 2666.05,-185.4952 2674.2029,-192.2613 2676.6429,-185.7002\"/>\n",
       "</g>\n",
       "<!-- 32 -->\n",
       "<g id=\"node33\" class=\"node\">\n",
       "<title>32</title>\n",
       "<path fill=\"#7d7bee\" stroke=\"#000000\" d=\"M2977.5,-187C2977.5,-187 2779.5,-187 2779.5,-187 2773.5,-187 2767.5,-181 2767.5,-175 2767.5,-175 2767.5,-116 2767.5,-116 2767.5,-110 2773.5,-104 2779.5,-104 2779.5,-104 2977.5,-104 2977.5,-104 2983.5,-104 2989.5,-110 2989.5,-116 2989.5,-116 2989.5,-175 2989.5,-175 2989.5,-181 2983.5,-187 2977.5,-187\"/>\n",
       "<text text-anchor=\"start\" x=\"2827\" y=\"-171.8\" font-family=\"Helvetica,sans-Serif\" font-size=\"14.00\" fill=\"#000000\">c_temp ≤ 31.829</text>\n",
       "<text text-anchor=\"start\" x=\"2831\" y=\"-156.8\" font-family=\"Helvetica,sans-Serif\" font-size=\"14.00\" fill=\"#000000\">entropy = 0.827</text>\n",
       "<text text-anchor=\"start\" x=\"2822.5\" y=\"-141.8\" font-family=\"Helvetica,sans-Serif\" font-size=\"14.00\" fill=\"#000000\">samples = 246414</text>\n",
       "<text text-anchor=\"start\" x=\"2775.5\" y=\"-126.8\" font-family=\"Helvetica,sans-Serif\" font-size=\"14.00\" fill=\"#000000\">value = [60880, 509, 0, 185025, 0]</text>\n",
       "<text text-anchor=\"start\" x=\"2851\" y=\"-111.8\" font-family=\"Helvetica,sans-Serif\" font-size=\"14.00\" fill=\"#000000\">class = 3</text>\n",
       "</g>\n",
       "<!-- 28&#45;&gt;32 -->\n",
       "<g id=\"edge32\" class=\"edge\">\n",
       "<title>28&#45;&gt;32</title>\n",
       "<path fill=\"none\" stroke=\"#000000\" d=\"M2878.5,-222.8796C2878.5,-214.6838 2878.5,-205.9891 2878.5,-197.5013\"/>\n",
       "<polygon fill=\"#000000\" stroke=\"#000000\" points=\"2882.0001,-197.298 2878.5,-187.2981 2875.0001,-197.2981 2882.0001,-197.298\"/>\n",
       "</g>\n",
       "<!-- 30 -->\n",
       "<g id=\"node31\" class=\"node\">\n",
       "<title>30</title>\n",
       "<path fill=\"#e5823a\" stroke=\"#000000\" d=\"M2443,-68C2443,-68 2260,-68 2260,-68 2254,-68 2248,-62 2248,-56 2248,-56 2248,-12 2248,-12 2248,-6 2254,0 2260,0 2260,0 2443,0 2443,0 2449,0 2455,-6 2455,-12 2455,-12 2455,-56 2455,-56 2455,-62 2449,-68 2443,-68\"/>\n",
       "<text text-anchor=\"start\" x=\"2304\" y=\"-52.8\" font-family=\"Helvetica,sans-Serif\" font-size=\"14.00\" fill=\"#000000\">entropy = 0.065</text>\n",
       "<text text-anchor=\"start\" x=\"2295.5\" y=\"-37.8\" font-family=\"Helvetica,sans-Serif\" font-size=\"14.00\" fill=\"#000000\">samples = 112582</text>\n",
       "<text text-anchor=\"start\" x=\"2256\" y=\"-22.8\" font-family=\"Helvetica,sans-Serif\" font-size=\"14.00\" fill=\"#000000\">value = [111814, 544, 5, 219, 0]</text>\n",
       "<text text-anchor=\"start\" x=\"2324\" y=\"-7.8\" font-family=\"Helvetica,sans-Serif\" font-size=\"14.00\" fill=\"#000000\">class = 0</text>\n",
       "</g>\n",
       "<!-- 29&#45;&gt;30 -->\n",
       "<g id=\"edge30\" class=\"edge\">\n",
       "<title>29&#45;&gt;30</title>\n",
       "<path fill=\"none\" stroke=\"#000000\" d=\"M2481.4208,-103.9815C2462.5533,-93.8186 2442.4304,-82.9794 2423.7962,-72.9421\"/>\n",
       "<polygon fill=\"#000000\" stroke=\"#000000\" points=\"2425.2439,-69.7465 2414.78,-68.0856 2421.9243,-75.9094 2425.2439,-69.7465\"/>\n",
       "</g>\n",
       "<!-- 31 -->\n",
       "<g id=\"node32\" class=\"node\">\n",
       "<title>31</title>\n",
       "<path fill=\"#adacf4\" stroke=\"#000000\" d=\"M2631.5,-68C2631.5,-68 2485.5,-68 2485.5,-68 2479.5,-68 2473.5,-62 2473.5,-56 2473.5,-56 2473.5,-12 2473.5,-12 2473.5,-6 2479.5,0 2485.5,0 2485.5,0 2631.5,0 2631.5,0 2637.5,0 2643.5,-6 2643.5,-12 2643.5,-12 2643.5,-56 2643.5,-56 2643.5,-62 2637.5,-68 2631.5,-68\"/>\n",
       "<text text-anchor=\"start\" x=\"2511\" y=\"-52.8\" font-family=\"Helvetica,sans-Serif\" font-size=\"14.00\" fill=\"#000000\">entropy = 0.948</text>\n",
       "<text text-anchor=\"start\" x=\"2510\" y=\"-37.8\" font-family=\"Helvetica,sans-Serif\" font-size=\"14.00\" fill=\"#000000\">samples = 1490</text>\n",
       "<text text-anchor=\"start\" x=\"2481.5\" y=\"-22.8\" font-family=\"Helvetica,sans-Serif\" font-size=\"14.00\" fill=\"#000000\">value = [547, 0, 0, 943, 0]</text>\n",
       "<text text-anchor=\"start\" x=\"2531\" y=\"-7.8\" font-family=\"Helvetica,sans-Serif\" font-size=\"14.00\" fill=\"#000000\">class = 3</text>\n",
       "</g>\n",
       "<!-- 29&#45;&gt;31 -->\n",
       "<g id=\"edge31\" class=\"edge\">\n",
       "<title>29&#45;&gt;31</title>\n",
       "<path fill=\"none\" stroke=\"#000000\" d=\"M2558.5,-103.9815C2558.5,-95.618 2558.5,-86.7965 2558.5,-78.3409\"/>\n",
       "<polygon fill=\"#000000\" stroke=\"#000000\" points=\"2562.0001,-78.2636 2558.5,-68.2637 2555.0001,-78.2637 2562.0001,-78.2636\"/>\n",
       "</g>\n",
       "<!-- 33 -->\n",
       "<g id=\"node34\" class=\"node\">\n",
       "<title>33</title>\n",
       "<path fill=\"#f5cfb3\" stroke=\"#000000\" d=\"M2865,-68C2865,-68 2674,-68 2674,-68 2668,-68 2662,-62 2662,-56 2662,-56 2662,-12 2662,-12 2662,-6 2668,0 2674,0 2674,0 2865,0 2865,0 2871,0 2877,-6 2877,-12 2877,-12 2877,-56 2877,-56 2877,-62 2871,-68 2865,-68\"/>\n",
       "<text text-anchor=\"start\" x=\"2722\" y=\"-52.8\" font-family=\"Helvetica,sans-Serif\" font-size=\"14.00\" fill=\"#000000\">entropy = 1.011</text>\n",
       "<text text-anchor=\"start\" x=\"2717\" y=\"-37.8\" font-family=\"Helvetica,sans-Serif\" font-size=\"14.00\" fill=\"#000000\">samples = 50133</text>\n",
       "<text text-anchor=\"start\" x=\"2670\" y=\"-22.8\" font-family=\"Helvetica,sans-Serif\" font-size=\"14.00\" fill=\"#000000\">value = [30869, 351, 0, 18913, 0]</text>\n",
       "<text text-anchor=\"start\" x=\"2742\" y=\"-7.8\" font-family=\"Helvetica,sans-Serif\" font-size=\"14.00\" fill=\"#000000\">class = 0</text>\n",
       "</g>\n",
       "<!-- 32&#45;&gt;33 -->\n",
       "<g id=\"edge33\" class=\"edge\">\n",
       "<title>32&#45;&gt;33</title>\n",
       "<path fill=\"none\" stroke=\"#000000\" d=\"M2837.9124,-103.9815C2828.838,-94.6989 2819.2121,-84.8522 2810.1357,-75.5677\"/>\n",
       "<polygon fill=\"#000000\" stroke=\"#000000\" points=\"2812.4887,-72.9678 2802.9954,-68.2637 2807.4831,-77.8611 2812.4887,-72.9678\"/>\n",
       "</g>\n",
       "<!-- 34 -->\n",
       "<g id=\"node35\" class=\"node\">\n",
       "<title>34</title>\n",
       "<path fill=\"#5f5dea\" stroke=\"#000000\" d=\"M3105.5,-68C3105.5,-68 2907.5,-68 2907.5,-68 2901.5,-68 2895.5,-62 2895.5,-56 2895.5,-56 2895.5,-12 2895.5,-12 2895.5,-6 2901.5,0 2907.5,0 2907.5,0 3105.5,0 3105.5,0 3111.5,0 3117.5,-6 3117.5,-12 3117.5,-12 3117.5,-56 3117.5,-56 3117.5,-62 3111.5,-68 3105.5,-68\"/>\n",
       "<text text-anchor=\"start\" x=\"2959\" y=\"-52.8\" font-family=\"Helvetica,sans-Serif\" font-size=\"14.00\" fill=\"#000000\">entropy = 0.626</text>\n",
       "<text text-anchor=\"start\" x=\"2950.5\" y=\"-37.8\" font-family=\"Helvetica,sans-Serif\" font-size=\"14.00\" fill=\"#000000\">samples = 196281</text>\n",
       "<text text-anchor=\"start\" x=\"2903.5\" y=\"-22.8\" font-family=\"Helvetica,sans-Serif\" font-size=\"14.00\" fill=\"#000000\">value = [30011, 158, 0, 166112, 0]</text>\n",
       "<text text-anchor=\"start\" x=\"2979\" y=\"-7.8\" font-family=\"Helvetica,sans-Serif\" font-size=\"14.00\" fill=\"#000000\">class = 3</text>\n",
       "</g>\n",
       "<!-- 32&#45;&gt;34 -->\n",
       "<g id=\"edge34\" class=\"edge\">\n",
       "<title>32&#45;&gt;34</title>\n",
       "<path fill=\"none\" stroke=\"#000000\" d=\"M2926.1625,-103.9815C2937.0297,-94.5151 2948.5705,-84.462 2959.4135,-75.0168\"/>\n",
       "<polygon fill=\"#000000\" stroke=\"#000000\" points=\"2961.9245,-77.4712 2967.1659,-68.2637 2957.3266,-72.1929 2961.9245,-77.4712\"/>\n",
       "</g>\n",
       "<!-- 36 -->\n",
       "<g id=\"node37\" class=\"node\">\n",
       "<title>36</title>\n",
       "<path fill=\"#e5823a\" stroke=\"#000000\" d=\"M3404.5,-187C3404.5,-187 3206.5,-187 3206.5,-187 3200.5,-187 3194.5,-181 3194.5,-175 3194.5,-175 3194.5,-116 3194.5,-116 3194.5,-110 3200.5,-104 3206.5,-104 3206.5,-104 3404.5,-104 3404.5,-104 3410.5,-104 3416.5,-110 3416.5,-116 3416.5,-116 3416.5,-175 3416.5,-175 3416.5,-181 3410.5,-187 3404.5,-187\"/>\n",
       "<text text-anchor=\"start\" x=\"3254\" y=\"-171.8\" font-family=\"Helvetica,sans-Serif\" font-size=\"14.00\" fill=\"#000000\">c_temp ≤ 30.136</text>\n",
       "<text text-anchor=\"start\" x=\"3258\" y=\"-156.8\" font-family=\"Helvetica,sans-Serif\" font-size=\"14.00\" fill=\"#000000\">entropy = 0.043</text>\n",
       "<text text-anchor=\"start\" x=\"3249.5\" y=\"-141.8\" font-family=\"Helvetica,sans-Serif\" font-size=\"14.00\" fill=\"#000000\">samples = 360059</text>\n",
       "<text text-anchor=\"start\" x=\"3202.5\" y=\"-126.8\" font-family=\"Helvetica,sans-Serif\" font-size=\"14.00\" fill=\"#000000\">value = [358558, 1095, 71, 335, 0]</text>\n",
       "<text text-anchor=\"start\" x=\"3278\" y=\"-111.8\" font-family=\"Helvetica,sans-Serif\" font-size=\"14.00\" fill=\"#000000\">class = 0</text>\n",
       "</g>\n",
       "<!-- 35&#45;&gt;36 -->\n",
       "<g id=\"edge36\" class=\"edge\">\n",
       "<title>35&#45;&gt;36</title>\n",
       "<path fill=\"none\" stroke=\"#000000\" d=\"M3305.5,-222.8796C3305.5,-214.6838 3305.5,-205.9891 3305.5,-197.5013\"/>\n",
       "<polygon fill=\"#000000\" stroke=\"#000000\" points=\"3309.0001,-197.298 3305.5,-187.2981 3302.0001,-197.2981 3309.0001,-197.298\"/>\n",
       "</g>\n",
       "<!-- 39 -->\n",
       "<g id=\"node40\" class=\"node\">\n",
       "<title>39</title>\n",
       "<path fill=\"#e68843\" stroke=\"#000000\" d=\"M3722,-187C3722,-187 3539,-187 3539,-187 3533,-187 3527,-181 3527,-175 3527,-175 3527,-116 3527,-116 3527,-110 3533,-104 3539,-104 3539,-104 3722,-104 3722,-104 3728,-104 3734,-110 3734,-116 3734,-116 3734,-175 3734,-175 3734,-181 3728,-187 3722,-187\"/>\n",
       "<text text-anchor=\"start\" x=\"3587\" y=\"-171.8\" font-family=\"Helvetica,sans-Serif\" font-size=\"14.00\" fill=\"#000000\">c_eda ≤ 0.638</text>\n",
       "<text text-anchor=\"start\" x=\"3583\" y=\"-156.8\" font-family=\"Helvetica,sans-Serif\" font-size=\"14.00\" fill=\"#000000\">entropy = 0.295</text>\n",
       "<text text-anchor=\"start\" x=\"3578\" y=\"-141.8\" font-family=\"Helvetica,sans-Serif\" font-size=\"14.00\" fill=\"#000000\">samples = 93128</text>\n",
       "<text text-anchor=\"start\" x=\"3535\" y=\"-126.8\" font-family=\"Helvetica,sans-Serif\" font-size=\"14.00\" fill=\"#000000\">value = [88444, 100, 0, 4584, 0]</text>\n",
       "<text text-anchor=\"start\" x=\"3603\" y=\"-111.8\" font-family=\"Helvetica,sans-Serif\" font-size=\"14.00\" fill=\"#000000\">class = 0</text>\n",
       "</g>\n",
       "<!-- 35&#45;&gt;39 -->\n",
       "<g id=\"edge39\" class=\"edge\">\n",
       "<title>35&#45;&gt;39</title>\n",
       "<path fill=\"none\" stroke=\"#000000\" d=\"M3419.1692,-222.8796C3450.9366,-211.2478 3485.4488,-198.6111 3517.1951,-186.987\"/>\n",
       "<polygon fill=\"#000000\" stroke=\"#000000\" points=\"3518.7657,-190.1393 3526.9526,-183.4143 3516.3588,-183.566 3518.7657,-190.1393\"/>\n",
       "</g>\n",
       "<!-- 37 -->\n",
       "<g id=\"node38\" class=\"node\">\n",
       "<title>37</title>\n",
       "<path fill=\"#7be539\" stroke=\"#000000\" d=\"M3279,-68C3279,-68 3148,-68 3148,-68 3142,-68 3136,-62 3136,-56 3136,-56 3136,-12 3136,-12 3136,-6 3142,0 3148,0 3148,0 3279,0 3279,0 3285,0 3291,-6 3291,-12 3291,-12 3291,-56 3291,-56 3291,-62 3285,-68 3279,-68\"/>\n",
       "<text text-anchor=\"start\" x=\"3173.5\" y=\"-52.8\" font-family=\"Helvetica,sans-Serif\" font-size=\"14.00\" fill=\"#000000\">entropy = 0.0</text>\n",
       "<text text-anchor=\"start\" x=\"3168.5\" y=\"-37.8\" font-family=\"Helvetica,sans-Serif\" font-size=\"14.00\" fill=\"#000000\">samples = 511</text>\n",
       "<text text-anchor=\"start\" x=\"3144\" y=\"-22.8\" font-family=\"Helvetica,sans-Serif\" font-size=\"14.00\" fill=\"#000000\">value = [0, 511, 0, 0, 0]</text>\n",
       "<text text-anchor=\"start\" x=\"3186\" y=\"-7.8\" font-family=\"Helvetica,sans-Serif\" font-size=\"14.00\" fill=\"#000000\">class = 1</text>\n",
       "</g>\n",
       "<!-- 36&#45;&gt;37 -->\n",
       "<g id=\"edge37\" class=\"edge\">\n",
       "<title>36&#45;&gt;37</title>\n",
       "<path fill=\"none\" stroke=\"#000000\" d=\"M3271.2426,-103.9815C3263.7351,-94.8828 3255.7804,-85.242 3248.2536,-76.1199\"/>\n",
       "<polygon fill=\"#000000\" stroke=\"#000000\" points=\"3250.8354,-73.7495 3241.7714,-68.2637 3245.4361,-78.2045 3250.8354,-73.7495\"/>\n",
       "</g>\n",
       "<!-- 38 -->\n",
       "<g id=\"node39\" class=\"node\">\n",
       "<title>38</title>\n",
       "<path fill=\"#e5813a\" stroke=\"#000000\" d=\"M3512,-68C3512,-68 3321,-68 3321,-68 3315,-68 3309,-62 3309,-56 3309,-56 3309,-12 3309,-12 3309,-6 3315,0 3321,0 3321,0 3512,0 3512,0 3518,0 3524,-6 3524,-12 3524,-12 3524,-56 3524,-56 3524,-62 3518,-68 3512,-68\"/>\n",
       "<text text-anchor=\"start\" x=\"3369\" y=\"-52.8\" font-family=\"Helvetica,sans-Serif\" font-size=\"14.00\" fill=\"#000000\">entropy = 0.031</text>\n",
       "<text text-anchor=\"start\" x=\"3360.5\" y=\"-37.8\" font-family=\"Helvetica,sans-Serif\" font-size=\"14.00\" fill=\"#000000\">samples = 359548</text>\n",
       "<text text-anchor=\"start\" x=\"3317\" y=\"-22.8\" font-family=\"Helvetica,sans-Serif\" font-size=\"14.00\" fill=\"#000000\">value = [358558, 584, 71, 335, 0]</text>\n",
       "<text text-anchor=\"start\" x=\"3389\" y=\"-7.8\" font-family=\"Helvetica,sans-Serif\" font-size=\"14.00\" fill=\"#000000\">class = 0</text>\n",
       "</g>\n",
       "<!-- 36&#45;&gt;38 -->\n",
       "<g id=\"edge38\" class=\"edge\">\n",
       "<title>36&#45;&gt;38</title>\n",
       "<path fill=\"none\" stroke=\"#000000\" d=\"M3346.8323,-103.9815C3356.0733,-94.6989 3365.8758,-84.8522 3375.1187,-75.5677\"/>\n",
       "<polygon fill=\"#000000\" stroke=\"#000000\" points=\"3377.8152,-77.82 3382.39,-68.2637 3372.8543,-72.8813 3377.8152,-77.82\"/>\n",
       "</g>\n",
       "<!-- 40 -->\n",
       "<g id=\"node41\" class=\"node\">\n",
       "<title>40</title>\n",
       "<path fill=\"#e58139\" stroke=\"#000000\" d=\"M3707,-68C3707,-68 3554,-68 3554,-68 3548,-68 3542,-62 3542,-56 3542,-56 3542,-12 3542,-12 3542,-6 3548,0 3554,0 3554,0 3707,0 3707,0 3713,0 3719,-6 3719,-12 3719,-12 3719,-56 3719,-56 3719,-62 3713,-68 3707,-68\"/>\n",
       "<text text-anchor=\"start\" x=\"3583\" y=\"-52.8\" font-family=\"Helvetica,sans-Serif\" font-size=\"14.00\" fill=\"#000000\">entropy = 0.007</text>\n",
       "<text text-anchor=\"start\" x=\"3578\" y=\"-37.8\" font-family=\"Helvetica,sans-Serif\" font-size=\"14.00\" fill=\"#000000\">samples = 50537</text>\n",
       "<text text-anchor=\"start\" x=\"3550\" y=\"-22.8\" font-family=\"Helvetica,sans-Serif\" font-size=\"14.00\" fill=\"#000000\">value = [50510, 0, 0, 27, 0]</text>\n",
       "<text text-anchor=\"start\" x=\"3603\" y=\"-7.8\" font-family=\"Helvetica,sans-Serif\" font-size=\"14.00\" fill=\"#000000\">class = 0</text>\n",
       "</g>\n",
       "<!-- 39&#45;&gt;40 -->\n",
       "<g id=\"edge40\" class=\"edge\">\n",
       "<title>39&#45;&gt;40</title>\n",
       "<path fill=\"none\" stroke=\"#000000\" d=\"M3630.5,-103.9815C3630.5,-95.618 3630.5,-86.7965 3630.5,-78.3409\"/>\n",
       "<polygon fill=\"#000000\" stroke=\"#000000\" points=\"3634.0001,-78.2636 3630.5,-68.2637 3627.0001,-78.2637 3634.0001,-78.2636\"/>\n",
       "</g>\n",
       "<!-- 41 -->\n",
       "<g id=\"node42\" class=\"node\">\n",
       "<title>41</title>\n",
       "<path fill=\"#e89051\" stroke=\"#000000\" d=\"M3932,-68C3932,-68 3749,-68 3749,-68 3743,-68 3737,-62 3737,-56 3737,-56 3737,-12 3737,-12 3737,-6 3743,0 3749,0 3749,0 3932,0 3932,0 3938,0 3944,-6 3944,-12 3944,-12 3944,-56 3944,-56 3944,-62 3938,-68 3932,-68\"/>\n",
       "<text text-anchor=\"start\" x=\"3793\" y=\"-52.8\" font-family=\"Helvetica,sans-Serif\" font-size=\"14.00\" fill=\"#000000\">entropy = 0.514</text>\n",
       "<text text-anchor=\"start\" x=\"3788\" y=\"-37.8\" font-family=\"Helvetica,sans-Serif\" font-size=\"14.00\" fill=\"#000000\">samples = 42591</text>\n",
       "<text text-anchor=\"start\" x=\"3745\" y=\"-22.8\" font-family=\"Helvetica,sans-Serif\" font-size=\"14.00\" fill=\"#000000\">value = [37934, 100, 0, 4557, 0]</text>\n",
       "<text text-anchor=\"start\" x=\"3813\" y=\"-7.8\" font-family=\"Helvetica,sans-Serif\" font-size=\"14.00\" fill=\"#000000\">class = 0</text>\n",
       "</g>\n",
       "<!-- 39&#45;&gt;41 -->\n",
       "<g id=\"edge41\" class=\"edge\">\n",
       "<title>39&#45;&gt;41</title>\n",
       "<path fill=\"none\" stroke=\"#000000\" d=\"M3708.6962,-103.9815C3727.9242,-93.7724 3748.4374,-82.8809 3767.4138,-72.8053\"/>\n",
       "<polygon fill=\"#000000\" stroke=\"#000000\" points=\"3769.1119,-75.8665 3776.3029,-68.0856 3765.8293,-69.6839 3769.1119,-75.8665\"/>\n",
       "</g>\n",
       "<!-- 43 -->\n",
       "<g id=\"node44\" class=\"node\">\n",
       "<title>43</title>\n",
       "<path fill=\"#e68540\" stroke=\"#000000\" d=\"M4458,-306C4458,-306 4275,-306 4275,-306 4269,-306 4263,-300 4263,-294 4263,-294 4263,-235 4263,-235 4263,-229 4269,-223 4275,-223 4275,-223 4458,-223 4458,-223 4464,-223 4470,-229 4470,-235 4470,-235 4470,-294 4470,-294 4470,-300 4464,-306 4458,-306\"/>\n",
       "<text text-anchor=\"start\" x=\"4325\" y=\"-290.8\" font-family=\"Helvetica,sans-Serif\" font-size=\"14.00\" fill=\"#000000\">c_az ≤ &#45;0.341</text>\n",
       "<text text-anchor=\"start\" x=\"4319\" y=\"-275.8\" font-family=\"Helvetica,sans-Serif\" font-size=\"14.00\" fill=\"#000000\">entropy = 0.217</text>\n",
       "<text text-anchor=\"start\" x=\"4310.5\" y=\"-260.8\" font-family=\"Helvetica,sans-Serif\" font-size=\"14.00\" fill=\"#000000\">samples = 246758</text>\n",
       "<text text-anchor=\"start\" x=\"4271\" y=\"-245.8\" font-family=\"Helvetica,sans-Serif\" font-size=\"14.00\" fill=\"#000000\">value = [238260, 14, 8484, 0, 0]</text>\n",
       "<text text-anchor=\"start\" x=\"4339\" y=\"-230.8\" font-family=\"Helvetica,sans-Serif\" font-size=\"14.00\" fill=\"#000000\">class = 0</text>\n",
       "</g>\n",
       "<!-- 42&#45;&gt;43 -->\n",
       "<g id=\"edge43\" class=\"edge\">\n",
       "<title>42&#45;&gt;43</title>\n",
       "<path fill=\"none\" stroke=\"#000000\" d=\"M4366.5,-341.8796C4366.5,-333.6838 4366.5,-324.9891 4366.5,-316.5013\"/>\n",
       "<polygon fill=\"#000000\" stroke=\"#000000\" points=\"4370.0001,-316.298 4366.5,-306.2981 4363.0001,-316.2981 4370.0001,-316.298\"/>\n",
       "</g>\n",
       "<!-- 50 -->\n",
       "<g id=\"node51\" class=\"node\">\n",
       "<title>50</title>\n",
       "<path fill=\"#8df0de\" stroke=\"#000000\" d=\"M5043.5,-306C5043.5,-306 4845.5,-306 4845.5,-306 4839.5,-306 4833.5,-300 4833.5,-294 4833.5,-294 4833.5,-235 4833.5,-235 4833.5,-229 4839.5,-223 4845.5,-223 4845.5,-223 5043.5,-223 5043.5,-223 5049.5,-223 5055.5,-229 5055.5,-235 5055.5,-235 5055.5,-294 5055.5,-294 5055.5,-300 5049.5,-306 5043.5,-306\"/>\n",
       "<text text-anchor=\"start\" x=\"4893\" y=\"-290.8\" font-family=\"Helvetica,sans-Serif\" font-size=\"14.00\" fill=\"#000000\">c_temp ≤ 31.019</text>\n",
       "<text text-anchor=\"start\" x=\"4897\" y=\"-275.8\" font-family=\"Helvetica,sans-Serif\" font-size=\"14.00\" fill=\"#000000\">entropy = 0.881</text>\n",
       "<text text-anchor=\"start\" x=\"4888.5\" y=\"-260.8\" font-family=\"Helvetica,sans-Serif\" font-size=\"14.00\" fill=\"#000000\">samples = 348895</text>\n",
       "<text text-anchor=\"start\" x=\"4841.5\" y=\"-245.8\" font-family=\"Helvetica,sans-Serif\" font-size=\"14.00\" fill=\"#000000\">value = [103776, 69, 245050, 0, 0]</text>\n",
       "<text text-anchor=\"start\" x=\"4917\" y=\"-230.8\" font-family=\"Helvetica,sans-Serif\" font-size=\"14.00\" fill=\"#000000\">class = 2</text>\n",
       "</g>\n",
       "<!-- 42&#45;&gt;50 -->\n",
       "<g id=\"edge50\" class=\"edge\">\n",
       "<title>42&#45;&gt;50</title>\n",
       "<path fill=\"none\" stroke=\"#000000\" d=\"M4477.6021,-360.626C4576.6168,-340.2407 4721.2285,-310.4677 4823.2204,-289.4693\"/>\n",
       "<polygon fill=\"#000000\" stroke=\"#000000\" points=\"4824.1756,-292.8462 4833.2643,-287.4015 4822.7639,-285.99 4824.1756,-292.8462\"/>\n",
       "</g>\n",
       "<!-- 44 -->\n",
       "<g id=\"node45\" class=\"node\">\n",
       "<title>44</title>\n",
       "<path fill=\"#e5823b\" stroke=\"#000000\" d=\"M4349,-187C4349,-187 4166,-187 4166,-187 4160,-187 4154,-181 4154,-175 4154,-175 4154,-116 4154,-116 4154,-110 4160,-104 4166,-104 4166,-104 4349,-104 4349,-104 4355,-104 4361,-110 4361,-116 4361,-116 4361,-175 4361,-175 4361,-181 4355,-187 4349,-187\"/>\n",
       "<text text-anchor=\"start\" x=\"4218\" y=\"-171.8\" font-family=\"Helvetica,sans-Serif\" font-size=\"14.00\" fill=\"#000000\">c_eda ≤ 1.95</text>\n",
       "<text text-anchor=\"start\" x=\"4210\" y=\"-156.8\" font-family=\"Helvetica,sans-Serif\" font-size=\"14.00\" fill=\"#000000\">entropy = 0.068</text>\n",
       "<text text-anchor=\"start\" x=\"4201.5\" y=\"-141.8\" font-family=\"Helvetica,sans-Serif\" font-size=\"14.00\" fill=\"#000000\">samples = 207354</text>\n",
       "<text text-anchor=\"start\" x=\"4162\" y=\"-126.8\" font-family=\"Helvetica,sans-Serif\" font-size=\"14.00\" fill=\"#000000\">value = [205700, 14, 1640, 0, 0]</text>\n",
       "<text text-anchor=\"start\" x=\"4230\" y=\"-111.8\" font-family=\"Helvetica,sans-Serif\" font-size=\"14.00\" fill=\"#000000\">class = 0</text>\n",
       "</g>\n",
       "<!-- 43&#45;&gt;44 -->\n",
       "<g id=\"edge44\" class=\"edge\">\n",
       "<title>43&#45;&gt;44</title>\n",
       "<path fill=\"none\" stroke=\"#000000\" d=\"M4328.3771,-222.8796C4320.0451,-213.7832 4311.1502,-204.0722 4302.5761,-194.7116\"/>\n",
       "<polygon fill=\"#000000\" stroke=\"#000000\" points=\"4305.1211,-192.3081 4295.7856,-187.2981 4299.9592,-197.0363 4305.1211,-192.3081\"/>\n",
       "</g>\n",
       "<!-- 47 -->\n",
       "<g id=\"node48\" class=\"node\">\n",
       "<title>47</title>\n",
       "<path fill=\"#ea9b63\" stroke=\"#000000\" d=\"M4559.5,-187C4559.5,-187 4391.5,-187 4391.5,-187 4385.5,-187 4379.5,-181 4379.5,-175 4379.5,-175 4379.5,-116 4379.5,-116 4379.5,-110 4385.5,-104 4391.5,-104 4391.5,-104 4559.5,-104 4559.5,-104 4565.5,-104 4571.5,-110 4571.5,-116 4571.5,-116 4571.5,-175 4571.5,-175 4571.5,-181 4565.5,-187 4559.5,-187\"/>\n",
       "<text text-anchor=\"start\" x=\"4424\" y=\"-171.8\" font-family=\"Helvetica,sans-Serif\" font-size=\"14.00\" fill=\"#000000\">c_temp ≤ 31.022</text>\n",
       "<text text-anchor=\"start\" x=\"4428\" y=\"-156.8\" font-family=\"Helvetica,sans-Serif\" font-size=\"14.00\" fill=\"#000000\">entropy = 0.666</text>\n",
       "<text text-anchor=\"start\" x=\"4423\" y=\"-141.8\" font-family=\"Helvetica,sans-Serif\" font-size=\"14.00\" fill=\"#000000\">samples = 39404</text>\n",
       "<text text-anchor=\"start\" x=\"4387.5\" y=\"-126.8\" font-family=\"Helvetica,sans-Serif\" font-size=\"14.00\" fill=\"#000000\">value = [32560, 0, 6844, 0, 0]</text>\n",
       "<text text-anchor=\"start\" x=\"4448\" y=\"-111.8\" font-family=\"Helvetica,sans-Serif\" font-size=\"14.00\" fill=\"#000000\">class = 0</text>\n",
       "</g>\n",
       "<!-- 43&#45;&gt;47 -->\n",
       "<g id=\"edge47\" class=\"edge\">\n",
       "<title>43&#45;&gt;47</title>\n",
       "<path fill=\"none\" stroke=\"#000000\" d=\"M4404.6229,-222.8796C4412.9549,-213.7832 4421.8498,-204.0722 4430.4239,-194.7116\"/>\n",
       "<polygon fill=\"#000000\" stroke=\"#000000\" points=\"4433.0408,-197.0363 4437.2144,-187.2981 4427.8789,-192.3081 4433.0408,-197.0363\"/>\n",
       "</g>\n",
       "<!-- 45 -->\n",
       "<g id=\"node46\" class=\"node\">\n",
       "<title>45</title>\n",
       "<path fill=\"#e5823a\" stroke=\"#000000\" d=\"M4157,-68C4157,-68 3974,-68 3974,-68 3968,-68 3962,-62 3962,-56 3962,-56 3962,-12 3962,-12 3962,-6 3968,0 3974,0 3974,0 4157,0 4157,0 4163,0 4169,-6 4169,-12 4169,-12 4169,-56 4169,-56 4169,-62 4163,-68 4157,-68\"/>\n",
       "<text text-anchor=\"start\" x=\"4018\" y=\"-52.8\" font-family=\"Helvetica,sans-Serif\" font-size=\"14.00\" fill=\"#000000\">entropy = 0.049</text>\n",
       "<text text-anchor=\"start\" x=\"4009.5\" y=\"-37.8\" font-family=\"Helvetica,sans-Serif\" font-size=\"14.00\" fill=\"#000000\">samples = 206422</text>\n",
       "<text text-anchor=\"start\" x=\"3970\" y=\"-22.8\" font-family=\"Helvetica,sans-Serif\" font-size=\"14.00\" fill=\"#000000\">value = [205294, 14, 1114, 0, 0]</text>\n",
       "<text text-anchor=\"start\" x=\"4038\" y=\"-7.8\" font-family=\"Helvetica,sans-Serif\" font-size=\"14.00\" fill=\"#000000\">class = 0</text>\n",
       "</g>\n",
       "<!-- 44&#45;&gt;45 -->\n",
       "<g id=\"edge45\" class=\"edge\">\n",
       "<title>44&#45;&gt;45</title>\n",
       "<path fill=\"none\" stroke=\"#000000\" d=\"M4186.0063,-103.9815C4168.6651,-93.911 4150.1805,-83.1764 4133.029,-73.2161\"/>\n",
       "<polygon fill=\"#000000\" stroke=\"#000000\" points=\"4134.5998,-70.0809 4124.1945,-68.0856 4131.0844,-76.1342 4134.5998,-70.0809\"/>\n",
       "</g>\n",
       "<!-- 46 -->\n",
       "<g id=\"node47\" class=\"node\">\n",
       "<title>46</title>\n",
       "<path fill=\"#d2f9f2\" stroke=\"#000000\" d=\"M4345.5,-68C4345.5,-68 4199.5,-68 4199.5,-68 4193.5,-68 4187.5,-62 4187.5,-56 4187.5,-56 4187.5,-12 4187.5,-12 4187.5,-6 4193.5,0 4199.5,0 4199.5,0 4345.5,0 4345.5,0 4351.5,0 4357.5,-6 4357.5,-12 4357.5,-12 4357.5,-56 4357.5,-56 4357.5,-62 4351.5,-68 4345.5,-68\"/>\n",
       "<text text-anchor=\"start\" x=\"4225\" y=\"-52.8\" font-family=\"Helvetica,sans-Serif\" font-size=\"14.00\" fill=\"#000000\">entropy = 0.988</text>\n",
       "<text text-anchor=\"start\" x=\"4227.5\" y=\"-37.8\" font-family=\"Helvetica,sans-Serif\" font-size=\"14.00\" fill=\"#000000\">samples = 932</text>\n",
       "<text text-anchor=\"start\" x=\"4195.5\" y=\"-22.8\" font-family=\"Helvetica,sans-Serif\" font-size=\"14.00\" fill=\"#000000\">value = [406, 0, 526, 0, 0]</text>\n",
       "<text text-anchor=\"start\" x=\"4245\" y=\"-7.8\" font-family=\"Helvetica,sans-Serif\" font-size=\"14.00\" fill=\"#000000\">class = 2</text>\n",
       "</g>\n",
       "<!-- 44&#45;&gt;46 -->\n",
       "<g id=\"edge46\" class=\"edge\">\n",
       "<title>44&#45;&gt;46</title>\n",
       "<path fill=\"none\" stroke=\"#000000\" d=\"M4263.0854,-103.9815C4264.2106,-95.618 4265.3973,-86.7965 4266.5349,-78.3409\"/>\n",
       "<polygon fill=\"#000000\" stroke=\"#000000\" points=\"4270.0259,-78.6411 4267.8905,-68.2637 4263.0884,-77.7077 4270.0259,-78.6411\"/>\n",
       "</g>\n",
       "<!-- 48 -->\n",
       "<g id=\"node49\" class=\"node\">\n",
       "<title>48</title>\n",
       "<path fill=\"#e58139\" stroke=\"#000000\" d=\"M4533.5,-68C4533.5,-68 4387.5,-68 4387.5,-68 4381.5,-68 4375.5,-62 4375.5,-56 4375.5,-56 4375.5,-12 4375.5,-12 4375.5,-6 4381.5,0 4387.5,0 4387.5,0 4533.5,0 4533.5,0 4539.5,0 4545.5,-6 4545.5,-12 4545.5,-12 4545.5,-56 4545.5,-56 4545.5,-62 4539.5,-68 4533.5,-68\"/>\n",
       "<text text-anchor=\"start\" x=\"4413\" y=\"-52.8\" font-family=\"Helvetica,sans-Serif\" font-size=\"14.00\" fill=\"#000000\">entropy = 0.001</text>\n",
       "<text text-anchor=\"start\" x=\"4408\" y=\"-37.8\" font-family=\"Helvetica,sans-Serif\" font-size=\"14.00\" fill=\"#000000\">samples = 31130</text>\n",
       "<text text-anchor=\"start\" x=\"4383.5\" y=\"-22.8\" font-family=\"Helvetica,sans-Serif\" font-size=\"14.00\" fill=\"#000000\">value = [31128, 0, 2, 0, 0]</text>\n",
       "<text text-anchor=\"start\" x=\"4433\" y=\"-7.8\" font-family=\"Helvetica,sans-Serif\" font-size=\"14.00\" fill=\"#000000\">class = 0</text>\n",
       "</g>\n",
       "<!-- 47&#45;&gt;48 -->\n",
       "<g id=\"edge48\" class=\"edge\">\n",
       "<title>47&#45;&gt;48</title>\n",
       "<path fill=\"none\" stroke=\"#000000\" d=\"M4469.9146,-103.9815C4468.7894,-95.618 4467.6027,-86.7965 4466.4651,-78.3409\"/>\n",
       "<polygon fill=\"#000000\" stroke=\"#000000\" points=\"4469.9116,-77.7077 4465.1095,-68.2637 4462.9741,-78.6411 4469.9116,-77.7077\"/>\n",
       "</g>\n",
       "<!-- 49 -->\n",
       "<g id=\"node50\" class=\"node\">\n",
       "<title>49</title>\n",
       "<path fill=\"#62ead1\" stroke=\"#000000\" d=\"M4737,-68C4737,-68 4576,-68 4576,-68 4570,-68 4564,-62 4564,-56 4564,-56 4564,-12 4564,-12 4564,-6 4570,0 4576,0 4576,0 4737,0 4737,0 4743,0 4749,-6 4749,-12 4749,-12 4749,-56 4749,-56 4749,-62 4743,-68 4737,-68\"/>\n",
       "<text text-anchor=\"start\" x=\"4609\" y=\"-52.8\" font-family=\"Helvetica,sans-Serif\" font-size=\"14.00\" fill=\"#000000\">entropy = 0.665</text>\n",
       "<text text-anchor=\"start\" x=\"4608\" y=\"-37.8\" font-family=\"Helvetica,sans-Serif\" font-size=\"14.00\" fill=\"#000000\">samples = 8274</text>\n",
       "<text text-anchor=\"start\" x=\"4572\" y=\"-22.8\" font-family=\"Helvetica,sans-Serif\" font-size=\"14.00\" fill=\"#000000\">value = [1432, 0, 6842, 0, 0]</text>\n",
       "<text text-anchor=\"start\" x=\"4629\" y=\"-7.8\" font-family=\"Helvetica,sans-Serif\" font-size=\"14.00\" fill=\"#000000\">class = 2</text>\n",
       "</g>\n",
       "<!-- 47&#45;&gt;49 -->\n",
       "<g id=\"edge49\" class=\"edge\">\n",
       "<title>47&#45;&gt;49</title>\n",
       "<path fill=\"none\" stroke=\"#000000\" d=\"M4542.8977,-103.9815C4559.0955,-94.0034 4576.3513,-83.3733 4592.3945,-73.4904\"/>\n",
       "<polygon fill=\"#000000\" stroke=\"#000000\" points=\"4594.4897,-76.3105 4601.1682,-68.0856 4590.8183,-70.3506 4594.4897,-76.3105\"/>\n",
       "</g>\n",
       "<!-- 51 -->\n",
       "<g id=\"node52\" class=\"node\">\n",
       "<title>51</title>\n",
       "<path fill=\"#e5813a\" stroke=\"#000000\" d=\"M5025,-187C5025,-187 4864,-187 4864,-187 4858,-187 4852,-181 4852,-175 4852,-175 4852,-116 4852,-116 4852,-110 4858,-104 4864,-104 4864,-104 5025,-104 5025,-104 5031,-104 5037,-110 5037,-116 5037,-116 5037,-175 5037,-175 5037,-181 5031,-187 5025,-187\"/>\n",
       "<text text-anchor=\"start\" x=\"4893\" y=\"-171.8\" font-family=\"Helvetica,sans-Serif\" font-size=\"14.00\" fill=\"#000000\">c_temp ≤ 31.006</text>\n",
       "<text text-anchor=\"start\" x=\"4897\" y=\"-156.8\" font-family=\"Helvetica,sans-Serif\" font-size=\"14.00\" fill=\"#000000\">entropy = 0.029</text>\n",
       "<text text-anchor=\"start\" x=\"4892\" y=\"-141.8\" font-family=\"Helvetica,sans-Serif\" font-size=\"14.00\" fill=\"#000000\">samples = 69017</text>\n",
       "<text text-anchor=\"start\" x=\"4860\" y=\"-126.8\" font-family=\"Helvetica,sans-Serif\" font-size=\"14.00\" fill=\"#000000\">value = [68819, 6, 192, 0, 0]</text>\n",
       "<text text-anchor=\"start\" x=\"4917\" y=\"-111.8\" font-family=\"Helvetica,sans-Serif\" font-size=\"14.00\" fill=\"#000000\">class = 0</text>\n",
       "</g>\n",
       "<!-- 50&#45;&gt;51 -->\n",
       "<g id=\"edge51\" class=\"edge\">\n",
       "<title>50&#45;&gt;51</title>\n",
       "<path fill=\"none\" stroke=\"#000000\" d=\"M4944.5,-222.8796C4944.5,-214.6838 4944.5,-205.9891 4944.5,-197.5013\"/>\n",
       "<polygon fill=\"#000000\" stroke=\"#000000\" points=\"4948.0001,-197.298 4944.5,-187.2981 4941.0001,-197.2981 4948.0001,-197.298\"/>\n",
       "</g>\n",
       "<!-- 54 -->\n",
       "<g id=\"node55\" class=\"node\">\n",
       "<title>54</title>\n",
       "<path fill=\"#55e9cd\" stroke=\"#000000\" d=\"M5350,-187C5350,-187 5159,-187 5159,-187 5153,-187 5147,-181 5147,-175 5147,-175 5147,-116 5147,-116 5147,-110 5153,-104 5159,-104 5159,-104 5350,-104 5350,-104 5356,-104 5362,-110 5362,-116 5362,-116 5362,-175 5362,-175 5362,-181 5356,-187 5350,-187\"/>\n",
       "<text text-anchor=\"start\" x=\"5211\" y=\"-171.8\" font-family=\"Helvetica,sans-Serif\" font-size=\"14.00\" fill=\"#000000\">c_eda ≤ 1.386</text>\n",
       "<text text-anchor=\"start\" x=\"5207\" y=\"-156.8\" font-family=\"Helvetica,sans-Serif\" font-size=\"14.00\" fill=\"#000000\">entropy = 0.546</text>\n",
       "<text text-anchor=\"start\" x=\"5198.5\" y=\"-141.8\" font-family=\"Helvetica,sans-Serif\" font-size=\"14.00\" fill=\"#000000\">samples = 279878</text>\n",
       "<text text-anchor=\"start\" x=\"5155\" y=\"-126.8\" font-family=\"Helvetica,sans-Serif\" font-size=\"14.00\" fill=\"#000000\">value = [34957, 63, 244858, 0, 0]</text>\n",
       "<text text-anchor=\"start\" x=\"5227\" y=\"-111.8\" font-family=\"Helvetica,sans-Serif\" font-size=\"14.00\" fill=\"#000000\">class = 2</text>\n",
       "</g>\n",
       "<!-- 50&#45;&gt;54 -->\n",
       "<g id=\"edge54\" class=\"edge\">\n",
       "<title>50&#45;&gt;54</title>\n",
       "<path fill=\"none\" stroke=\"#000000\" d=\"M5052.923,-222.8796C5080.2962,-212.3718 5109.8061,-201.0438 5137.5774,-190.3832\"/>\n",
       "<polygon fill=\"#000000\" stroke=\"#000000\" points=\"5138.8418,-193.6469 5146.9233,-186.7956 5136.3332,-187.1119 5138.8418,-193.6469\"/>\n",
       "</g>\n",
       "<!-- 52 -->\n",
       "<g id=\"node53\" class=\"node\">\n",
       "<title>52</title>\n",
       "<path fill=\"#e58139\" stroke=\"#000000\" d=\"M4925.5,-68C4925.5,-68 4779.5,-68 4779.5,-68 4773.5,-68 4767.5,-62 4767.5,-56 4767.5,-56 4767.5,-12 4767.5,-12 4767.5,-6 4773.5,0 4779.5,0 4779.5,0 4925.5,0 4925.5,0 4931.5,0 4937.5,-6 4937.5,-12 4937.5,-12 4937.5,-56 4937.5,-56 4937.5,-62 4931.5,-68 4925.5,-68\"/>\n",
       "<text text-anchor=\"start\" x=\"4805\" y=\"-52.8\" font-family=\"Helvetica,sans-Serif\" font-size=\"14.00\" fill=\"#000000\">entropy = 0.002</text>\n",
       "<text text-anchor=\"start\" x=\"4800\" y=\"-37.8\" font-family=\"Helvetica,sans-Serif\" font-size=\"14.00\" fill=\"#000000\">samples = 66942</text>\n",
       "<text text-anchor=\"start\" x=\"4775.5\" y=\"-22.8\" font-family=\"Helvetica,sans-Serif\" font-size=\"14.00\" fill=\"#000000\">value = [66932, 6, 4, 0, 0]</text>\n",
       "<text text-anchor=\"start\" x=\"4825\" y=\"-7.8\" font-family=\"Helvetica,sans-Serif\" font-size=\"14.00\" fill=\"#000000\">class = 0</text>\n",
       "</g>\n",
       "<!-- 51&#45;&gt;52 -->\n",
       "<g id=\"edge52\" class=\"edge\">\n",
       "<title>51&#45;&gt;52</title>\n",
       "<path fill=\"none\" stroke=\"#000000\" d=\"M4910.2426,-103.9815C4902.7351,-94.8828 4894.7804,-85.242 4887.2536,-76.1199\"/>\n",
       "<polygon fill=\"#000000\" stroke=\"#000000\" points=\"4889.8354,-73.7495 4880.7714,-68.2637 4884.4361,-78.2045 4889.8354,-73.7495\"/>\n",
       "</g>\n",
       "<!-- 53 -->\n",
       "<g id=\"node54\" class=\"node\">\n",
       "<title>53</title>\n",
       "<path fill=\"#e88e4d\" stroke=\"#000000\" d=\"M5121,-68C5121,-68 4968,-68 4968,-68 4962,-68 4956,-62 4956,-56 4956,-56 4956,-12 4956,-12 4956,-6 4962,0 4968,0 4968,0 5121,0 5121,0 5127,0 5133,-6 5133,-12 5133,-12 5133,-56 5133,-56 5133,-62 5127,-68 5121,-68\"/>\n",
       "<text text-anchor=\"start\" x=\"4997\" y=\"-52.8\" font-family=\"Helvetica,sans-Serif\" font-size=\"14.00\" fill=\"#000000\">entropy = 0.438</text>\n",
       "<text text-anchor=\"start\" x=\"4996\" y=\"-37.8\" font-family=\"Helvetica,sans-Serif\" font-size=\"14.00\" fill=\"#000000\">samples = 2075</text>\n",
       "<text text-anchor=\"start\" x=\"4964\" y=\"-22.8\" font-family=\"Helvetica,sans-Serif\" font-size=\"14.00\" fill=\"#000000\">value = [1887, 0, 188, 0, 0]</text>\n",
       "<text text-anchor=\"start\" x=\"5017\" y=\"-7.8\" font-family=\"Helvetica,sans-Serif\" font-size=\"14.00\" fill=\"#000000\">class = 0</text>\n",
       "</g>\n",
       "<!-- 51&#45;&gt;53 -->\n",
       "<g id=\"edge53\" class=\"edge\">\n",
       "<title>51&#45;&gt;53</title>\n",
       "<path fill=\"none\" stroke=\"#000000\" d=\"M4981.7363,-103.9815C4989.9791,-94.7908 4998.7178,-85.0472 5006.9721,-75.8436\"/>\n",
       "<polygon fill=\"#000000\" stroke=\"#000000\" points=\"5009.6991,-78.0451 5013.7702,-68.2637 5004.4879,-73.3714 5009.6991,-78.0451\"/>\n",
       "</g>\n",
       "<!-- 55 -->\n",
       "<g id=\"node56\" class=\"node\">\n",
       "<title>55</title>\n",
       "<path fill=\"#81eeda\" stroke=\"#000000\" d=\"M5346,-68C5346,-68 5163,-68 5163,-68 5157,-68 5151,-62 5151,-56 5151,-56 5151,-12 5151,-12 5151,-6 5157,0 5163,0 5163,0 5346,0 5346,0 5352,0 5358,-6 5358,-12 5358,-12 5358,-56 5358,-56 5358,-62 5352,-68 5346,-68\"/>\n",
       "<text text-anchor=\"start\" x=\"5207\" y=\"-52.8\" font-family=\"Helvetica,sans-Serif\" font-size=\"14.00\" fill=\"#000000\">entropy = 0.842</text>\n",
       "<text text-anchor=\"start\" x=\"5198.5\" y=\"-37.8\" font-family=\"Helvetica,sans-Serif\" font-size=\"14.00\" fill=\"#000000\">samples = 119623</text>\n",
       "<text text-anchor=\"start\" x=\"5159\" y=\"-22.8\" font-family=\"Helvetica,sans-Serif\" font-size=\"14.00\" fill=\"#000000\">value = [31830, 63, 87730, 0, 0]</text>\n",
       "<text text-anchor=\"start\" x=\"5227\" y=\"-7.8\" font-family=\"Helvetica,sans-Serif\" font-size=\"14.00\" fill=\"#000000\">class = 2</text>\n",
       "</g>\n",
       "<!-- 54&#45;&gt;55 -->\n",
       "<g id=\"edge55\" class=\"edge\">\n",
       "<title>54&#45;&gt;55</title>\n",
       "<path fill=\"none\" stroke=\"#000000\" d=\"M5254.5,-103.9815C5254.5,-95.618 5254.5,-86.7965 5254.5,-78.3409\"/>\n",
       "<polygon fill=\"#000000\" stroke=\"#000000\" points=\"5258.0001,-78.2636 5254.5,-68.2637 5251.0001,-78.2637 5258.0001,-78.2636\"/>\n",
       "</g>\n",
       "<!-- 56 -->\n",
       "<g id=\"node57\" class=\"node\">\n",
       "<title>56</title>\n",
       "<path fill=\"#3de6c6\" stroke=\"#000000\" d=\"M5564.5,-68C5564.5,-68 5388.5,-68 5388.5,-68 5382.5,-68 5376.5,-62 5376.5,-56 5376.5,-56 5376.5,-12 5376.5,-12 5376.5,-6 5382.5,0 5388.5,0 5388.5,0 5564.5,0 5564.5,0 5570.5,0 5576.5,-6 5576.5,-12 5576.5,-12 5576.5,-56 5576.5,-56 5576.5,-62 5570.5,-68 5564.5,-68\"/>\n",
       "<text text-anchor=\"start\" x=\"5429\" y=\"-52.8\" font-family=\"Helvetica,sans-Serif\" font-size=\"14.00\" fill=\"#000000\">entropy = 0.139</text>\n",
       "<text text-anchor=\"start\" x=\"5420.5\" y=\"-37.8\" font-family=\"Helvetica,sans-Serif\" font-size=\"14.00\" fill=\"#000000\">samples = 160255</text>\n",
       "<text text-anchor=\"start\" x=\"5384.5\" y=\"-22.8\" font-family=\"Helvetica,sans-Serif\" font-size=\"14.00\" fill=\"#000000\">value = [3127, 0, 157128, 0, 0]</text>\n",
       "<text text-anchor=\"start\" x=\"5449\" y=\"-7.8\" font-family=\"Helvetica,sans-Serif\" font-size=\"14.00\" fill=\"#000000\">class = 2</text>\n",
       "</g>\n",
       "<!-- 54&#45;&gt;56 -->\n",
       "<g id=\"edge56\" class=\"edge\">\n",
       "<title>54&#45;&gt;56</title>\n",
       "<path fill=\"none\" stroke=\"#000000\" d=\"M5337.1646,-103.9815C5357.5833,-93.7262 5379.3729,-82.7823 5399.5096,-72.6686\"/>\n",
       "<polygon fill=\"#000000\" stroke=\"#000000\" points=\"5401.2691,-75.7016 5408.6344,-68.0856 5398.1273,-69.4462 5401.2691,-75.7016\"/>\n",
       "</g>\n",
       "</g>\n",
       "</svg>\n"
      ],
      "text/plain": [
       "<graphviz.files.Source at 0x7f02b722ceb8>"
      ]
     },
     "execution_count": 24,
     "metadata": {},
     "output_type": "execute_result"
    }
   ],
   "source": [
    "#from sklearn import tree\n",
    "#https://scikit-learn.org/stable/modules/tree.html\n",
    "\n",
    "features_ax=[\"c_ax\", \"c_ay\", \"c_az\",\"c_ecg\",\"c_emg\",\"c_eda\",\"c_temp\",\"c_resp\"]\n",
    "classes_ay=['0', '1', '2', '3', '4']\n",
    "\n",
    "dot_data = tree.export_graphviz(clf_i, out_file=None, \n",
    "                      feature_names=features_ax,  \n",
    "                      class_names=classes_ay,  \n",
    "                      filled=True, rounded=True,  \n",
    "                      special_characters=True)  \n",
    "graph = graphviz.Source(dot_data)  \n",
    "graph.render(\"Decision_tree\")\n",
    "graph \n"
   ]
  },
  {
   "cell_type": "markdown",
   "metadata": {},
   "source": [
    "# Simple Decision Tree + Depth = 5 + Cross Validation + Normalization"
   ]
  },
  {
   "cell_type": "code",
   "execution_count": 25,
   "metadata": {},
   "outputs": [
    {
     "name": "stdout",
     "output_type": "stream",
     "text": [
      "              precision    recall  f1-score   support\n",
      "\n",
      "         0.0     0.9361    0.8394    0.8851   1230433\n",
      "         1.0     0.8022    0.9360    0.8640     53659\n",
      "         2.0     0.8695    0.9808    0.9218    316935\n",
      "         3.0     0.6209    0.7785    0.6908    239191\n",
      "         4.0     0.9097    0.9685    0.9382    260238\n",
      "\n",
      "    accuracy                         0.8723   2100456\n",
      "   macro avg     0.8277    0.9007    0.8600   2100456\n",
      "weighted avg     0.8835    0.8723    0.8746   2100456\n",
      "\n"
     ]
    }
   ],
   "source": [
    "\n",
    "clf = DecisionTreeClassifier(criterion=\"entropy\", max_depth=5)\n",
    "\n",
    "\n",
    "norm_y_out = cross_val_predict(clf, norm_x, norm_y, cv=10)\n",
    "\n",
    "lm=(classification_report(norm_y, norm_y_out, digits=4))\n",
    "print(lm)\n"
   ]
  },
  {
   "cell_type": "markdown",
   "metadata": {},
   "source": [
    "# Simple Decision Tree + Depth = 7 + Normalization + Cross Validation"
   ]
  },
  {
   "cell_type": "code",
   "execution_count": 33,
   "metadata": {},
   "outputs": [
    {
     "name": "stdout",
     "output_type": "stream",
     "text": [
      "              precision    recall  f1-score   support\n",
      "\n",
      "         0.0     0.9182    0.8495    0.8825   1230433\n",
      "         1.0     0.8006    0.9444    0.8666     53659\n",
      "         2.0     0.8734    0.8884    0.8809    316935\n",
      "         3.0     0.6494    0.8274    0.7277    239191\n",
      "         4.0     0.9077    0.9478    0.9273    260238\n",
      "\n",
      "    accuracy                         0.8674   2100456\n",
      "   macro avg     0.8299    0.8915    0.8570   2100456\n",
      "weighted avg     0.8765    0.8674    0.8698   2100456\n",
      "\n"
     ]
    }
   ],
   "source": [
    "\n",
    "clf = DecisionTreeClassifier(criterion=\"entropy\", max_depth=7)\n",
    "\n",
    "norm_y_out = cross_val_predict(clf, norm_x, norm_y, cv=10)\n",
    "\n",
    "lm=(classification_report(norm_y, norm_y_out, digits=4))\n",
    "print(lm)\n"
   ]
  },
  {
   "cell_type": "markdown",
   "metadata": {},
   "source": [
    "# Simple Decision Tree + Normalization + Cross Validation\n",
    "\n",
    "## Criterion = Gini, Max_depth = 5, CV = 10"
   ]
  },
  {
   "cell_type": "code",
   "execution_count": 34,
   "metadata": {},
   "outputs": [
    {
     "name": "stdout",
     "output_type": "stream",
     "text": [
      "              precision    recall  f1-score   support\n",
      "\n",
      "         0.0     0.8866    0.8848    0.8857   1230433\n",
      "         1.0     0.9702    0.9373    0.9535     53659\n",
      "         2.0     0.8993    0.7566    0.8218    316935\n",
      "         3.0     0.6914    0.8289    0.7540    239191\n",
      "         4.0     0.9065    0.9307    0.9184    260238\n",
      "\n",
      "    accuracy                         0.8661   2100456\n",
      "   macro avg     0.8708    0.8677    0.8667   2100456\n",
      "weighted avg     0.8709    0.8661    0.8668   2100456\n",
      "\n"
     ]
    }
   ],
   "source": [
    "\n",
    "clf = DecisionTreeClassifier(criterion=\"gini\", max_depth=5)\n",
    "\n",
    "norm_y_out = cross_val_predict(clf, norm_x, norm_y, cv=10)\n",
    "\n",
    "lm=(classification_report(norm_y, norm_y_out, digits=4))\n",
    "print(lm)\n"
   ]
  },
  {
   "cell_type": "code",
   "execution_count": null,
   "metadata": {},
   "outputs": [],
   "source": []
  },
  {
   "cell_type": "markdown",
   "metadata": {},
   "source": [
    "# XGB Implementation \n",
    "\n",
    "## Normalization + max_depth = 10, alpha = 10, n_estimators = 50, gamma=10\n",
    "\n",
    "## colsample_bytree = 0.3, learning_rate = 0.1"
   ]
  },
  {
   "cell_type": "code",
   "execution_count": null,
   "metadata": {},
   "outputs": [
    {
     "name": "stdout",
     "output_type": "stream",
     "text": [
      "              precision    recall  f1-score   support\n",
      "\n",
      "         0.0     0.9801    0.9839    0.9820    245889\n",
      "         1.0     0.9994    0.9425    0.9701     10734\n",
      "         2.0     0.9755    0.9539    0.9645     63716\n",
      "         3.0     0.9821    0.9811    0.9816     47585\n",
      "         4.0     0.9704    0.9910    0.9806     52168\n",
      "\n",
      "    accuracy                         0.9788    420092\n",
      "   macro avg     0.9815    0.9705    0.9758    420092\n",
      "weighted avg     0.9789    0.9788    0.9788    420092\n",
      "\n"
     ]
    }
   ],
   "source": [
    "#https://towardsdatascience.com/https-medium-com-vishalmorde-xgboost-algorithm-long-she-may-rein-edd9f99be63d\n",
    "#https://www.datacamp.com/community/tutorials/xgboost-in-python\n",
    "#https://medium.com/@gabrielziegler3/multiclass-multilabel-classification-with-xgboost-66195e4d9f2d\n",
    "\n",
    "xg_class = xgb.XGBClassifier(objective ='multi:softmax', colsample_bytree = 0.3, learning_rate = 0.1,\n",
    "                max_depth = 10, alpha = 10, n_estimators = 50, gamma=10)\n",
    "\n",
    "xg_class.fit(x_train,y_train)\n",
    "\n",
    "y_out = xg_class.predict(x_test)\n",
    "\n",
    "lm_xgb=(classification_report(y_test, y_out, digits=4))\n",
    "\n",
    "print(lm_xgb)\n"
   ]
  },
  {
   "cell_type": "code",
   "execution_count": 13,
   "metadata": {},
   "outputs": [
    {
     "name": "stdout",
     "output_type": "stream",
     "text": [
      "              precision    recall  f1-score   support\n",
      "\n",
      "         0.0     0.8217    0.9206    0.8683   1230433\n",
      "         1.0     0.8144    0.6845    0.7438     53659\n",
      "         2.0     0.8549    0.6707    0.7517    316935\n",
      "         3.0     0.8058    0.6221    0.7022    239191\n",
      "         4.0     0.9284    0.8689    0.8977    260238\n",
      "\n",
      "    accuracy                         0.8365   2100456\n",
      "   macro avg     0.8451    0.7534    0.7927   2100456\n",
      "weighted avg     0.8379    0.8365    0.8323   2100456\n",
      "\n"
     ]
    }
   ],
   "source": [
    "xg_class = xgb.XGBClassifier(objective ='multi:softmax', colsample_bytree = 0.3, learning_rate = 0.1,\n",
    "                max_depth = 10, alpha = 10, n_estimators = 50, gamma=10)\n",
    "\n",
    "\n",
    "norm_y_out = cross_val_predict(xg_class, norm_x, norm_y, cv=5)\n",
    "\n",
    "lm=(classification_report(norm_y, norm_y_out, digits=4))\n",
    "print(lm)"
   ]
  },
  {
   "cell_type": "code",
   "execution_count": 12,
   "metadata": {},
   "outputs": [
    {
     "name": "stdout",
     "output_type": "stream",
     "text": [
      "              precision    recall  f1-score   support\n",
      "\n",
      "         0.0     0.8933    0.9260    0.9093   1230433\n",
      "         1.0     0.8757    0.7754    0.8225     53659\n",
      "         2.0     0.9078    0.8077    0.8548    316935\n",
      "         3.0     0.8205    0.8011    0.8107    239191\n",
      "         4.0     0.9341    0.9401    0.9371    260238\n",
      "\n",
      "    accuracy                         0.8918   2100456\n",
      "   macro avg     0.8863    0.8501    0.8669   2100456\n",
      "weighted avg     0.8918    0.8918    0.8911   2100456\n",
      "\n"
     ]
    }
   ],
   "source": [
    "xg_class = xgb.XGBClassifier(objective ='multi:softmax', colsample_bytree = 0.3, learning_rate = 0.1,\n",
    "                max_depth = 10, alpha = 10, n_estimators = 50, gamma=10)\n",
    "\n",
    "\n",
    "norm_y_out = cross_val_predict(xg_class, norm_x, norm_y, cv=10)\n",
    "\n",
    "lm=(classification_report(norm_y, norm_y_out, digits=4))\n",
    "print(lm)"
   ]
  },
  {
   "cell_type": "markdown",
   "metadata": {},
   "source": [
    "# XGB Implementation \n",
    "\n",
    "## Normalization + max_depth = 5, alpha = 10, n_estimators = 20, gamma=20\n",
    "\n",
    "## colsample_bytree = 0.3, learning_rate = 0.9"
   ]
  },
  {
   "cell_type": "code",
   "execution_count": 28,
   "metadata": {},
   "outputs": [
    {
     "name": "stdout",
     "output_type": "stream",
     "text": [
      "              precision    recall  f1-score   support\n",
      "\n",
      "         0.0     0.9191    0.8931    0.9059   1230433\n",
      "         1.0     0.6377    0.7638    0.6951     53659\n",
      "         2.0     0.9062    0.9040    0.9051    316935\n",
      "         3.0     0.7774    0.8373    0.8063    239191\n",
      "         4.0     0.9179    0.9408    0.9292    260238\n",
      "\n",
      "    accuracy                         0.8910   2100456\n",
      "   macro avg     0.8317    0.8678    0.8483   2100456\n",
      "weighted avg     0.8937    0.8910    0.8919   2100456\n",
      "\n"
     ]
    }
   ],
   "source": [
    "xg_class = xgb.XGBClassifier(objective ='multi:softmax', colsample_bytree = 0.3, learning_rate = 0.9,\n",
    "                max_depth = 5, alpha = 10, n_estimators = 20, gamma=20)\n",
    "\n",
    "\n",
    "norm_y_out = cross_val_predict(xg_class, norm_x, norm_y, cv=10)\n",
    "\n",
    "lm=(classification_report(norm_y, norm_y_out, digits=4))\n",
    "print(lm)"
   ]
  },
  {
   "cell_type": "code",
   "execution_count": 14,
   "metadata": {},
   "outputs": [
    {
     "name": "stdout",
     "output_type": "stream",
     "text": [
      "              precision    recall  f1-score   support\n",
      "\n",
      "         0.0     0.9076    0.9176    0.9126   1230433\n",
      "         1.0     0.9276    0.8987    0.9129     53659\n",
      "         2.0     0.8864    0.8425    0.8639    316935\n",
      "         3.0     0.8132    0.8146    0.8139    239191\n",
      "         4.0     0.9292    0.9413    0.9352    260238\n",
      "\n",
      "    accuracy                         0.8970   2100456\n",
      "   macro avg     0.8928    0.8829    0.8877   2100456\n",
      "weighted avg     0.8968    0.8970    0.8968   2100456\n",
      "\n"
     ]
    }
   ],
   "source": [
    "xg_class = xgb.XGBClassifier(objective ='multi:softmax', colsample_bytree = 0.3, learning_rate = 0.1,\n",
    "                max_depth = 15, alpha = 10, n_estimators = 70, gamma=10)\n",
    "\n",
    "\n",
    "norm_y_out = cross_val_predict(xg_class, norm_x, norm_y, cv=10)\n",
    "\n",
    "lm=(classification_report(norm_y, norm_y_out, digits=4))\n",
    "print(lm)"
   ]
  },
  {
   "cell_type": "markdown",
   "metadata": {},
   "source": [
    "# SVC + Normalization"
   ]
  },
  {
   "cell_type": "code",
   "execution_count": 11,
   "metadata": {},
   "outputs": [
    {
     "name": "stdout",
     "output_type": "stream",
     "text": [
      "              precision    recall  f1-score   support\n",
      "\n",
      "         0.0     0.7238    0.9125    0.8073       560\n",
      "         1.0     1.0000    0.5143    0.6792        35\n",
      "         2.0     0.7455    0.2531    0.3779       162\n",
      "         3.0     0.6230    0.3585    0.4551       106\n",
      "         4.0     0.8562    1.0000    0.9226       137\n",
      "\n",
      "    accuracy                         0.7450      1000\n",
      "   macro avg     0.7897    0.6077    0.6484      1000\n",
      "weighted avg     0.7444    0.7450    0.7117      1000\n",
      "\n"
     ]
    }
   ],
   "source": [
    "# Create a SVC classifier using a linear kernel\n",
    "from sklearn.svm import SVC\n",
    "clf = SVC(kernel='linear', C=1, random_state=0)\n",
    "# Train the classifier\n",
    "clf.fit(x_train, y_train)\n",
    "\n",
    "#Predict the response for test dataset\n",
    "y_out = clf.predict(x_test)\n",
    "lm_svc=(classification_report(y_test, y_out, digits=4))\n",
    "print(lm_svc)\n"
   ]
  },
  {
   "cell_type": "code",
   "execution_count": null,
   "metadata": {},
   "outputs": [],
   "source": []
  },
  {
   "cell_type": "markdown",
   "metadata": {},
   "source": [
    "# SVM + Normalization + Cross Validation"
   ]
  },
  {
   "cell_type": "code",
   "execution_count": 14,
   "metadata": {},
   "outputs": [
    {
     "name": "stdout",
     "output_type": "stream",
     "text": [
      "              precision    recall  f1-score   support\n",
      "\n",
      "         0.0     0.8618    0.8911    0.8762       560\n",
      "         1.0     0.9412    0.4571    0.6154        35\n",
      "         2.0     0.8418    0.8210    0.8313       162\n",
      "         3.0     0.7615    0.7830    0.7721       106\n",
      "         4.0     0.9270    0.9270    0.9270       137\n",
      "\n",
      "    accuracy                         0.8580      1000\n",
      "   macro avg     0.8667    0.7758    0.8044      1000\n",
      "weighted avg     0.8596    0.8580    0.8557      1000\n",
      "\n"
     ]
    }
   ],
   "source": [
    "##https://scikit-learn.org/stable/modules/svm.html\n",
    "#https://www.datacamp.com/community/tutorials/svm-classification-scikit-learn-python\n",
    "#https://medium.com/all-things-ai/in-depth-parameter-tuning-for-svc-758215394769\n",
    "###https://scikit-learn.org/stable/modules/generated/sklearn.svm.LinearSVC.html\n",
    "#https://chrisalbon.com/machine_learning/support_vector_machines/svc_parameters_using_rbf_kernel/\n",
    "\n",
    "#svm = SVC(kernel='rbf', random_state=0, gamma=10, C=1)\n",
    "#1000 iterations take 25 minutes\n",
    "from sklearn import svm\n",
    "\n",
    "#Create a svm Classifier\n",
    "clf = svm.SVC(kernel='rbf', random_state=0, gamma=10, C=100,\n",
    "              shrinking=True, tol=1.000, cache_size=10) ##(kernel='linear') # Linear Kernel\n",
    "\n",
    "#Train the model using the training sets\n",
    "clf.fit(x_train, y_train)\n",
    "\n",
    "#Predict the response for test dataset\n",
    "y_out = clf.predict(x_test)\n",
    "lm_svc=(classification_report(y_test, y_out, digits=4))\n",
    "print(lm_svc)\n"
   ]
  },
  {
   "cell_type": "markdown",
   "metadata": {},
   "source": [
    "# SVM + Normalization + Cross Validation + Gamma = 20"
   ]
  },
  {
   "cell_type": "code",
   "execution_count": null,
   "metadata": {},
   "outputs": [],
   "source": [
    "from sklearn import svm\n",
    "\n",
    "#Create a svm Classifier\n",
    "clf = svm.SVC(kernel='rbf', random_state=0, gamma=20, C=100,\n",
    "              shrinking=True, tol=1.000, cache_size=10) ##(kernel='linear') # Linear Kernel\n",
    "\n",
    "#Train the model using the training sets\n",
    "clf.fit(norm_x_train, norm_y_train)\n",
    "\n",
    "#Predict the response for test dataset\n",
    "norm_y_out = clf.predict(norm_x_test)"
   ]
  },
  {
   "cell_type": "code",
   "execution_count": 17,
   "metadata": {},
   "outputs": [
    {
     "name": "stdout",
     "output_type": "stream",
     "text": [
      "              precision    recall  f1-score   support\n",
      "\n",
      "         0.0     0.9629    0.9518    0.9573      5831\n",
      "         1.0     0.9955    0.8610    0.9234       259\n",
      "         2.0     0.9034    0.9548    0.9284      1548\n",
      "         3.0     0.9207    0.9381    0.9293      1114\n",
      "         4.0     0.9726    0.9671    0.9699      1248\n",
      "\n",
      "    accuracy                         0.9503     10000\n",
      "   macro avg     0.9510    0.9346    0.9417     10000\n",
      "weighted avg     0.9510    0.9503    0.9504     10000\n",
      "\n"
     ]
    }
   ],
   "source": [
    "lm_svm=(classification_report(norm_y_test, norm_y_out, digits=4))\n",
    "print(lm_svm)\n"
   ]
  },
  {
   "cell_type": "code",
   "execution_count": null,
   "metadata": {},
   "outputs": [],
   "source": [
    "norm_y_out = cross_val_predict(clf, norm_x, norm_y, cv=10)\n",
    "\n",
    "lm=(classification_report(norm_y, norm_y_out, digits=4))\n",
    "print(lm)"
   ]
  },
  {
   "cell_type": "markdown",
   "metadata": {},
   "source": [
    "# PCA Implementation with 4 features + KNN + XGBOOST"
   ]
  },
  {
   "cell_type": "code",
   "execution_count": 10,
   "metadata": {},
   "outputs": [
    {
     "name": "stdout",
     "output_type": "stream",
     "text": [
      "original shape:    (2100456, 8)\n",
      "transformed shape: (2100456, 4)\n"
     ]
    }
   ],
   "source": [
    "#https://www.datacamp.com/community/tutorials/principal-component-analysis-in-python\n",
    "\n",
    "\n",
    "pca_dj = PCA(n_components=4)\n",
    "\n",
    "x_pca=pca_dj.fit_transform(x)\n",
    "#x_pca = pca_dj.transform(x_pca)\n",
    "print(\"original shape:   \", x.shape)\n",
    "print(\"transformed shape:\", x_pca.shape)"
   ]
  },
  {
   "cell_type": "code",
   "execution_count": 31,
   "metadata": {},
   "outputs": [
    {
     "data": {
      "text/plain": [
       "393691     1.0\n",
       "394476     1.0\n",
       "395154     1.0\n",
       "396635     1.0\n",
       "402178     1.0\n",
       "          ... \n",
       "4255293    0.0\n",
       "4255295    0.0\n",
       "4255296    0.0\n",
       "4255297    0.0\n",
       "4255299    0.0\n",
       "Name: w_label, Length: 2100456, dtype: float64"
      ]
     },
     "execution_count": 31,
     "metadata": {},
     "output_type": "execute_result"
    }
   ],
   "source": [
    "y"
   ]
  },
  {
   "cell_type": "code",
   "execution_count": 11,
   "metadata": {},
   "outputs": [
    {
     "name": "stdout",
     "output_type": "stream",
     "text": [
      "data frame combined 0.0 4.0\n",
      "(2100456, 5)\n"
     ]
    }
   ],
   "source": [
    "pca_df = pd.DataFrame(data=x_pca, columns=[\"PCA-1\", \"PCA-2\", \"PCA-3\",\"PCA-4\"]) \n",
    "pca_df['w_label'] = y.values\n",
    "print(\"data frame combined\",min(y),max(y))\n",
    "print(pca_df.shape)"
   ]
  },
  {
   "cell_type": "code",
   "execution_count": 12,
   "metadata": {},
   "outputs": [
    {
     "data": {
      "text/html": [
       "<div>\n",
       "<style scoped>\n",
       "    .dataframe tbody tr th:only-of-type {\n",
       "        vertical-align: middle;\n",
       "    }\n",
       "\n",
       "    .dataframe tbody tr th {\n",
       "        vertical-align: top;\n",
       "    }\n",
       "\n",
       "    .dataframe thead th {\n",
       "        text-align: right;\n",
       "    }\n",
       "</style>\n",
       "<table border=\"1\" class=\"dataframe\">\n",
       "  <thead>\n",
       "    <tr style=\"text-align: right;\">\n",
       "      <th></th>\n",
       "      <th>PCA-1</th>\n",
       "      <th>PCA-2</th>\n",
       "      <th>PCA-3</th>\n",
       "      <th>PCA-4</th>\n",
       "      <th>w_label</th>\n",
       "    </tr>\n",
       "  </thead>\n",
       "  <tbody>\n",
       "    <tr>\n",
       "      <td>0</td>\n",
       "      <td>-0.961341</td>\n",
       "      <td>3.163076</td>\n",
       "      <td>0.116294</td>\n",
       "      <td>-0.095738</td>\n",
       "      <td>1.0</td>\n",
       "    </tr>\n",
       "    <tr>\n",
       "      <td>1</td>\n",
       "      <td>1.919120</td>\n",
       "      <td>3.184356</td>\n",
       "      <td>0.111659</td>\n",
       "      <td>-0.087415</td>\n",
       "      <td>1.0</td>\n",
       "    </tr>\n",
       "    <tr>\n",
       "      <td>2</td>\n",
       "      <td>-1.669143</td>\n",
       "      <td>3.161003</td>\n",
       "      <td>0.108783</td>\n",
       "      <td>-0.094656</td>\n",
       "      <td>1.0</td>\n",
       "    </tr>\n",
       "    <tr>\n",
       "      <td>3</td>\n",
       "      <td>2.495887</td>\n",
       "      <td>3.197309</td>\n",
       "      <td>0.100392</td>\n",
       "      <td>-0.100255</td>\n",
       "      <td>1.0</td>\n",
       "    </tr>\n",
       "    <tr>\n",
       "      <td>4</td>\n",
       "      <td>2.110945</td>\n",
       "      <td>3.097433</td>\n",
       "      <td>0.061166</td>\n",
       "      <td>-0.114419</td>\n",
       "      <td>1.0</td>\n",
       "    </tr>\n",
       "  </tbody>\n",
       "</table>\n",
       "</div>"
      ],
      "text/plain": [
       "      PCA-1     PCA-2     PCA-3     PCA-4  w_label\n",
       "0 -0.961341  3.163076  0.116294 -0.095738      1.0\n",
       "1  1.919120  3.184356  0.111659 -0.087415      1.0\n",
       "2 -1.669143  3.161003  0.108783 -0.094656      1.0\n",
       "3  2.495887  3.197309  0.100392 -0.100255      1.0\n",
       "4  2.110945  3.097433  0.061166 -0.114419      1.0"
      ]
     },
     "execution_count": 12,
     "metadata": {},
     "output_type": "execute_result"
    }
   ],
   "source": [
    "(pca_df.head())\n",
    "#print(pca_df[\"w_label\"])"
   ]
  },
  {
   "cell_type": "code",
   "execution_count": 13,
   "metadata": {},
   "outputs": [],
   "source": [
    "pca_y = pca_df.w_label\n",
    "pca_x = pca_df.drop('w_label',axis=1)\n",
    "\n",
    "pca_x_train,pca_x_test, pca_y_train, pca_y_test = train_test_split(pca_x,pca_y,test_size=0.2)\n",
    "\n",
    "\n"
   ]
  },
  {
   "cell_type": "code",
   "execution_count": 84,
   "metadata": {},
   "outputs": [
    {
     "data": {
      "text/html": [
       "<div>\n",
       "<style scoped>\n",
       "    .dataframe tbody tr th:only-of-type {\n",
       "        vertical-align: middle;\n",
       "    }\n",
       "\n",
       "    .dataframe tbody tr th {\n",
       "        vertical-align: top;\n",
       "    }\n",
       "\n",
       "    .dataframe thead th {\n",
       "        text-align: right;\n",
       "    }\n",
       "</style>\n",
       "<table border=\"1\" class=\"dataframe\">\n",
       "  <thead>\n",
       "    <tr style=\"text-align: right;\">\n",
       "      <th></th>\n",
       "      <th>PCA-1</th>\n",
       "      <th>PCA-2</th>\n",
       "      <th>PCA-3</th>\n",
       "      <th>PCA-4</th>\n",
       "    </tr>\n",
       "  </thead>\n",
       "  <tbody>\n",
       "    <tr>\n",
       "      <td>1262329</td>\n",
       "      <td>-2.019149</td>\n",
       "      <td>0.005341</td>\n",
       "      <td>0.266795</td>\n",
       "      <td>-0.438592</td>\n",
       "    </tr>\n",
       "    <tr>\n",
       "      <td>2389</td>\n",
       "      <td>0.574554</td>\n",
       "      <td>1.608617</td>\n",
       "      <td>0.926957</td>\n",
       "      <td>-0.125808</td>\n",
       "    </tr>\n",
       "    <tr>\n",
       "      <td>295875</td>\n",
       "      <td>-0.048501</td>\n",
       "      <td>0.627552</td>\n",
       "      <td>0.286721</td>\n",
       "      <td>0.122184</td>\n",
       "    </tr>\n",
       "    <tr>\n",
       "      <td>1551883</td>\n",
       "      <td>-0.413623</td>\n",
       "      <td>-0.105999</td>\n",
       "      <td>0.270865</td>\n",
       "      <td>0.542847</td>\n",
       "    </tr>\n",
       "    <tr>\n",
       "      <td>1601519</td>\n",
       "      <td>-1.255579</td>\n",
       "      <td>-0.331501</td>\n",
       "      <td>0.222320</td>\n",
       "      <td>0.043145</td>\n",
       "    </tr>\n",
       "    <tr>\n",
       "      <td>...</td>\n",
       "      <td>...</td>\n",
       "      <td>...</td>\n",
       "      <td>...</td>\n",
       "      <td>...</td>\n",
       "    </tr>\n",
       "    <tr>\n",
       "      <td>123854</td>\n",
       "      <td>1.037733</td>\n",
       "      <td>0.400740</td>\n",
       "      <td>0.008375</td>\n",
       "      <td>-0.049473</td>\n",
       "    </tr>\n",
       "    <tr>\n",
       "      <td>1435469</td>\n",
       "      <td>-0.617751</td>\n",
       "      <td>-0.018001</td>\n",
       "      <td>0.436948</td>\n",
       "      <td>-0.462610</td>\n",
       "    </tr>\n",
       "    <tr>\n",
       "      <td>854324</td>\n",
       "      <td>3.512133</td>\n",
       "      <td>1.455872</td>\n",
       "      <td>-0.559020</td>\n",
       "      <td>0.066718</td>\n",
       "    </tr>\n",
       "    <tr>\n",
       "      <td>1967503</td>\n",
       "      <td>2.644096</td>\n",
       "      <td>-0.530791</td>\n",
       "      <td>0.037740</td>\n",
       "      <td>0.336136</td>\n",
       "    </tr>\n",
       "    <tr>\n",
       "      <td>238712</td>\n",
       "      <td>-1.939207</td>\n",
       "      <td>-0.242439</td>\n",
       "      <td>-0.137869</td>\n",
       "      <td>-0.173572</td>\n",
       "    </tr>\n",
       "  </tbody>\n",
       "</table>\n",
       "<p>1680364 rows × 4 columns</p>\n",
       "</div>"
      ],
      "text/plain": [
       "            PCA-1     PCA-2     PCA-3     PCA-4\n",
       "1262329 -2.019149  0.005341  0.266795 -0.438592\n",
       "2389     0.574554  1.608617  0.926957 -0.125808\n",
       "295875  -0.048501  0.627552  0.286721  0.122184\n",
       "1551883 -0.413623 -0.105999  0.270865  0.542847\n",
       "1601519 -1.255579 -0.331501  0.222320  0.043145\n",
       "...           ...       ...       ...       ...\n",
       "123854   1.037733  0.400740  0.008375 -0.049473\n",
       "1435469 -0.617751 -0.018001  0.436948 -0.462610\n",
       "854324   3.512133  1.455872 -0.559020  0.066718\n",
       "1967503  2.644096 -0.530791  0.037740  0.336136\n",
       "238712  -1.939207 -0.242439 -0.137869 -0.173572\n",
       "\n",
       "[1680364 rows x 4 columns]"
      ]
     },
     "execution_count": 84,
     "metadata": {},
     "output_type": "execute_result"
    }
   ],
   "source": [
    "pca_x_train"
   ]
  },
  {
   "cell_type": "code",
   "execution_count": 85,
   "metadata": {},
   "outputs": [
    {
     "data": {
      "text/plain": [
       "1262329    4.0\n",
       "2389       1.0\n",
       "295875     0.0\n",
       "1551883    0.0\n",
       "1601519    0.0\n",
       "          ... \n",
       "123854     0.0\n",
       "1435469    4.0\n",
       "854324     0.0\n",
       "1967503    0.0\n",
       "238712     0.0\n",
       "Name: w_label, Length: 1680364, dtype: float64"
      ]
     },
     "execution_count": 85,
     "metadata": {},
     "output_type": "execute_result"
    }
   ],
   "source": [
    "pca_y_train"
   ]
  },
  {
   "cell_type": "code",
   "execution_count": 86,
   "metadata": {},
   "outputs": [
    {
     "data": {
      "text/html": [
       "<div>\n",
       "<style scoped>\n",
       "    .dataframe tbody tr th:only-of-type {\n",
       "        vertical-align: middle;\n",
       "    }\n",
       "\n",
       "    .dataframe tbody tr th {\n",
       "        vertical-align: top;\n",
       "    }\n",
       "\n",
       "    .dataframe thead th {\n",
       "        text-align: right;\n",
       "    }\n",
       "</style>\n",
       "<table border=\"1\" class=\"dataframe\">\n",
       "  <thead>\n",
       "    <tr style=\"text-align: right;\">\n",
       "      <th></th>\n",
       "      <th>PCA-1</th>\n",
       "      <th>PCA-2</th>\n",
       "      <th>PCA-3</th>\n",
       "      <th>PCA-4</th>\n",
       "    </tr>\n",
       "  </thead>\n",
       "  <tbody>\n",
       "    <tr>\n",
       "      <td>1050998</td>\n",
       "      <td>-2.724838</td>\n",
       "      <td>0.695740</td>\n",
       "      <td>0.095951</td>\n",
       "      <td>0.471895</td>\n",
       "    </tr>\n",
       "    <tr>\n",
       "      <td>1363013</td>\n",
       "      <td>-1.518400</td>\n",
       "      <td>0.004579</td>\n",
       "      <td>0.409074</td>\n",
       "      <td>-0.453786</td>\n",
       "    </tr>\n",
       "    <tr>\n",
       "      <td>493717</td>\n",
       "      <td>2.584916</td>\n",
       "      <td>0.413089</td>\n",
       "      <td>0.095223</td>\n",
       "      <td>0.132213</td>\n",
       "    </tr>\n",
       "    <tr>\n",
       "      <td>1534633</td>\n",
       "      <td>0.913609</td>\n",
       "      <td>-0.097077</td>\n",
       "      <td>0.177897</td>\n",
       "      <td>0.519728</td>\n",
       "    </tr>\n",
       "    <tr>\n",
       "      <td>903654</td>\n",
       "      <td>-2.007384</td>\n",
       "      <td>1.006692</td>\n",
       "      <td>-0.176287</td>\n",
       "      <td>0.051529</td>\n",
       "    </tr>\n",
       "    <tr>\n",
       "      <td>...</td>\n",
       "      <td>...</td>\n",
       "      <td>...</td>\n",
       "      <td>...</td>\n",
       "      <td>...</td>\n",
       "    </tr>\n",
       "    <tr>\n",
       "      <td>1238978</td>\n",
       "      <td>0.882498</td>\n",
       "      <td>0.077482</td>\n",
       "      <td>0.305723</td>\n",
       "      <td>-0.438590</td>\n",
       "    </tr>\n",
       "    <tr>\n",
       "      <td>1107534</td>\n",
       "      <td>-4.968236</td>\n",
       "      <td>-0.656148</td>\n",
       "      <td>-0.199872</td>\n",
       "      <td>0.065220</td>\n",
       "    </tr>\n",
       "    <tr>\n",
       "      <td>1839401</td>\n",
       "      <td>-1.822299</td>\n",
       "      <td>-1.382939</td>\n",
       "      <td>-0.272415</td>\n",
       "      <td>-0.049344</td>\n",
       "    </tr>\n",
       "    <tr>\n",
       "      <td>855970</td>\n",
       "      <td>2.415365</td>\n",
       "      <td>1.421094</td>\n",
       "      <td>-0.573147</td>\n",
       "      <td>0.041575</td>\n",
       "    </tr>\n",
       "    <tr>\n",
       "      <td>630489</td>\n",
       "      <td>3.815471</td>\n",
       "      <td>0.192558</td>\n",
       "      <td>-0.250147</td>\n",
       "      <td>0.108547</td>\n",
       "    </tr>\n",
       "  </tbody>\n",
       "</table>\n",
       "<p>420092 rows × 4 columns</p>\n",
       "</div>"
      ],
      "text/plain": [
       "            PCA-1     PCA-2     PCA-3     PCA-4\n",
       "1050998 -2.724838  0.695740  0.095951  0.471895\n",
       "1363013 -1.518400  0.004579  0.409074 -0.453786\n",
       "493717   2.584916  0.413089  0.095223  0.132213\n",
       "1534633  0.913609 -0.097077  0.177897  0.519728\n",
       "903654  -2.007384  1.006692 -0.176287  0.051529\n",
       "...           ...       ...       ...       ...\n",
       "1238978  0.882498  0.077482  0.305723 -0.438590\n",
       "1107534 -4.968236 -0.656148 -0.199872  0.065220\n",
       "1839401 -1.822299 -1.382939 -0.272415 -0.049344\n",
       "855970   2.415365  1.421094 -0.573147  0.041575\n",
       "630489   3.815471  0.192558 -0.250147  0.108547\n",
       "\n",
       "[420092 rows x 4 columns]"
      ]
     },
     "execution_count": 86,
     "metadata": {},
     "output_type": "execute_result"
    }
   ],
   "source": [
    "pca_x_test"
   ]
  },
  {
   "cell_type": "code",
   "execution_count": 87,
   "metadata": {},
   "outputs": [
    {
     "data": {
      "text/plain": [
       "1050998    0.0\n",
       "1363013    4.0\n",
       "493717     0.0\n",
       "1534633    0.0\n",
       "903654     0.0\n",
       "          ... \n",
       "1238978    4.0\n",
       "1107534    0.0\n",
       "1839401    3.0\n",
       "855970     0.0\n",
       "630489     2.0\n",
       "Name: w_label, Length: 420092, dtype: float64"
      ]
     },
     "execution_count": 87,
     "metadata": {},
     "output_type": "execute_result"
    }
   ],
   "source": [
    "pca_y_test"
   ]
  },
  {
   "cell_type": "markdown",
   "metadata": {},
   "source": [
    "# PCA with 4 features + Simple Decision Tree"
   ]
  },
  {
   "cell_type": "code",
   "execution_count": 88,
   "metadata": {},
   "outputs": [
    {
     "name": "stdout",
     "output_type": "stream",
     "text": [
      "              precision    recall  f1-score   support\n",
      "\n",
      "         0.0     0.9432    0.8452    0.8915    246335\n",
      "         1.0     0.9817    0.8705    0.9228     10691\n",
      "         2.0     0.7404    0.9183    0.8198     63330\n",
      "         3.0     0.7253    0.8894    0.7990     47911\n",
      "         4.0     0.9678    0.9816    0.9747     51825\n",
      "\n",
      "    accuracy                         0.8787    420092\n",
      "   macro avg     0.8717    0.9010    0.8816    420092\n",
      "weighted avg     0.8918    0.8787    0.8812    420092\n",
      "\n"
     ]
    }
   ],
   "source": [
    "# Create Decision Tree classifer object\n",
    "clf = DecisionTreeClassifier(criterion=\"entropy\", max_depth=5)\n",
    "\n",
    "# Train Decision Tree Classifer\n",
    "clf = clf.fit(pca_x_train, pca_y_train)\n",
    "\n",
    "#Predict the response for test dataset\n",
    "pca_y_out = clf.predict(pca_x_test)\n",
    "\n",
    "# Model Accuracy, how often is the classifier correct?\n",
    "#print(\"Accuracy:\",metrics.accuracy_score(y_test, y_out))\n",
    "lmIV=(classification_report(pca_y_test, pca_y_out, digits=4))\n",
    "print(lmIV)\n"
   ]
  },
  {
   "cell_type": "markdown",
   "metadata": {},
   "source": [
    "# PCA with 4 features + KNN"
   ]
  },
  {
   "cell_type": "code",
   "execution_count": 91,
   "metadata": {},
   "outputs": [
    {
     "name": "stdout",
     "output_type": "stream",
     "text": [
      "              precision    recall  f1-score   support\n",
      "\n",
      "         0.0     0.6840    0.6786    0.6813   1230433\n",
      "         1.0     0.1030    0.1217    0.1116     53659\n",
      "         2.0     0.4602    0.4349    0.4472    316935\n",
      "         3.0     0.3450    0.3406    0.3428    239191\n",
      "         4.0     0.8164    0.8802    0.8471    260238\n",
      "\n",
      "    accuracy                         0.6141   2100456\n",
      "   macro avg     0.4817    0.4912    0.4860   2100456\n",
      "weighted avg     0.6132    0.6141    0.6134   2100456\n",
      "\n"
     ]
    }
   ],
   "source": [
    "knn = KNeighborsClassifier(n_neighbors=5)\n",
    "pca_y_out = cross_val_predict(knn, pca_x, pca_y, cv=20)\n",
    "lm=(classification_report(pca_y, pca_y_out, digits=4))\n",
    "#https://www.ritchieng.com/machine-learning-cross-validation/\n",
    "lm=(classification_report(pca_y, pca_y_out, digits=4))\n",
    "print(lm)\n"
   ]
  },
  {
   "cell_type": "markdown",
   "metadata": {},
   "source": [
    "# PCA with 4 features + XGBOOST"
   ]
  },
  {
   "cell_type": "code",
   "execution_count": 13,
   "metadata": {},
   "outputs": [
    {
     "name": "stdout",
     "output_type": "stream",
     "text": [
      "              precision    recall  f1-score   support\n",
      "\n",
      "         0.0     0.8925    0.9542    0.9223    245994\n",
      "         1.0     0.9711    0.5350    0.6900     10685\n",
      "         2.0     0.9145    0.8207    0.8650     63498\n",
      "         3.0     0.9142    0.7636    0.8322     47984\n",
      "         4.0     0.9461    0.9862    0.9657     51931\n",
      "\n",
      "    accuracy                         0.9055    420092\n",
      "   macro avg     0.9277    0.8119    0.8550    420092\n",
      "weighted avg     0.9069    0.9055    0.9028    420092\n",
      "\n"
     ]
    }
   ],
   "source": [
    "xg_class = xgb.XGBClassifier(objective ='multi:softmax', colsample_bytree = 0.3, learning_rate = 0.1,\n",
    "                max_depth = 10, alpha = 10, n_estimators = 50, gamma=10)\n",
    "\n",
    "xg_class.fit(pca_x_train,pca_y_train)\n",
    "\n",
    "pca_y_out = xg_class.predict(pca_x_test)\n",
    "\n",
    "lm_xgbIV=(classification_report(pca_y_test, pca_y_out, digits=4))\n",
    "\n",
    "print(lm_xgbIV)"
   ]
  },
  {
   "cell_type": "code",
   "execution_count": null,
   "metadata": {
    "collapsed": true
   },
   "outputs": [],
   "source": []
  },
  {
   "cell_type": "markdown",
   "metadata": {},
   "source": [
    "# PCA with 1 feature"
   ]
  },
  {
   "cell_type": "code",
   "execution_count": 22,
   "metadata": {},
   "outputs": [
    {
     "name": "stdout",
     "output_type": "stream",
     "text": [
      "      PCA-1  w_label\n",
      "0 -0.961341      1.0\n",
      "1  1.919120      1.0\n",
      "2 -1.669143      1.0\n",
      "3  2.495887      1.0\n",
      "4  2.110945      1.0\n"
     ]
    },
    {
     "data": {
      "text/html": [
       "<div>\n",
       "<style scoped>\n",
       "    .dataframe tbody tr th:only-of-type {\n",
       "        vertical-align: middle;\n",
       "    }\n",
       "\n",
       "    .dataframe tbody tr th {\n",
       "        vertical-align: top;\n",
       "    }\n",
       "\n",
       "    .dataframe thead th {\n",
       "        text-align: right;\n",
       "    }\n",
       "</style>\n",
       "<table border=\"1\" class=\"dataframe\">\n",
       "  <thead>\n",
       "    <tr style=\"text-align: right;\">\n",
       "      <th></th>\n",
       "      <th>PCA-1</th>\n",
       "    </tr>\n",
       "  </thead>\n",
       "  <tbody>\n",
       "    <tr>\n",
       "      <td>709563</td>\n",
       "      <td>-0.213779</td>\n",
       "    </tr>\n",
       "    <tr>\n",
       "      <td>323992</td>\n",
       "      <td>-2.464909</td>\n",
       "    </tr>\n",
       "    <tr>\n",
       "      <td>354980</td>\n",
       "      <td>-2.638467</td>\n",
       "    </tr>\n",
       "    <tr>\n",
       "      <td>1073935</td>\n",
       "      <td>-4.293489</td>\n",
       "    </tr>\n",
       "    <tr>\n",
       "      <td>964228</td>\n",
       "      <td>-2.053644</td>\n",
       "    </tr>\n",
       "    <tr>\n",
       "      <td>...</td>\n",
       "      <td>...</td>\n",
       "    </tr>\n",
       "    <tr>\n",
       "      <td>1237298</td>\n",
       "      <td>2.114954</td>\n",
       "    </tr>\n",
       "    <tr>\n",
       "      <td>102095</td>\n",
       "      <td>-2.129826</td>\n",
       "    </tr>\n",
       "    <tr>\n",
       "      <td>1602966</td>\n",
       "      <td>-0.681581</td>\n",
       "    </tr>\n",
       "    <tr>\n",
       "      <td>774628</td>\n",
       "      <td>-1.376128</td>\n",
       "    </tr>\n",
       "    <tr>\n",
       "      <td>2065466</td>\n",
       "      <td>4.830052</td>\n",
       "    </tr>\n",
       "  </tbody>\n",
       "</table>\n",
       "<p>1680364 rows × 1 columns</p>\n",
       "</div>"
      ],
      "text/plain": [
       "            PCA-1\n",
       "709563  -0.213779\n",
       "323992  -2.464909\n",
       "354980  -2.638467\n",
       "1073935 -4.293489\n",
       "964228  -2.053644\n",
       "...           ...\n",
       "1237298  2.114954\n",
       "102095  -2.129826\n",
       "1602966 -0.681581\n",
       "774628  -1.376128\n",
       "2065466  4.830052\n",
       "\n",
       "[1680364 rows x 1 columns]"
      ]
     },
     "execution_count": 22,
     "metadata": {},
     "output_type": "execute_result"
    }
   ],
   "source": [
    "pca_df_1 = pca_df_2.drop('PCA-2',axis=1)\n",
    "print(pca_df_1.head())\n",
    "\n",
    "pca_y = pca_df_1.w_label\n",
    "pca_x = pca_df_1.drop('w_label',axis=1)\n",
    "\n",
    "pca_x_trainI,pca_x_testI, pca_y_trainI, pca_y_testI = train_test_split(pca_x,pca_y,test_size=0.2)\n",
    "pca_x_trainI"
   ]
  },
  {
   "cell_type": "markdown",
   "metadata": {},
   "source": [
    "# PCA with 1 feature + XGBOOST"
   ]
  },
  {
   "cell_type": "code",
   "execution_count": 23,
   "metadata": {},
   "outputs": [
    {
     "name": "stderr",
     "output_type": "stream",
     "text": [
      "/usr/local/lib/python3.6/dist-packages/sklearn/metrics/classification.py:1437: UndefinedMetricWarning: Precision and F-score are ill-defined and being set to 0.0 in labels with no predicted samples.\n",
      "  'precision', 'predicted', average, warn_for)\n"
     ]
    },
    {
     "name": "stdout",
     "output_type": "stream",
     "text": [
      "              precision    recall  f1-score   support\n",
      "\n",
      "         0.0     0.5853    1.0000    0.7384    245885\n",
      "         1.0     0.0000    0.0000    0.0000     10850\n",
      "         2.0     0.0000    0.0000    0.0000     63549\n",
      "         3.0     0.0000    0.0000    0.0000     47540\n",
      "         4.0     0.0000    0.0000    0.0000     52268\n",
      "\n",
      "    accuracy                         0.5853    420092\n",
      "   macro avg     0.1171    0.2000    0.1477    420092\n",
      "weighted avg     0.3426    0.5853    0.4322    420092\n",
      "\n"
     ]
    }
   ],
   "source": [
    "xg_class = xgb.XGBClassifier(objective ='multi:softmax', colsample_bytree = 0.3, learning_rate = 0.1,\n",
    "                max_depth = 10, alpha = 10, n_estimators = 50, gamma=10)\n",
    "\n",
    "xg_class.fit(pca_x_trainI,pca_y_trainI)\n",
    "\n",
    "pca_y_outI = xg_class.predict(pca_x_testI)\n",
    "\n",
    "lm_xgbI=(classification_report(pca_y_testI, pca_y_outI, digits=4))\n",
    "\n",
    "print(lm_xgbI)\n",
    "\n"
   ]
  },
  {
   "cell_type": "markdown",
   "metadata": {},
   "source": [
    "# PCA with 2 features "
   ]
  },
  {
   "cell_type": "code",
   "execution_count": 17,
   "metadata": {},
   "outputs": [
    {
     "name": "stdout",
     "output_type": "stream",
     "text": [
      "      PCA-1     PCA-2  w_label\n",
      "0 -0.961341  3.163076      1.0\n",
      "1  1.919120  3.184356      1.0\n",
      "2 -1.669143  3.161003      1.0\n",
      "3  2.495887  3.197309      1.0\n",
      "4  2.110945  3.097433      1.0\n"
     ]
    }
   ],
   "source": [
    "pca_df_2 = pca_df_3.drop('PCA-3',axis=1)\n",
    "print(pca_df_2.head())\n",
    "pca_y = pca_df_2.w_label\n",
    "pca_x = pca_df_2.drop('w_label',axis=1)\n",
    "\n",
    "pca_x_trainII,pca_x_testII, pca_y_trainII, pca_y_testII = train_test_split(pca_x,pca_y,test_size=0.2)\n",
    "\n"
   ]
  },
  {
   "cell_type": "code",
   "execution_count": 20,
   "metadata": {},
   "outputs": [
    {
     "name": "stdout",
     "output_type": "stream",
     "text": [
      "              precision    recall  f1-score   support\n",
      "\n",
      "         0.0     0.7159    0.8894    0.7932    246298\n",
      "         1.0     0.9767    0.1610    0.2765     10682\n",
      "         2.0     0.6647    0.3608    0.4677     63297\n",
      "         3.0     0.6224    0.1984    0.3009     47801\n",
      "         4.0     0.8020    0.9675    0.8770     52014\n",
      "\n",
      "    accuracy                         0.7223    420092\n",
      "   macro avg     0.7563    0.5154    0.5431    420092\n",
      "weighted avg     0.7148    0.7223    0.6854    420092\n",
      "\n"
     ]
    }
   ],
   "source": [
    "# Create Decision Tree classifer object\n",
    "clf = DecisionTreeClassifier(criterion=\"entropy\", max_depth=5)\n",
    "\n",
    "# Train Decision Tree Classifer\n",
    "clf = clf.fit(pca_x_trainII, pca_y_trainII)\n",
    "\n",
    "#Predict the response for test dataset\n",
    "pca_y_outII = clf.predict(pca_x_testII)\n",
    "\n",
    "# Model Accuracy, how often is the classifier correct?\n",
    "#print(\"Accuracy:\",metrics.accuracy_score(y_test, y_out))\n",
    "lm=(classification_report(pca_y_testII, pca_y_outII, digits=4))\n",
    "print(lm)"
   ]
  },
  {
   "cell_type": "markdown",
   "metadata": {},
   "source": [
    "# PCA with 2 features + XGBOOST"
   ]
  },
  {
   "cell_type": "code",
   "execution_count": 21,
   "metadata": {},
   "outputs": [
    {
     "name": "stdout",
     "output_type": "stream",
     "text": [
      "              precision    recall  f1-score   support\n",
      "\n",
      "         0.0     0.7608    0.8575    0.8063    246298\n",
      "         1.0     0.9812    0.1610    0.2766     10682\n",
      "         2.0     0.6518    0.5466    0.5946     63297\n",
      "         3.0     0.6716    0.4101    0.5093     47801\n",
      "         4.0     0.8285    0.9307    0.8766     52014\n",
      "\n",
      "    accuracy                         0.7511    420092\n",
      "   macro avg     0.7788    0.5812    0.6127    420092\n",
      "weighted avg     0.7482    0.7511    0.7358    420092\n",
      "\n"
     ]
    }
   ],
   "source": [
    "xg_class = xgb.XGBClassifier(objective ='multi:softmax', colsample_bytree = 0.3, learning_rate = 0.1,\n",
    "                max_depth = 10, alpha = 10, n_estimators = 50, gamma=10)\n",
    "\n",
    "xg_class.fit(pca_x_trainII,pca_y_trainII)\n",
    "\n",
    "pca_y_outII = xg_class.predict(pca_x_testII)\n",
    "\n",
    "lm_xgbII=(classification_report(pca_y_testII, pca_y_outII, digits=4))\n",
    "\n",
    "print(lm_xgbII)\n"
   ]
  },
  {
   "cell_type": "code",
   "execution_count": null,
   "metadata": {},
   "outputs": [],
   "source": []
  },
  {
   "cell_type": "markdown",
   "metadata": {},
   "source": [
    "# PCA with 3 features"
   ]
  },
  {
   "cell_type": "code",
   "execution_count": 15,
   "metadata": {},
   "outputs": [
    {
     "name": "stdout",
     "output_type": "stream",
     "text": [
      "      PCA-1     PCA-2     PCA-3  w_label\n",
      "0 -0.961341  3.163076  0.116294      1.0\n",
      "1  1.919120  3.184356  0.111659      1.0\n",
      "2 -1.669143  3.161003  0.108783      1.0\n",
      "3  2.495887  3.197309  0.100392      1.0\n",
      "4  2.110945  3.097433  0.061166      1.0\n"
     ]
    }
   ],
   "source": [
    "pca_df_3 = pca_df.drop('PCA-4',axis=1)\n",
    "'''\n",
    "\n",
    "pca_dj = PCA(n_components=3)\n",
    "\n",
    "x_pca=pca_dj.fit_transform(x)\n",
    "#x_pca = pca_dj.transform(x_pca)\n",
    "print(\"original shape:   \", x.shape)\n",
    "print(\"transformed shape:\", x_pca.shape)\n",
    "\n",
    "pca_df = pd.DataFrame(data=x_pca, columns=[\"PCA-1\", \"PCA-2\", \"PCA-3\"]) \n",
    "pca_df['w_label'] = y.values\n",
    "print(\"data frame combined\",min(y),max(y))\n",
    "print(pca_df.shape)\n",
    "'''\n",
    "print(pca_df_3.head())\n",
    "pca_y = pca_df_3.w_label\n",
    "pca_x = pca_df_3.drop('w_label',axis=1)\n",
    "\n",
    "pca_x_trainIII,pca_x_testIII, pca_y_trainIII, pca_y_testIII = train_test_split(pca_x,pca_y,test_size=0.2)\n"
   ]
  },
  {
   "cell_type": "markdown",
   "metadata": {},
   "source": [
    "# PCA with 3 features + XGBOOST"
   ]
  },
  {
   "cell_type": "code",
   "execution_count": 16,
   "metadata": {},
   "outputs": [
    {
     "name": "stdout",
     "output_type": "stream",
     "text": [
      "              precision    recall  f1-score   support\n",
      "\n",
      "         0.0     0.8375    0.9307    0.8816    245992\n",
      "         1.0     0.9878    0.2058    0.3407     10639\n",
      "         2.0     0.8530    0.7927    0.8218     63539\n",
      "         3.0     0.8195    0.5658    0.6695     48242\n",
      "         4.0     0.9267    0.9351    0.9309     51680\n",
      "\n",
      "    accuracy                         0.8501    420092\n",
      "   macro avg     0.8849    0.6860    0.7289    420092\n",
      "weighted avg     0.8525    0.8501    0.8406    420092\n",
      "\n"
     ]
    }
   ],
   "source": [
    "xg_class = xgb.XGBClassifier(objective ='multi:softmax', colsample_bytree = 0.3, learning_rate = 0.1,\n",
    "                max_depth = 10, alpha = 10, n_estimators = 50, gamma=10)\n",
    "\n",
    "xg_class.fit(pca_x_trainIII,pca_y_trainIII)\n",
    "\n",
    "pca_y_outIII = xg_class.predict(pca_x_testIII)\n",
    "\n",
    "lm_xgbIII=(classification_report(pca_y_testIII, pca_y_outIII, digits=4))\n",
    "\n",
    "print(lm_xgbIII)"
   ]
  },
  {
   "cell_type": "code",
   "execution_count": null,
   "metadata": {},
   "outputs": [],
   "source": [
    "TESTING BEST MODEL ON 7 SUBJECTS "
   ]
  },
  {
   "cell_type": "code",
   "execution_count": 2,
   "metadata": {},
   "outputs": [
    {
     "name": "stdout",
     "output_type": "stream",
     "text": [
      "Equated_3\n",
      "data frame combined\n"
     ]
    }
   ],
   "source": [
    "data_set = '/home/dhananjai/Downloads/Spring_2020/Machine_Learning/ML_Project/dataset/WESAD/'\n",
    "\n",
    "s3_path = data_set + 'S3/S3.pkl'\n",
    "\n",
    "with open(s3_path, 'rb') as file:\n",
    "    s2_data = pickle.load(file, encoding='latin1')\n",
    "    \n",
    "c_ax=s2_data['signal']['chest']['ACC'][0:,0]#[baseline_to_plot]\n",
    "c_ay=s2_data['signal']['chest']['ACC'][0:,1]#[baseline_to_plot]#[0:100] # hundred values\n",
    "c_az=s2_data['signal']['chest']['ACC'][0:,2]#[baseline_to_plot]\n",
    "c_ecg=s2_data['signal']['chest']['ECG'][:,0]#[baseline_to_plot]\n",
    "c_emg=s2_data['signal']['chest']['EMG'][:,0]#[baseline_to_plot]\n",
    "c_eda=s2_data['signal']['chest']['EDA'][:,0]#[baseline_to_plot]\n",
    "c_temp=s2_data['signal']['chest']['Temp'][:,0]#[baseline_to_plot]\n",
    "c_resp=s2_data['signal']['chest']['Resp'][:,0]#[baseline_to_plot]\n",
    "w_ax=s2_data['signal']['wrist']['ACC'][0:,0]#[stress_to_plot]\n",
    "w_ay=s2_data['signal']['wrist']['ACC'][0:,1]#[stress_to_plot]\n",
    "w_az=s2_data['signal']['wrist']['ACC'][0:,2]#[stress_to_plot]\n",
    "w_bvp=s2_data['signal']['wrist']['BVP'][:,0]#[stress_to_plot]\n",
    "w_eda=s2_data['signal']['wrist']['EDA'][:,0]#[stress_to_plot]\n",
    "w_temp=s2_data['signal']['wrist']['TEMP'][:,0]#[stress_to_plot]\n",
    "w_label=s2_data['label']\n",
    "\n",
    "print(\"Equated_3\")    \n",
    "\n",
    "numpy_data1=np.array([c_ax, c_ay, c_az,c_ecg,c_emg,c_eda,c_temp,c_resp,w_label])\n",
    "numpy_data1=numpy_data1.T\n",
    "\n",
    "#df = pd.DataFrame(data=numpy_data1, columns=[\"c_ax\", \"c_ay\", \"c_az\",\"c_ecg\",\"c_emg\",\"c_eda\",\"c_temp\",\"c_resp\",\"w_ax\",\"w_ay\",\"w_az\",\"w_bvp\",\"w_eda\",\"w_temp\"],orient='index') \n",
    "df = pd.DataFrame(data=numpy_data1, columns=[\"c_ax\", \"c_ay\", \"c_az\",\"c_ecg\",\"c_emg\",\"c_eda\",\"c_temp\",\"c_resp\",\"w_label\"]) \n",
    "\n",
    "print(\"data frame combined\")\n"
   ]
  },
  {
   "cell_type": "code",
   "execution_count": 3,
   "metadata": {},
   "outputs": [
    {
     "name": "stdout",
     "output_type": "stream",
     "text": [
      "IQR is\n",
      " c_ax       0.064200\n",
      "c_ay       0.070400\n",
      "c_az       0.525600\n",
      "c_ecg      0.169006\n",
      "c_emg      0.020599\n",
      "c_eda      0.687408\n",
      "c_temp     1.275391\n",
      "c_resp     4.287720\n",
      "w_label    2.000000\n",
      "dtype: float64\n",
      "(2953541, 9)\n"
     ]
    }
   ],
   "source": [
    "Q1 = df.quantile(0.25)\n",
    "Q3 = df.quantile(0.75)\n",
    "IQR = Q3 - Q1\n",
    "print(\"IQR is\\n\", IQR)\n",
    "#print((df < (Q1 - 1.5 * IQR)) |(df > (Q3 + 1.5 * IQR)) )\n",
    "df_out = df[~((df < (Q1 - 1.5 * IQR)) |(df > (Q3 + 1.5 * IQR))).any(axis=1)]\n",
    "print(df_out.shape)"
   ]
  },
  {
   "cell_type": "code",
   "execution_count": 4,
   "metadata": {},
   "outputs": [],
   "source": [
    "norm_df_out=(df_out-df_out.mean())/df_out.std()\n",
    "\n",
    "norm_y_3 = df_out.w_label #keep original labels Dont normalize labels\n",
    "norm_x_3 = norm_df_out.drop('w_label',axis=1)\n",
    "\n",
    "\n",
    "norm_x_train_3,norm_x_test_3,norm_y_train_3,norm_y_test_3=train_test_split(norm_x_3,norm_y_3,test_size=0.2)"
   ]
  },
  {
   "cell_type": "code",
   "execution_count": 5,
   "metadata": {},
   "outputs": [
    {
     "name": "stdout",
     "output_type": "stream",
     "text": [
      "              precision    recall  f1-score   support\n",
      "\n",
      "         0.0     0.9281    0.9300    0.9291   1308546\n",
      "         1.0     0.9940    0.9791    0.9865    652120\n",
      "         2.0     0.7690    0.7681    0.7686    229036\n",
      "         3.0     0.9238    0.8672    0.8946    236685\n",
      "         4.0     0.9519    0.9879    0.9696    482406\n",
      "         5.0     0.9062    0.9778    0.9406     44748\n",
      "\n",
      "    accuracy                         0.9335   2953541\n",
      "   macro avg     0.9122    0.9184    0.9148   2953541\n",
      "weighted avg     0.9335    0.9335    0.9333   2953541\n",
      "\n"
     ]
    }
   ],
   "source": [
    "qda_clf = QuadraticDiscriminantAnalysis(priors=None, reg_param=0)\n",
    "norm_y_out_3 = cross_val_predict(qda_clf, norm_x_3, norm_y_3, cv=10)\n",
    "lm_3=(classification_report(norm_y_3, norm_y_out_3, digits=4))\n",
    "print(lm_3)\n"
   ]
  },
  {
   "cell_type": "code",
   "execution_count": 6,
   "metadata": {},
   "outputs": [
    {
     "name": "stdout",
     "output_type": "stream",
     "text": [
      "Equated\n",
      "data frame combined\n"
     ]
    }
   ],
   "source": [
    "data_set = '/home/dhananjai/Downloads/Spring_2020/Machine_Learning/ML_Project/dataset/WESAD/'\n",
    "\n",
    "s4_path = data_set + 'S4/S4.pkl'\n",
    "\n",
    "with open(s4_path, 'rb') as file:\n",
    "    s2_data = pickle.load(file, encoding='latin1')\n",
    "    \n",
    "c_ax=s2_data['signal']['chest']['ACC'][0:,0]#[baseline_to_plot]\n",
    "c_ay=s2_data['signal']['chest']['ACC'][0:,1]#[baseline_to_plot]#[0:100] # hundred values\n",
    "c_az=s2_data['signal']['chest']['ACC'][0:,2]#[baseline_to_plot]\n",
    "c_ecg=s2_data['signal']['chest']['ECG'][:,0]#[baseline_to_plot]\n",
    "c_emg=s2_data['signal']['chest']['EMG'][:,0]#[baseline_to_plot]\n",
    "c_eda=s2_data['signal']['chest']['EDA'][:,0]#[baseline_to_plot]\n",
    "c_temp=s2_data['signal']['chest']['Temp'][:,0]#[baseline_to_plot]\n",
    "c_resp=s2_data['signal']['chest']['Resp'][:,0]#[baseline_to_plot]\n",
    "w_ax=s2_data['signal']['wrist']['ACC'][0:,0]#[stress_to_plot]\n",
    "w_ay=s2_data['signal']['wrist']['ACC'][0:,1]#[stress_to_plot]\n",
    "w_az=s2_data['signal']['wrist']['ACC'][0:,2]#[stress_to_plot]\n",
    "w_bvp=s2_data['signal']['wrist']['BVP'][:,0]#[stress_to_plot]\n",
    "w_eda=s2_data['signal']['wrist']['EDA'][:,0]#[stress_to_plot]\n",
    "w_temp=s2_data['signal']['wrist']['TEMP'][:,0]#[stress_to_plot]\n",
    "w_label=s2_data['label']\n",
    "\n",
    "print(\"Equated\")    \n",
    "\n",
    "numpy_data1=np.array([c_ax, c_ay, c_az,c_ecg,c_emg,c_eda,c_temp,c_resp,w_label])\n",
    "numpy_data1=numpy_data1.T\n",
    "\n",
    "#df = pd.DataFrame(data=numpy_data1, columns=[\"c_ax\", \"c_ay\", \"c_az\",\"c_ecg\",\"c_emg\",\"c_eda\",\"c_temp\",\"c_resp\",\"w_ax\",\"w_ay\",\"w_az\",\"w_bvp\",\"w_eda\",\"w_temp\"],orient='index') \n",
    "df = pd.DataFrame(data=numpy_data1, columns=[\"c_ax\", \"c_ay\", \"c_az\",\"c_ecg\",\"c_emg\",\"c_eda\",\"c_temp\",\"c_resp\",\"w_label\"]) \n",
    "\n",
    "print(\"data frame combined\")\n"
   ]
  },
  {
   "cell_type": "code",
   "execution_count": 7,
   "metadata": {},
   "outputs": [
    {
     "name": "stdout",
     "output_type": "stream",
     "text": [
      "IQR is\n",
      " c_ax       0.176000\n",
      "c_ay       0.278400\n",
      "c_az       0.325800\n",
      "c_ecg      0.082535\n",
      "c_emg      0.014053\n",
      "c_eda      1.303101\n",
      "c_temp     0.748199\n",
      "c_resp     2.604675\n",
      "w_label    2.000000\n",
      "dtype: float64\n",
      "(3477008, 9)\n"
     ]
    }
   ],
   "source": [
    "Q1 = df.quantile(0.25)\n",
    "Q3 = df.quantile(0.75)\n",
    "IQR = Q3 - Q1\n",
    "print(\"IQR is\\n\", IQR)\n",
    "#print((df < (Q1 - 1.5 * IQR)) |(df > (Q3 + 1.5 * IQR)) )\n",
    "df_out = df[~((df < (Q1 - 1.5 * IQR)) |(df > (Q3 + 1.5 * IQR))).any(axis=1)]\n",
    "print(df_out.shape)"
   ]
  },
  {
   "cell_type": "code",
   "execution_count": 8,
   "metadata": {},
   "outputs": [],
   "source": [
    "norm_df_out=(df_out-df_out.mean())/df_out.std()\n",
    "\n",
    "norm_y_4 = df_out.w_label #keep original labels Dont normalize labels\n",
    "norm_x_4 = norm_df_out.drop('w_label',axis=1)\n",
    "\n",
    "\n",
    "norm_x_train_4,norm_x_test_4,norm_y_train_4,norm_y_test_4=train_test_split(norm_x_4,norm_y_4,test_size=0.2)"
   ]
  },
  {
   "cell_type": "code",
   "execution_count": 9,
   "metadata": {},
   "outputs": [
    {
     "name": "stdout",
     "output_type": "stream",
     "text": [
      "              precision    recall  f1-score   support\n",
      "\n",
      "         0.0     0.9597    0.9610    0.9603   1713784\n",
      "         1.0     0.9903    0.9684    0.9793    730251\n",
      "         2.0     0.9535    0.9139    0.9333    249989\n",
      "         3.0     0.9018    0.9298    0.9156    240806\n",
      "         4.0     0.9734    0.9865    0.9799    511138\n",
      "         5.0     0.7338    0.9667    0.8343     31040\n",
      "\n",
      "    accuracy                         0.9608   3477008\n",
      "   macro avg     0.9188    0.9544    0.9338   3477008\n",
      "weighted avg     0.9617    0.9608    0.9610   3477008\n",
      "\n"
     ]
    }
   ],
   "source": [
    "qda_clf = QuadraticDiscriminantAnalysis(priors=None, reg_param=0)\n",
    "norm_y_out_4 = cross_val_predict(qda_clf, norm_x_4, norm_y_4, cv=10)\n",
    "lm_4=(classification_report(norm_y_4, norm_y_out_4, digits=4))\n",
    "print(lm_4)\n"
   ]
  },
  {
   "cell_type": "code",
   "execution_count": null,
   "metadata": {},
   "outputs": [],
   "source": []
  },
  {
   "cell_type": "code",
   "execution_count": 2,
   "metadata": {},
   "outputs": [
    {
     "name": "stdout",
     "output_type": "stream",
     "text": [
      "Equated\n",
      "data frame combined\n"
     ]
    }
   ],
   "source": [
    "data_set = '/home/dhananjai/Downloads/Spring_2020/Machine_Learning/ML_Project/dataset/WESAD/'\n",
    "\n",
    "s10_path = data_set + 'S10/S10.pkl'\n",
    "\n",
    "with open(s10_path, 'rb') as file:\n",
    "    s2_data = pickle.load(file, encoding='latin1')\n",
    "    \n",
    "c_ax=s2_data['signal']['chest']['ACC'][0:,0]#[baseline_to_plot]\n",
    "c_ay=s2_data['signal']['chest']['ACC'][0:,1]#[baseline_to_plot]#[0:100] # hundred values\n",
    "c_az=s2_data['signal']['chest']['ACC'][0:,2]#[baseline_to_plot]\n",
    "c_ecg=s2_data['signal']['chest']['ECG'][:,0]#[baseline_to_plot]\n",
    "c_emg=s2_data['signal']['chest']['EMG'][:,0]#[baseline_to_plot]\n",
    "c_eda=s2_data['signal']['chest']['EDA'][:,0]#[baseline_to_plot]\n",
    "c_temp=s2_data['signal']['chest']['Temp'][:,0]#[baseline_to_plot]\n",
    "c_resp=s2_data['signal']['chest']['Resp'][:,0]#[baseline_to_plot]\n",
    "w_ax=s2_data['signal']['wrist']['ACC'][0:,0]#[stress_to_plot]\n",
    "w_ay=s2_data['signal']['wrist']['ACC'][0:,1]#[stress_to_plot]\n",
    "w_az=s2_data['signal']['wrist']['ACC'][0:,2]#[stress_to_plot]\n",
    "w_bvp=s2_data['signal']['wrist']['BVP'][:,0]#[stress_to_plot]\n",
    "w_eda=s2_data['signal']['wrist']['EDA'][:,0]#[stress_to_plot]\n",
    "w_temp=s2_data['signal']['wrist']['TEMP'][:,0]#[stress_to_plot]\n",
    "w_label=s2_data['label']\n",
    "\n",
    "print(\"Equated\")    \n",
    "\n",
    "numpy_data1=np.array([c_ax, c_ay, c_az,c_ecg,c_emg,c_eda,c_temp,c_resp,w_label])\n",
    "numpy_data1=numpy_data1.T\n",
    "\n",
    "#df = pd.DataFrame(data=numpy_data1, columns=[\"c_ax\", \"c_ay\", \"c_az\",\"c_ecg\",\"c_emg\",\"c_eda\",\"c_temp\",\"c_resp\",\"w_ax\",\"w_ay\",\"w_az\",\"w_bvp\",\"w_eda\",\"w_temp\"],orient='index') \n",
    "df = pd.DataFrame(data=numpy_data1, columns=[\"c_ax\", \"c_ay\", \"c_az\",\"c_ecg\",\"c_emg\",\"c_eda\",\"c_temp\",\"c_resp\",\"w_label\"]) \n",
    "\n",
    "print(\"data frame combined\")\n"
   ]
  },
  {
   "cell_type": "code",
   "execution_count": 3,
   "metadata": {},
   "outputs": [
    {
     "name": "stdout",
     "output_type": "stream",
     "text": [
      "IQR is\n",
      " c_ax       0.167200\n",
      "c_ay       0.082400\n",
      "c_az       0.446000\n",
      "c_ecg      0.093201\n",
      "c_emg      0.012085\n",
      "c_eda      0.819397\n",
      "c_temp     0.877563\n",
      "c_resp     4.107666\n",
      "w_label    2.000000\n",
      "dtype: float64\n",
      "(3136816, 9)\n"
     ]
    }
   ],
   "source": [
    "Q1 = df.quantile(0.25)\n",
    "Q3 = df.quantile(0.75)\n",
    "IQR = Q3 - Q1\n",
    "print(\"IQR is\\n\", IQR)\n",
    "#print((df < (Q1 - 1.5 * IQR)) |(df > (Q3 + 1.5 * IQR)) )\n",
    "df_out = df[~((df < (Q1 - 1.5 * IQR)) |(df > (Q3 + 1.5 * IQR))).any(axis=1)]\n",
    "print(df_out.shape)"
   ]
  },
  {
   "cell_type": "code",
   "execution_count": 4,
   "metadata": {},
   "outputs": [],
   "source": [
    "norm_df_out=(df_out-df_out.mean())/df_out.std()\n",
    "\n",
    "norm_y_10 = df_out.w_label #keep original labels Dont normalize labels\n",
    "norm_x_10 = norm_df_out.drop('w_label',axis=1)\n",
    "\n",
    "\n",
    "norm_x_train_10,norm_x_test_10,norm_y_train_10,norm_y_test_10=train_test_split(norm_x_10,norm_y_10,test_size=0.2)"
   ]
  },
  {
   "cell_type": "code",
   "execution_count": 5,
   "metadata": {},
   "outputs": [
    {
     "name": "stdout",
     "output_type": "stream",
     "text": [
      "              precision    recall  f1-score   support\n",
      "\n",
      "         0.0     0.9154    0.9167    0.9160   1271327\n",
      "         1.0     0.9855    0.9211    0.9522    694250\n",
      "         2.0     0.9388    0.8883    0.9129    411653\n",
      "         3.0     0.9034    0.9840    0.9420    235466\n",
      "         4.0     0.9394    0.9959    0.9668    497389\n",
      "         5.0     0.6162    0.9548    0.7490     26731\n",
      "\n",
      "    accuracy                         0.9319   3136816\n",
      "   macro avg     0.8831    0.9435    0.9065   3136816\n",
      "weighted avg     0.9343    0.9319    0.9322   3136816\n",
      "\n"
     ]
    }
   ],
   "source": [
    "qda_clf = QuadraticDiscriminantAnalysis(priors=None, reg_param=0)\n",
    "norm_y_out_10 = cross_val_predict(qda_clf, norm_x_10, norm_y_10, cv=10)\n",
    "lm_10=(classification_report(norm_y_10, norm_y_out_10, digits=4))\n",
    "print(lm_10)\n"
   ]
  },
  {
   "cell_type": "code",
   "execution_count": null,
   "metadata": {},
   "outputs": [],
   "source": []
  },
  {
   "cell_type": "code",
   "execution_count": 7,
   "metadata": {},
   "outputs": [
    {
     "name": "stdout",
     "output_type": "stream",
     "text": [
      "Equated\n",
      "data frame combined\n"
     ]
    }
   ],
   "source": [
    "data_set = '/home/dhananjai/Downloads/Spring_2020/Machine_Learning/ML_Project/dataset/WESAD/'\n",
    "\n",
    "s11_path = data_set + 'S11/S11.pkl'\n",
    "\n",
    "with open(s11_path, 'rb') as file:\n",
    "    s2_data = pickle.load(file, encoding='latin1')\n",
    "    \n",
    "c_ax=s2_data['signal']['chest']['ACC'][0:,0]#[baseline_to_plot]\n",
    "c_ay=s2_data['signal']['chest']['ACC'][0:,1]#[baseline_to_plot]#[0:100] # hundred values\n",
    "c_az=s2_data['signal']['chest']['ACC'][0:,2]#[baseline_to_plot]\n",
    "c_ecg=s2_data['signal']['chest']['ECG'][:,0]#[baseline_to_plot]\n",
    "c_emg=s2_data['signal']['chest']['EMG'][:,0]#[baseline_to_plot]\n",
    "c_eda=s2_data['signal']['chest']['EDA'][:,0]#[baseline_to_plot]\n",
    "c_temp=s2_data['signal']['chest']['Temp'][:,0]#[baseline_to_plot]\n",
    "c_resp=s2_data['signal']['chest']['Resp'][:,0]#[baseline_to_plot]\n",
    "w_ax=s2_data['signal']['wrist']['ACC'][0:,0]#[stress_to_plot]\n",
    "w_ay=s2_data['signal']['wrist']['ACC'][0:,1]#[stress_to_plot]\n",
    "w_az=s2_data['signal']['wrist']['ACC'][0:,2]#[stress_to_plot]\n",
    "w_bvp=s2_data['signal']['wrist']['BVP'][:,0]#[stress_to_plot]\n",
    "w_eda=s2_data['signal']['wrist']['EDA'][:,0]#[stress_to_plot]\n",
    "w_temp=s2_data['signal']['wrist']['TEMP'][:,0]#[stress_to_plot]\n",
    "w_label=s2_data['label']\n",
    "\n",
    "print(\"Equated\")    \n",
    "\n",
    "numpy_data1=np.array([c_ax, c_ay, c_az,c_ecg,c_emg,c_eda,c_temp,c_resp,w_label])\n",
    "numpy_data1=numpy_data1.T\n",
    "\n",
    "#df = pd.DataFrame(data=numpy_data1, columns=[\"c_ax\", \"c_ay\", \"c_az\",\"c_ecg\",\"c_emg\",\"c_eda\",\"c_temp\",\"c_resp\",\"w_ax\",\"w_ay\",\"w_az\",\"w_bvp\",\"w_eda\",\"w_temp\"],orient='index') \n",
    "df = pd.DataFrame(data=numpy_data1, columns=[\"c_ax\", \"c_ay\", \"c_az\",\"c_ecg\",\"c_emg\",\"c_eda\",\"c_temp\",\"c_resp\",\"w_label\"]) \n",
    "\n",
    "print(\"data frame combined\")\n"
   ]
  },
  {
   "cell_type": "code",
   "execution_count": 8,
   "metadata": {},
   "outputs": [
    {
     "name": "stdout",
     "output_type": "stream",
     "text": [
      "IQR is\n",
      " c_ax       0.030000\n",
      "c_ay       0.054600\n",
      "c_az       0.105600\n",
      "c_ecg      0.149185\n",
      "c_emg      0.013596\n",
      "c_eda      0.374985\n",
      "c_temp     0.418396\n",
      "c_resp     4.327393\n",
      "w_label    3.000000\n",
      "dtype: float64\n",
      "(2317609, 9)\n"
     ]
    }
   ],
   "source": [
    "Q1 = df.quantile(0.25)\n",
    "Q3 = df.quantile(0.75)\n",
    "IQR = Q3 - Q1\n",
    "print(\"IQR is\\n\", IQR)\n",
    "#print((df < (Q1 - 1.5 * IQR)) |(df > (Q3 + 1.5 * IQR)) )\n",
    "df_out = df[~((df < (Q1 - 1.5 * IQR)) |(df > (Q3 + 1.5 * IQR))).any(axis=1)]\n",
    "print(df_out.shape)"
   ]
  },
  {
   "cell_type": "code",
   "execution_count": 9,
   "metadata": {},
   "outputs": [],
   "source": [
    "norm_df_out=(df_out-df_out.mean())/df_out.std()\n",
    "\n",
    "norm_y_11 = df_out.w_label #keep original labels Dont normalize labels\n",
    "norm_x_11 = norm_df_out.drop('w_label',axis=1)\n",
    "\n",
    "\n",
    "norm_x_train_11,norm_x_test_11,norm_y_train_11,norm_y_test_11=train_test_split(norm_x_11,norm_y_11,test_size=0.2)"
   ]
  },
  {
   "cell_type": "code",
   "execution_count": 10,
   "metadata": {},
   "outputs": [
    {
     "name": "stdout",
     "output_type": "stream",
     "text": [
      "              precision    recall  f1-score   support\n",
      "\n",
      "         0.0     0.7993    0.7059    0.7497    773070\n",
      "         1.0     0.9561    0.8723    0.9123    651869\n",
      "         2.0     0.8132    0.9185    0.8627    271090\n",
      "         3.0     0.8773    0.9077    0.8922    230729\n",
      "         4.0     0.7569    0.8778    0.8129    322729\n",
      "         5.0     0.5808    0.9629    0.7245     31224\n",
      "         6.0     0.4296    0.9478    0.5912      5246\n",
      "         7.0     0.4731    0.8594    0.6103     31652\n",
      "\n",
      "    accuracy                         0.8277   2317609\n",
      "   macro avg     0.7108    0.8816    0.7695   2317609\n",
      "weighted avg     0.8386    0.8277    0.8290   2317609\n",
      "\n"
     ]
    }
   ],
   "source": [
    "qda_clf = QuadraticDiscriminantAnalysis(priors=None, reg_param=0)\n",
    "norm_y_out_11 = cross_val_predict(qda_clf, norm_x_11, norm_y_11, cv=10)\n",
    "lm_11=(classification_report(norm_y_11, norm_y_out_11, digits=4))\n",
    "print(lm_11)\n"
   ]
  },
  {
   "cell_type": "code",
   "execution_count": null,
   "metadata": {},
   "outputs": [],
   "source": []
  },
  {
   "cell_type": "code",
   "execution_count": 2,
   "metadata": {},
   "outputs": [
    {
     "name": "stdout",
     "output_type": "stream",
     "text": [
      "Equated\n",
      "data frame combined\n"
     ]
    }
   ],
   "source": [
    "data_set = '/home/dhananjai/Downloads/Spring_2020/Machine_Learning/ML_Project/dataset/WESAD/'\n",
    "\n",
    "s16_path = data_set + 'S16/S16.pkl'\n",
    "\n",
    "with open(s16_path, 'rb') as file:\n",
    "    s2_data = pickle.load(file, encoding='latin1')\n",
    "    \n",
    "c_ax=s2_data['signal']['chest']['ACC'][0:,0]#[baseline_to_plot]\n",
    "c_ay=s2_data['signal']['chest']['ACC'][0:,1]#[baseline_to_plot]#[0:100] # hundred values\n",
    "c_az=s2_data['signal']['chest']['ACC'][0:,2]#[baseline_to_plot]\n",
    "c_ecg=s2_data['signal']['chest']['ECG'][:,0]#[baseline_to_plot]\n",
    "c_emg=s2_data['signal']['chest']['EMG'][:,0]#[baseline_to_plot]\n",
    "c_eda=s2_data['signal']['chest']['EDA'][:,0]#[baseline_to_plot]\n",
    "c_temp=s2_data['signal']['chest']['Temp'][:,0]#[baseline_to_plot]\n",
    "c_resp=s2_data['signal']['chest']['Resp'][:,0]#[baseline_to_plot]\n",
    "w_ax=s2_data['signal']['wrist']['ACC'][0:,0]#[stress_to_plot]\n",
    "w_ay=s2_data['signal']['wrist']['ACC'][0:,1]#[stress_to_plot]\n",
    "w_az=s2_data['signal']['wrist']['ACC'][0:,2]#[stress_to_plot]\n",
    "w_bvp=s2_data['signal']['wrist']['BVP'][:,0]#[stress_to_plot]\n",
    "w_eda=s2_data['signal']['wrist']['EDA'][:,0]#[stress_to_plot]\n",
    "w_temp=s2_data['signal']['wrist']['TEMP'][:,0]#[stress_to_plot]\n",
    "w_label=s2_data['label']\n",
    "\n",
    "print(\"Equated\")    \n",
    "\n",
    "numpy_data1=np.array([c_ax, c_ay, c_az,c_ecg,c_emg,c_eda,c_temp,c_resp,w_label])\n",
    "numpy_data1=numpy_data1.T\n",
    "\n",
    "#df = pd.DataFrame(data=numpy_data1, columns=[\"c_ax\", \"c_ay\", \"c_az\",\"c_ecg\",\"c_emg\",\"c_eda\",\"c_temp\",\"c_resp\",\"w_ax\",\"w_ay\",\"w_az\",\"w_bvp\",\"w_eda\",\"w_temp\"],orient='index') \n",
    "df = pd.DataFrame(data=numpy_data1, columns=[\"c_ax\", \"c_ay\", \"c_az\",\"c_ecg\",\"c_emg\",\"c_eda\",\"c_temp\",\"c_resp\",\"w_label\"]) \n",
    "\n",
    "print(\"data frame combined\")\n"
   ]
  },
  {
   "cell_type": "code",
   "execution_count": 3,
   "metadata": {},
   "outputs": [
    {
     "name": "stdout",
     "output_type": "stream",
     "text": [
      "IQR is\n",
      " c_ax       0.026600\n",
      "c_ay       0.057600\n",
      "c_az       0.201200\n",
      "c_ecg      0.169556\n",
      "c_emg      0.014053\n",
      "c_eda      1.145554\n",
      "c_temp     0.399445\n",
      "c_resp     4.496765\n",
      "w_label    2.000000\n",
      "dtype: float64\n",
      "(2609393, 9)\n"
     ]
    }
   ],
   "source": [
    "Q1 = df.quantile(0.25)\n",
    "Q3 = df.quantile(0.75)\n",
    "IQR = Q3 - Q1\n",
    "print(\"IQR is\\n\", IQR)\n",
    "#print((df < (Q1 - 1.5 * IQR)) |(df > (Q3 + 1.5 * IQR)) )\n",
    "df_out = df[~((df < (Q1 - 1.5 * IQR)) |(df > (Q3 + 1.5 * IQR))).any(axis=1)]\n",
    "print(df_out.shape)"
   ]
  },
  {
   "cell_type": "code",
   "execution_count": 4,
   "metadata": {},
   "outputs": [],
   "source": [
    "norm_df_out=(df_out-df_out.mean())/df_out.std()\n",
    "\n",
    "norm_y_16 = df_out.w_label #keep original labels Dont normalize labels\n",
    "norm_x_16 = norm_df_out.drop('w_label',axis=1)\n",
    "\n",
    "\n",
    "norm_x_train_16,norm_x_test_16,norm_y_train_16,norm_y_test_16=train_test_split(norm_x_16,norm_y_16,test_size=0.2)"
   ]
  },
  {
   "cell_type": "code",
   "execution_count": 5,
   "metadata": {},
   "outputs": [
    {
     "data": {
      "text/html": [
       "<div>\n",
       "<style scoped>\n",
       "    .dataframe tbody tr th:only-of-type {\n",
       "        vertical-align: middle;\n",
       "    }\n",
       "\n",
       "    .dataframe tbody tr th {\n",
       "        vertical-align: top;\n",
       "    }\n",
       "\n",
       "    .dataframe thead th {\n",
       "        text-align: right;\n",
       "    }\n",
       "</style>\n",
       "<table border=\"1\" class=\"dataframe\">\n",
       "  <thead>\n",
       "    <tr style=\"text-align: right;\">\n",
       "      <th></th>\n",
       "      <th>c_ax</th>\n",
       "      <th>c_ay</th>\n",
       "      <th>c_az</th>\n",
       "      <th>c_ecg</th>\n",
       "      <th>c_emg</th>\n",
       "      <th>c_eda</th>\n",
       "      <th>c_temp</th>\n",
       "      <th>c_resp</th>\n",
       "    </tr>\n",
       "  </thead>\n",
       "  <tbody>\n",
       "    <tr>\n",
       "      <td>27</td>\n",
       "      <td>1.746846</td>\n",
       "      <td>1.395111</td>\n",
       "      <td>-0.683393</td>\n",
       "      <td>1.260605</td>\n",
       "      <td>-2.186626</td>\n",
       "      <td>-1.151133</td>\n",
       "      <td>-2.634397</td>\n",
       "      <td>-0.554159</td>\n",
       "    </tr>\n",
       "    <tr>\n",
       "      <td>51</td>\n",
       "      <td>1.368761</td>\n",
       "      <td>-1.441374</td>\n",
       "      <td>0.503065</td>\n",
       "      <td>0.237084</td>\n",
       "      <td>2.249138</td>\n",
       "      <td>-1.141169</td>\n",
       "      <td>-2.523829</td>\n",
       "      <td>-0.695345</td>\n",
       "    </tr>\n",
       "    <tr>\n",
       "      <td>52</td>\n",
       "      <td>0.682233</td>\n",
       "      <td>-1.560388</td>\n",
       "      <td>0.471760</td>\n",
       "      <td>-0.008618</td>\n",
       "      <td>2.628958</td>\n",
       "      <td>-1.155852</td>\n",
       "      <td>-2.483013</td>\n",
       "      <td>-0.631451</td>\n",
       "    </tr>\n",
       "    <tr>\n",
       "      <td>53</td>\n",
       "      <td>-0.173438</td>\n",
       "      <td>-1.580224</td>\n",
       "      <td>0.415411</td>\n",
       "      <td>-0.255027</td>\n",
       "      <td>2.425483</td>\n",
       "      <td>-1.157949</td>\n",
       "      <td>-2.541120</td>\n",
       "      <td>-0.623206</td>\n",
       "    </tr>\n",
       "    <tr>\n",
       "      <td>54</td>\n",
       "      <td>-0.800264</td>\n",
       "      <td>-1.609977</td>\n",
       "      <td>0.371584</td>\n",
       "      <td>-0.338934</td>\n",
       "      <td>0.860983</td>\n",
       "      <td>-1.077720</td>\n",
       "      <td>-2.605226</td>\n",
       "      <td>-0.629390</td>\n",
       "    </tr>\n",
       "    <tr>\n",
       "      <td>...</td>\n",
       "      <td>...</td>\n",
       "      <td>...</td>\n",
       "      <td>...</td>\n",
       "      <td>...</td>\n",
       "      <td>...</td>\n",
       "      <td>...</td>\n",
       "      <td>...</td>\n",
       "      <td>...</td>\n",
       "    </tr>\n",
       "    <tr>\n",
       "      <td>3941695</td>\n",
       "      <td>0.403643</td>\n",
       "      <td>0.066128</td>\n",
       "      <td>-0.151209</td>\n",
       "      <td>0.154948</td>\n",
       "      <td>-2.335841</td>\n",
       "      <td>0.537880</td>\n",
       "      <td>0.742274</td>\n",
       "      <td>-0.952468</td>\n",
       "    </tr>\n",
       "    <tr>\n",
       "      <td>3941696</td>\n",
       "      <td>0.353893</td>\n",
       "      <td>0.051251</td>\n",
       "      <td>-0.193470</td>\n",
       "      <td>0.189289</td>\n",
       "      <td>-1.616895</td>\n",
       "      <td>0.407310</td>\n",
       "      <td>0.854135</td>\n",
       "      <td>-0.948861</td>\n",
       "    </tr>\n",
       "    <tr>\n",
       "      <td>3941697</td>\n",
       "      <td>0.373795</td>\n",
       "      <td>0.056210</td>\n",
       "      <td>-0.173122</td>\n",
       "      <td>0.175836</td>\n",
       "      <td>-1.001947</td>\n",
       "      <td>0.396299</td>\n",
       "      <td>0.971996</td>\n",
       "      <td>-0.946800</td>\n",
       "    </tr>\n",
       "    <tr>\n",
       "      <td>3941698</td>\n",
       "      <td>0.333996</td>\n",
       "      <td>0.095881</td>\n",
       "      <td>-0.173122</td>\n",
       "      <td>0.229295</td>\n",
       "      <td>-0.088568</td>\n",
       "      <td>0.388957</td>\n",
       "      <td>0.960351</td>\n",
       "      <td>-0.950407</td>\n",
       "    </tr>\n",
       "    <tr>\n",
       "      <td>3941699</td>\n",
       "      <td>0.204653</td>\n",
       "      <td>0.095881</td>\n",
       "      <td>-0.173122</td>\n",
       "      <td>0.288065</td>\n",
       "      <td>1.322194</td>\n",
       "      <td>0.387909</td>\n",
       "      <td>1.013282</td>\n",
       "      <td>-0.951953</td>\n",
       "    </tr>\n",
       "  </tbody>\n",
       "</table>\n",
       "<p>2609393 rows × 8 columns</p>\n",
       "</div>"
      ],
      "text/plain": [
       "             c_ax      c_ay      c_az     c_ecg     c_emg     c_eda    c_temp  \\\n",
       "27       1.746846  1.395111 -0.683393  1.260605 -2.186626 -1.151133 -2.634397   \n",
       "51       1.368761 -1.441374  0.503065  0.237084  2.249138 -1.141169 -2.523829   \n",
       "52       0.682233 -1.560388  0.471760 -0.008618  2.628958 -1.155852 -2.483013   \n",
       "53      -0.173438 -1.580224  0.415411 -0.255027  2.425483 -1.157949 -2.541120   \n",
       "54      -0.800264 -1.609977  0.371584 -0.338934  0.860983 -1.077720 -2.605226   \n",
       "...           ...       ...       ...       ...       ...       ...       ...   \n",
       "3941695  0.403643  0.066128 -0.151209  0.154948 -2.335841  0.537880  0.742274   \n",
       "3941696  0.353893  0.051251 -0.193470  0.189289 -1.616895  0.407310  0.854135   \n",
       "3941697  0.373795  0.056210 -0.173122  0.175836 -1.001947  0.396299  0.971996   \n",
       "3941698  0.333996  0.095881 -0.173122  0.229295 -0.088568  0.388957  0.960351   \n",
       "3941699  0.204653  0.095881 -0.173122  0.288065  1.322194  0.387909  1.013282   \n",
       "\n",
       "           c_resp  \n",
       "27      -0.554159  \n",
       "51      -0.695345  \n",
       "52      -0.631451  \n",
       "53      -0.623206  \n",
       "54      -0.629390  \n",
       "...           ...  \n",
       "3941695 -0.952468  \n",
       "3941696 -0.948861  \n",
       "3941697 -0.946800  \n",
       "3941698 -0.950407  \n",
       "3941699 -0.951953  \n",
       "\n",
       "[2609393 rows x 8 columns]"
      ]
     },
     "execution_count": 5,
     "metadata": {},
     "output_type": "execute_result"
    }
   ],
   "source": [
    "norm_x_16"
   ]
  },
  {
   "cell_type": "code",
   "execution_count": 6,
   "metadata": {},
   "outputs": [
    {
     "name": "stdout",
     "output_type": "stream",
     "text": [
      "              precision    recall  f1-score   support\n",
      "\n",
      "         0.0     0.8871    0.8691    0.8780   1211982\n",
      "         1.0     0.9844    0.9013    0.9411    693218\n",
      "         2.0     0.7624    0.8202    0.7902    159718\n",
      "         3.0     0.8349    0.8922    0.8626    235242\n",
      "         4.0     0.8643    0.9630    0.9110    272893\n",
      "         5.0     0.5764    0.9520    0.7180     36340\n",
      "\n",
      "    accuracy                         0.8877   2609393\n",
      "   macro avg     0.8183    0.8996    0.8502   2609393\n",
      "weighted avg     0.8939    0.8877    0.8892   2609393\n",
      "\n"
     ]
    }
   ],
   "source": [
    "qda_clf = QuadraticDiscriminantAnalysis(priors=None, reg_param=0)\n",
    "norm_y_out_16 = cross_val_predict(qda_clf, norm_x_16, norm_y_16, cv=10)\n",
    "lm_16=(classification_report(norm_y_16, norm_y_out_16, digits=4))\n",
    "print(lm_16)\n"
   ]
  },
  {
   "cell_type": "code",
   "execution_count": null,
   "metadata": {},
   "outputs": [],
   "source": []
  },
  {
   "cell_type": "code",
   "execution_count": null,
   "metadata": {},
   "outputs": [],
   "source": []
  },
  {
   "cell_type": "code",
   "execution_count": null,
   "metadata": {},
   "outputs": [],
   "source": []
  },
  {
   "cell_type": "code",
   "execution_count": null,
   "metadata": {},
   "outputs": [],
   "source": []
  },
  {
   "cell_type": "code",
   "execution_count": null,
   "metadata": {},
   "outputs": [],
   "source": []
  },
  {
   "cell_type": "code",
   "execution_count": 2,
   "metadata": {},
   "outputs": [
    {
     "name": "stdout",
     "output_type": "stream",
     "text": [
      "Equated\n",
      "data frame combined\n"
     ]
    }
   ],
   "source": [
    "data_set = '/home/dhananjai/Downloads/Spring_2020/Machine_Learning/ML_Project/dataset/WESAD/'\n",
    "\n",
    "s17_path = data_set + 'S17/S17.pkl'\n",
    "\n",
    "with open(s17_path, 'rb') as file:\n",
    "    s2_data = pickle.load(file, encoding='latin1')\n",
    "    \n",
    "c_ax=s2_data['signal']['chest']['ACC'][0:,0]#[baseline_to_plot]\n",
    "c_ay=s2_data['signal']['chest']['ACC'][0:,1]#[baseline_to_plot]#[0:100] # hundred values\n",
    "c_az=s2_data['signal']['chest']['ACC'][0:,2]#[baseline_to_plot]\n",
    "c_ecg=s2_data['signal']['chest']['ECG'][:,0]#[baseline_to_plot]\n",
    "c_emg=s2_data['signal']['chest']['EMG'][:,0]#[baseline_to_plot]\n",
    "c_eda=s2_data['signal']['chest']['EDA'][:,0]#[baseline_to_plot]\n",
    "c_temp=s2_data['signal']['chest']['Temp'][:,0]#[baseline_to_plot]\n",
    "c_resp=s2_data['signal']['chest']['Resp'][:,0]#[baseline_to_plot]\n",
    "w_ax=s2_data['signal']['wrist']['ACC'][0:,0]#[stress_to_plot]\n",
    "w_ay=s2_data['signal']['wrist']['ACC'][0:,1]#[stress_to_plot]\n",
    "w_az=s2_data['signal']['wrist']['ACC'][0:,2]#[stress_to_plot]\n",
    "w_bvp=s2_data['signal']['wrist']['BVP'][:,0]#[stress_to_plot]\n",
    "w_eda=s2_data['signal']['wrist']['EDA'][:,0]#[stress_to_plot]\n",
    "w_temp=s2_data['signal']['wrist']['TEMP'][:,0]#[stress_to_plot]\n",
    "w_label=s2_data['label']\n",
    "\n",
    "print(\"Equated\")    \n",
    "\n",
    "numpy_data1=np.array([c_ax, c_ay, c_az,c_ecg,c_emg,c_eda,c_temp,c_resp,w_label])\n",
    "numpy_data1=numpy_data1.T\n",
    "\n",
    "#df = pd.DataFrame(data=numpy_data1, columns=[\"c_ax\", \"c_ay\", \"c_az\",\"c_ecg\",\"c_emg\",\"c_eda\",\"c_temp\",\"c_resp\",\"w_ax\",\"w_ay\",\"w_az\",\"w_bvp\",\"w_eda\",\"w_temp\"],orient='index') \n",
    "df = pd.DataFrame(data=numpy_data1, columns=[\"c_ax\", \"c_ay\", \"c_az\",\"c_ecg\",\"c_emg\",\"c_eda\",\"c_temp\",\"c_resp\",\"w_label\"]) \n",
    "\n",
    "print(\"data frame combined\")\n"
   ]
  },
  {
   "cell_type": "code",
   "execution_count": 3,
   "metadata": {},
   "outputs": [
    {
     "name": "stdout",
     "output_type": "stream",
     "text": [
      "IQR is\n",
      " c_ax       0.491200\n",
      "c_ay       0.086800\n",
      "c_az       0.610000\n",
      "c_ecg      0.128815\n",
      "c_emg      0.015289\n",
      "c_eda      1.486588\n",
      "c_temp     0.576874\n",
      "c_resp     5.038452\n",
      "w_label    2.000000\n",
      "dtype: float64\n",
      "(3200355, 9)\n"
     ]
    }
   ],
   "source": [
    "Q1 = df.quantile(0.25)\n",
    "Q3 = df.quantile(0.75)\n",
    "IQR = Q3 - Q1\n",
    "print(\"IQR is\\n\", IQR)\n",
    "#print((df < (Q1 - 1.5 * IQR)) |(df > (Q3 + 1.5 * IQR)) )\n",
    "df_out = df[~((df < (Q1 - 1.5 * IQR)) |(df > (Q3 + 1.5 * IQR))).any(axis=1)]\n",
    "print(df_out.shape)"
   ]
  },
  {
   "cell_type": "code",
   "execution_count": 4,
   "metadata": {},
   "outputs": [],
   "source": [
    "norm_df_out=(df_out-df_out.mean())/df_out.std()\n",
    "\n",
    "norm_y_17 = df_out.w_label #keep original labels Dont normalize labels\n",
    "norm_x_17 = norm_df_out.drop('w_label',axis=1)\n",
    "\n",
    "\n",
    "norm_x_train_17,norm_x_test_17,norm_y_train_17,norm_y_test_17=train_test_split(norm_x_17,norm_y_17,test_size=0.2)"
   ]
  },
  {
   "cell_type": "code",
   "execution_count": 5,
   "metadata": {},
   "outputs": [
    {
     "name": "stdout",
     "output_type": "stream",
     "text": [
      "              precision    recall  f1-score   support\n",
      "\n",
      "         0.0     0.8833    0.7893    0.8337   1433013\n",
      "         1.0     0.9889    0.9260    0.9564    695083\n",
      "         2.0     0.9675    0.9465    0.9569    371501\n",
      "         3.0     0.8625    0.9291    0.8945    237371\n",
      "         4.0     0.6080    0.8558    0.7109    427275\n",
      "         5.0     0.7288    0.9759    0.8344     36112\n",
      "\n",
      "    accuracy                         0.8586   3200355\n",
      "   macro avg     0.8398    0.9038    0.8645   3200355\n",
      "weighted avg     0.8760    0.8586    0.8628   3200355\n",
      "\n"
     ]
    }
   ],
   "source": [
    "qda_clf = QuadraticDiscriminantAnalysis(priors=None, reg_param=0)\n",
    "norm_y_out_17 = cross_val_predict(qda_clf, norm_x_17, norm_y_17, cv=10)\n",
    "lm_17=(classification_report(norm_y_17, norm_y_out_17, digits=4))\n",
    "print(lm_17)\n"
   ]
  },
  {
   "cell_type": "code",
   "execution_count": null,
   "metadata": {},
   "outputs": [],
   "source": []
  },
  {
   "cell_type": "code",
   "execution_count": null,
   "metadata": {},
   "outputs": [],
   "source": []
  },
  {
   "cell_type": "code",
   "execution_count": null,
   "metadata": {},
   "outputs": [],
   "source": []
  },
  {
   "cell_type": "code",
   "execution_count": null,
   "metadata": {},
   "outputs": [],
   "source": []
  },
  {
   "cell_type": "code",
   "execution_count": null,
   "metadata": {},
   "outputs": [],
   "source": []
  },
  {
   "cell_type": "code",
   "execution_count": null,
   "metadata": {},
   "outputs": [],
   "source": []
  },
  {
   "cell_type": "code",
   "execution_count": null,
   "metadata": {},
   "outputs": [],
   "source": []
  },
  {
   "cell_type": "code",
   "execution_count": null,
   "metadata": {},
   "outputs": [],
   "source": []
  },
  {
   "cell_type": "code",
   "execution_count": null,
   "metadata": {},
   "outputs": [],
   "source": []
  },
  {
   "cell_type": "code",
   "execution_count": null,
   "metadata": {},
   "outputs": [],
   "source": []
  },
  {
   "cell_type": "code",
   "execution_count": null,
   "metadata": {},
   "outputs": [],
   "source": []
  },
  {
   "cell_type": "code",
   "execution_count": null,
   "metadata": {},
   "outputs": [],
   "source": []
  },
  {
   "cell_type": "code",
   "execution_count": null,
   "metadata": {},
   "outputs": [],
   "source": []
  },
  {
   "cell_type": "code",
   "execution_count": null,
   "metadata": {},
   "outputs": [],
   "source": []
  },
  {
   "cell_type": "code",
   "execution_count": null,
   "metadata": {},
   "outputs": [],
   "source": []
  },
  {
   "cell_type": "code",
   "execution_count": null,
   "metadata": {},
   "outputs": [],
   "source": []
  },
  {
   "cell_type": "code",
   "execution_count": null,
   "metadata": {},
   "outputs": [],
   "source": []
  },
  {
   "cell_type": "code",
   "execution_count": null,
   "metadata": {},
   "outputs": [],
   "source": []
  },
  {
   "cell_type": "code",
   "execution_count": null,
   "metadata": {},
   "outputs": [],
   "source": []
  },
  {
   "cell_type": "code",
   "execution_count": null,
   "metadata": {},
   "outputs": [],
   "source": []
  },
  {
   "cell_type": "code",
   "execution_count": null,
   "metadata": {},
   "outputs": [],
   "source": []
  },
  {
   "cell_type": "code",
   "execution_count": null,
   "metadata": {},
   "outputs": [],
   "source": []
  },
  {
   "cell_type": "code",
   "execution_count": null,
   "metadata": {},
   "outputs": [],
   "source": []
  },
  {
   "cell_type": "code",
   "execution_count": null,
   "metadata": {},
   "outputs": [],
   "source": []
  },
  {
   "cell_type": "code",
   "execution_count": null,
   "metadata": {},
   "outputs": [],
   "source": []
  },
  {
   "cell_type": "code",
   "execution_count": null,
   "metadata": {},
   "outputs": [],
   "source": []
  },
  {
   "cell_type": "code",
   "execution_count": null,
   "metadata": {},
   "outputs": [],
   "source": []
  },
  {
   "cell_type": "code",
   "execution_count": null,
   "metadata": {},
   "outputs": [],
   "source": []
  },
  {
   "cell_type": "code",
   "execution_count": null,
   "metadata": {},
   "outputs": [],
   "source": []
  },
  {
   "cell_type": "code",
   "execution_count": null,
   "metadata": {},
   "outputs": [],
   "source": []
  },
  {
   "cell_type": "code",
   "execution_count": null,
   "metadata": {},
   "outputs": [],
   "source": []
  }
 ],
 "metadata": {
  "kernelspec": {
   "display_name": "Python 3",
   "language": "python",
   "name": "python3"
  },
  "language_info": {
   "codemirror_mode": {
    "name": "ipython",
    "version": 3
   },
   "file_extension": ".py",
   "mimetype": "text/x-python",
   "name": "python",
   "nbconvert_exporter": "python",
   "pygments_lexer": "ipython3",
   "version": "3.6.9"
  }
 },
 "nbformat": 4,
 "nbformat_minor": 2
}
